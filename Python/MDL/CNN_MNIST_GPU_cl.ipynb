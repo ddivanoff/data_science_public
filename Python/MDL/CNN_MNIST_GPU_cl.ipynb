{
 "cells": [
  {
   "cell_type": "code",
   "execution_count": 1,
   "metadata": {},
   "outputs": [],
   "source": [
    "# Deep Learning with CNN architecture and MNIST Dataset"
   ]
  },
  {
   "cell_type": "code",
   "execution_count": 2,
   "metadata": {},
   "outputs": [],
   "source": [
    "from sklearn.metrics import classification_report\n",
    "from sklearn.metrics import confusion_matrix\n",
    "from tensorflow.keras.utils import to_categorical\n",
    "from tensorflow.keras.models import Sequential\n",
    "from tensorflow.keras.layers import Conv2D, Dense, Flatten, MaxPooling2D\n",
    "from tensorflow.keras.datasets import mnist\n",
    "from sklearn.metrics import roc_curve,auc\n",
    "from sklearn.preprocessing import label_binarize\n",
    "from sklearn.multiclass import OneVsRestClassifier\n",
    "from sklearn.metrics import roc_auc_score\n",
    "from itertools import cycle\n",
    "\n",
    "import tensorflow as tf\n",
    "import time as time\n",
    "import numpy as np\n",
    "import matplotlib.pyplot as plt\n",
    "import scikitplot as skplt"
   ]
  },
  {
   "cell_type": "code",
   "execution_count": 3,
   "metadata": {},
   "outputs": [],
   "source": [
    "class cnn_mnist(object):\n",
    "    \n",
    "         \n",
    "    \"\"\"\n",
    "\n",
    "    A class to train a convolutional neural network with the \n",
    "    MNIST data set for image classification. \n",
    "\n",
    "    ...\n",
    "\n",
    "    Methods\n",
    "    -------\n",
    "    init_tf():\n",
    "        Lists the Tensorflow version along with all physical devices available (CPU and GPU).\n",
    "    data_load():\n",
    "        Loads the data, reshapes X_train/test to array with size: num_images, pix_x, pix_y, color_channel(s). \n",
    "        Normalization to bit depth of 2^8 is also applied. y_train/test are converted to categorical.\n",
    "    init_model():\n",
    "        The model architecture and methods for regularization as well as to prevent overfitting.\n",
    "    train_model():\n",
    "        Trains the model, depending on the available physical devices.\n",
    "    eval_model():\n",
    "        Evaluates the loss of missclassifications and the model's accuracy. Plots are included too.\n",
    "    pred_model():\n",
    "        Makes the predictions with y_test. Takes into account the wrongly classified images. Computes \n",
    "        precision, recall, accuracy and f1-score alongside the confusion matrix. \n",
    "        ROC curves are included too.\n",
    "    save_model():\n",
    "        Saves the model in .h5 format for further use. \n",
    "\n",
    "    \"\"\"\n",
    "            \n",
    "    \n",
    "    __slots__ = ['X_train', 'X_test', 'y_train', 'y_test',\n",
    "                 'cnn', 'model', 'loss', 'accuracy', 'cm', 'pred_summary',\n",
    "                 'predictions','images','incorrect_predictions']\n",
    "    \n",
    "    def __init__(self):\n",
    "        pass\n",
    "            \n",
    "        \n",
    "    def init_tf(self):\n",
    "        print('\\nTensorflow version:', tf.__version__)\n",
    "        print('\\nPhysical devices:\\n', tf.config.list_physical_devices())\n",
    "        print('\\nNumber of GPUs available:', len(tf.config.experimental.list_physical_devices('GPU')))\n",
    "\n",
    "\n",
    "    def data_load(self):\n",
    "\n",
    "        (self.X_train, self.y_train), (self.X_test, self.y_test) = mnist.load_data()\n",
    "        print('\\nData successfully loaded.')\n",
    "\n",
    "        self.X_train = self.X_train.reshape((60000, 28, 28, 1)) \n",
    "        self.X_train = self.X_train.astype('float32')/255\n",
    "        self.y_train = to_categorical(self.y_train)\n",
    "        self.X_test  = self.X_test.reshape((10000, 28, 28, 1))\n",
    "        self.X_test  = self.X_test.astype('float32') / 255           \n",
    "        self.y_test  = to_categorical(self.y_test)\n",
    "        print('\\nTrain data size:\\n', self.X_train.shape)\n",
    "        print('\\nTrain target size:\\n', self.y_train.shape)\n",
    "        print('\\nTest data size:\\n', self.X_test.shape)\n",
    "        print('\\nTest target size:\\n', self.y_test.shape)\n",
    "\n",
    "    def init_model(self):\n",
    "        self.cnn = Sequential()\n",
    "        self.cnn.add(Conv2D(filters = 64, kernel_size = (3, 3), activation = 'relu', \n",
    "                     input_shape = (28, 28, 1), kernel_regularizer = 'l2'))\n",
    "        self.cnn.add(tf.keras.layers.BatchNormalization())\n",
    "        self.cnn.add(tf.keras.layers.Dropout(0.2))\n",
    "        self.cnn.add(MaxPooling2D(pool_size = (2, 2)))\n",
    "        self.cnn.add(Conv2D(filters = 128, kernel_size = (3, 3), activation = 'relu'))\n",
    "        self.cnn.add(tf.keras.layers.BatchNormalization())\n",
    "        self.cnn.add(tf.keras.layers.Dropout(0.2))\n",
    "        self.cnn.add(MaxPooling2D(pool_size = (2, 2)))\n",
    "        self.cnn.add(Flatten())\n",
    "        self.cnn.add(Dense(units = 128, activation = 'relu'))\n",
    "        self.cnn.add(tf.keras.layers.BatchNormalization())\n",
    "        self.cnn.add(tf.keras.layers.Dropout(0.2))\n",
    "        self.cnn.add(Dense(units = 10, activation = 'softmax'))\n",
    "        self.cnn.compile(optimizer = 'adam',\n",
    "                         loss = 'categorical_crossentropy',\n",
    "                         metrics = ['accuracy'])\n",
    "        self.cnn.summary()\n",
    "\n",
    "    def train_model(self):\n",
    "\n",
    "        start = time.time()\n",
    "\n",
    "        try:\n",
    "            print('\\nTraining on the available GPU ...\\n')\n",
    "            with tf.device('/GPU:0'):\n",
    "                 self.model = self.cnn.fit(self.X_train, \n",
    "                                           self.y_train, \n",
    "                                           epochs = 10, batch_size = 32, validation_split = 0.1)   \n",
    "        except:\n",
    "            print('\\nFailed to train on the GPU. Training on the CPU instead ...\\n')\n",
    "            with tf.device('/CPU:0'):\n",
    "                 self.model = self.cnn.fit(self.X_train, \n",
    "                                           self.y_train, \n",
    "                                           epochs = 10, batch_size = 32, validation_split = 0.1)\n",
    "\n",
    "\n",
    "        end = time.time()\n",
    "        total_time = end - start\n",
    "        print(\"\\n Training time elapsed in [s] = \" + str(f'{total_time:.2f}'))\n",
    "\n",
    "    def eval_model(self): \n",
    "        print('\\nModel history keys:\\n', self.model.history.keys())\n",
    "\n",
    "        fig, ax = plt.subplots()\n",
    "        plt.plot(self.model.history['loss'], linewidth = 3.5)\n",
    "        plt.plot(self.model.history['val_loss'], linewidth = 3.5)\n",
    "        plt.title('Model loss', size = 15, fontweight = 'bold')\n",
    "        ax.spines[:].set_linewidth(3.5)\n",
    "        plt.ylabel('Loss', size = 15, fontweight = 'bold')\n",
    "        plt.yticks(fontsize = 15,fontweight = 'bold')\n",
    "        plt.xlabel('Epoch', size = 15, fontweight = 'bold')\n",
    "        plt.xticks(fontsize = 15,fontweight = 'bold')\n",
    "        plt.legend(['Train', 'Validation'], loc = 'upper right', fontsize = 15)\n",
    "        plt.show()\n",
    "\n",
    "        fig, ax = plt.subplots()\n",
    "        plt.plot(self.model.history['accuracy'], linewidth = 3.5)\n",
    "        plt.plot(self.model.history['val_accuracy'], linewidth = 3.5)\n",
    "        plt.title('Model accuracy', size = 15, fontweight = 'bold')\n",
    "        ax.spines[:].set_linewidth(3.5)\n",
    "        plt.ylabel('Accuracy', size = 15, fontweight = 'bold')\n",
    "        plt.yticks(fontsize = 15,fontweight = 'bold')\n",
    "        plt.xlabel('Epoch', size = 15, fontweight = 'bold')\n",
    "        plt.xticks(fontsize = 15,fontweight = 'bold')\n",
    "        leg = plt.legend(['Train', 'Validation'], loc='lower right', fontsize=15)\n",
    "        plt.show()\n",
    "\n",
    "        self.loss, self.accuracy = self.cnn.evaluate(self.X_test, self.y_test)\n",
    "        print('\\nModel loss:', f'{self.loss:.2f}')\n",
    "        print('\\nModel accuracy:', f'{self.accuracy:.2f}')\n",
    "\n",
    "    def pred_model(self):     \n",
    "        self.predictions = self.cnn.predict(self.X_test)\n",
    "        self.images = self.X_test.reshape((10000, 28, 28))\n",
    "        self.incorrect_predictions = []\n",
    "\n",
    "        for i, (p, e) in enumerate(zip(self.predictions, self.y_test)):\n",
    "\n",
    "            predicted, expected = np.argmax(p), np.argmax(e)\n",
    "\n",
    "            if predicted != expected:\n",
    "                self.incorrect_predictions.append((i, self.images[i], predicted, expected)) \n",
    "\n",
    "        print('\\n All incorrect predictions:', len(self.incorrect_predictions))\n",
    "\n",
    "        self.pred_summary = classification_report(np.argmax(self.y_test, axis = 1), \n",
    "                                                  np.argmax(self.predictions, axis = 1))\n",
    "        print('Prediction summary:\\n', self.pred_summary)\n",
    "\n",
    "        self.cm = confusion_matrix(np.argmax(self.y_test, axis = 1), \n",
    "                                   np.argmax(self.predictions, axis = 1))\n",
    "        print('The confusion matrix:\\n', self.cm)\n",
    "\n",
    "\n",
    "        n_classes = self.y_test.shape[1]\n",
    "        lw = 2\n",
    "        fpr = dict()\n",
    "        tpr = dict()\n",
    "        roc_auc = dict()\n",
    "\n",
    "        for i in range(n_classes):\n",
    "\n",
    "            fpr[i], tpr[i], _ = roc_curve(self.y_test[:, i], self.predictions[:, i])\n",
    "            roc_auc[i] = auc(fpr[i], tpr[i])\n",
    "\n",
    "        fpr[\"micro\"], tpr[\"micro\"], _ = roc_curve(self.y_test.ravel(), self.predictions.ravel())\n",
    "        roc_auc[\"micro\"] = auc(fpr[\"micro\"], tpr[\"micro\"])\n",
    "\n",
    "        all_fpr = np.unique(np.concatenate([fpr[i] for i in range(n_classes)]))\n",
    "        mean_tpr = np.zeros_like(all_fpr)\n",
    "\n",
    "        for i in range(n_classes):\n",
    "\n",
    "            mean_tpr += np.interp(all_fpr, fpr[i], tpr[i])\n",
    "\n",
    "        mean_tpr /= n_classes\n",
    "\n",
    "        fpr[\"macro\"] = all_fpr\n",
    "        tpr[\"macro\"] = mean_tpr\n",
    "        roc_auc[\"macro\"] = auc(fpr[\"macro\"], tpr[\"macro\"])\n",
    "\n",
    "        plt.figure()\n",
    "        plt.plot(\n",
    "            fpr[\"micro\"],\n",
    "            tpr[\"micro\"],\n",
    "            label=\"micro-average ROC curve (area = {0:0.2f})\".format(roc_auc[\"micro\"]),\n",
    "            color=\"deeppink\",\n",
    "            linestyle=\":\",\n",
    "            linewidth=4,\n",
    "        )\n",
    "\n",
    "        plt.plot(\n",
    "            fpr[\"macro\"],\n",
    "            tpr[\"macro\"],\n",
    "            label=\"macro-average ROC curve (area = {0:0.2f})\".format(roc_auc[\"macro\"]),\n",
    "            color=\"navy\",\n",
    "            linestyle=\":\",\n",
    "            linewidth=4,\n",
    "        )\n",
    "\n",
    "        colors = cycle([\"aqua\", \"darkorange\", \"cornflowerblue\"])\n",
    "\n",
    "        for i, color in zip(range(n_classes), colors):\n",
    "            plt.plot(\n",
    "                fpr[i],\n",
    "                tpr[i],\n",
    "                color=color,\n",
    "                lw=lw,\n",
    "                label=\"ROC curve of class {0} (area = {1:0.2f})\".format(i, roc_auc[i]),\n",
    "            )\n",
    "\n",
    "        plt.plot([0, 1], [0, 1], \"k--\", lw=lw)\n",
    "        plt.xlim([0.0, 1.0])\n",
    "        plt.ylim([0.0, 1.05])\n",
    "        plt.xlabel(\"False Positive Rate\")\n",
    "        plt.ylabel(\"True Positive Rate\")\n",
    "        plt.title(\"ROC\")\n",
    "        #plt.legend(loc = \"lower right\")\n",
    "        plt.show()\n",
    "\n",
    "    def save_model(self): \n",
    "        self.cnn.save('mnist_cnn.h5')     "
   ]
  },
  {
   "cell_type": "code",
   "execution_count": 4,
   "metadata": {},
   "outputs": [
    {
     "name": "stdout",
     "output_type": "stream",
     "text": [
      "Help on cnn_mnist in module __main__ object:\n",
      "\n",
      "class cnn_mnist(builtins.object)\n",
      " |  A class to train a convolutional neural network with the \n",
      " |  MNIST data set for image classification. \n",
      " |  \n",
      " |  ...\n",
      " |  \n",
      " |  Methods\n",
      " |  -------\n",
      " |  init_tf():\n",
      " |      Lists the Tensorflow version along with all physical devices available (CPU and GPU).\n",
      " |  data_load():\n",
      " |      Loads the data, reshapes X_train/test to array with size: num_images, pix_x, pix_y, color_channel(s). \n",
      " |      Normalization to bit depth of 2^8 is also applied. y_train/test are converted to categorical.\n",
      " |  init_model():\n",
      " |      The model architecture and methods for regularization as well as to prevent overfitting.\n",
      " |  train_model():\n",
      " |      Trains the model, depending on the available physical devices.\n",
      " |  eval_model():\n",
      " |      Evaluates the loss of missclassifications and the model's accuracy. Plots are included too.\n",
      " |  pred_model():\n",
      " |      Makes the predictions with y_test. Takes into account the wrongly classified images. Computes \n",
      " |      precision, recall, accuracy and f1-score alongside the confusion matrix. \n",
      " |      ROC curves are included too.\n",
      " |  save_model():\n",
      " |      Saves the model in .h5 format for further use.\n",
      " |  \n",
      " |  Methods defined here:\n",
      " |  \n",
      " |  __init__(self)\n",
      " |      Initialize self.  See help(type(self)) for accurate signature.\n",
      " |  \n",
      " |  data_load(self)\n",
      " |  \n",
      " |  eval_model(self)\n",
      " |  \n",
      " |  init_model(self)\n",
      " |  \n",
      " |  init_tf(self)\n",
      " |  \n",
      " |  pred_model(self)\n",
      " |  \n",
      " |  save_model(self)\n",
      " |  \n",
      " |  train_model(self)\n",
      " |  \n",
      " |  ----------------------------------------------------------------------\n",
      " |  Data descriptors defined here:\n",
      " |  \n",
      " |  X_test\n",
      " |  \n",
      " |  X_train\n",
      " |  \n",
      " |  accuracy\n",
      " |  \n",
      " |  cm\n",
      " |  \n",
      " |  cnn\n",
      " |  \n",
      " |  images\n",
      " |  \n",
      " |  incorrect_predictions\n",
      " |  \n",
      " |  loss\n",
      " |  \n",
      " |  model\n",
      " |  \n",
      " |  pred_summary\n",
      " |  \n",
      " |  predictions\n",
      " |  \n",
      " |  y_test\n",
      " |  \n",
      " |  y_train\n",
      "\n"
     ]
    }
   ],
   "source": [
    "help(cnn_mnist())"
   ]
  },
  {
   "cell_type": "code",
   "execution_count": 5,
   "metadata": {},
   "outputs": [],
   "source": [
    "dl = cnn_mnist()"
   ]
  },
  {
   "cell_type": "code",
   "execution_count": 6,
   "metadata": {},
   "outputs": [
    {
     "name": "stdout",
     "output_type": "stream",
     "text": [
      "\n",
      "Tensorflow version: 2.9.2\n",
      "\n",
      "Physical devices:\n",
      " [PhysicalDevice(name='/physical_device:CPU:0', device_type='CPU'), PhysicalDevice(name='/physical_device:GPU:0', device_type='GPU')]\n",
      "\n",
      "Number of GPUs available: 1\n"
     ]
    }
   ],
   "source": [
    "dl.init_tf()"
   ]
  },
  {
   "cell_type": "code",
   "execution_count": 7,
   "metadata": {},
   "outputs": [
    {
     "name": "stdout",
     "output_type": "stream",
     "text": [
      "\n",
      "Data successfully loaded.\n",
      "\n",
      "Train data size:\n",
      " (60000, 28, 28, 1)\n",
      "\n",
      "Train target size:\n",
      " (60000, 10)\n",
      "\n",
      "Test data size:\n",
      " (10000, 28, 28, 1)\n",
      "\n",
      "Test target size:\n",
      " (10000, 10)\n"
     ]
    }
   ],
   "source": [
    "dl.data_load()"
   ]
  },
  {
   "cell_type": "code",
   "execution_count": 8,
   "metadata": {},
   "outputs": [
    {
     "name": "stdout",
     "output_type": "stream",
     "text": [
      "Metal device set to: Apple M1\n",
      "Model: \"sequential\"\n",
      "_________________________________________________________________\n",
      " Layer (type)                Output Shape              Param #   \n",
      "=================================================================\n",
      " conv2d (Conv2D)             (None, 26, 26, 64)        640       \n",
      "                                                                 \n",
      " batch_normalization (BatchN  (None, 26, 26, 64)       256       \n",
      " ormalization)                                                   \n",
      "                                                                 \n",
      " dropout (Dropout)           (None, 26, 26, 64)        0         \n",
      "                                                                 \n",
      " max_pooling2d (MaxPooling2D  (None, 13, 13, 64)       0         \n",
      " )                                                               \n",
      "                                                                 \n",
      " conv2d_1 (Conv2D)           (None, 11, 11, 128)       73856     \n",
      "                                                                 \n",
      " batch_normalization_1 (Batc  (None, 11, 11, 128)      512       \n",
      " hNormalization)                                                 \n",
      "                                                                 \n",
      " dropout_1 (Dropout)         (None, 11, 11, 128)       0         \n",
      "                                                                 \n",
      " max_pooling2d_1 (MaxPooling  (None, 5, 5, 128)        0         \n",
      " 2D)                                                             \n",
      "                                                                 \n",
      " flatten (Flatten)           (None, 3200)              0         \n",
      "                                                                 \n",
      " dense (Dense)               (None, 128)               409728    \n",
      "                                                                 \n",
      " batch_normalization_2 (Batc  (None, 128)              512       \n",
      " hNormalization)                                                 \n",
      "                                                                 \n",
      " dropout_2 (Dropout)         (None, 128)               0         \n",
      "                                                                 \n",
      " dense_1 (Dense)             (None, 10)                1290      \n",
      "                                                                 \n",
      "=================================================================\n",
      "Total params: 486,794\n",
      "Trainable params: 486,154\n",
      "Non-trainable params: 640\n",
      "_________________________________________________________________\n"
     ]
    },
    {
     "name": "stderr",
     "output_type": "stream",
     "text": [
      "2023-12-29 14:28:23.811453: I tensorflow/core/common_runtime/pluggable_device/pluggable_device_factory.cc:305] Could not identify NUMA node of platform GPU ID 0, defaulting to 0. Your kernel may not have been built with NUMA support.\n",
      "2023-12-29 14:28:23.811534: I tensorflow/core/common_runtime/pluggable_device/pluggable_device_factory.cc:271] Created TensorFlow device (/job:localhost/replica:0/task:0/device:GPU:0 with 0 MB memory) -> physical PluggableDevice (device: 0, name: METAL, pci bus id: <undefined>)\n"
     ]
    }
   ],
   "source": [
    "dl.init_model()"
   ]
  },
  {
   "cell_type": "code",
   "execution_count": 9,
   "metadata": {},
   "outputs": [
    {
     "name": "stdout",
     "output_type": "stream",
     "text": [
      "\n",
      "Training on the available GPU ...\n",
      "\n",
      "Epoch 1/10\n"
     ]
    },
    {
     "name": "stderr",
     "output_type": "stream",
     "text": [
      "2023-12-29 14:28:24.074042: W tensorflow/core/platform/profile_utils/cpu_utils.cc:128] Failed to get CPU frequency: 0 Hz\n",
      "2023-12-29 14:28:24.381254: I tensorflow/core/grappler/optimizers/custom_graph_optimizer_registry.cc:113] Plugin optimizer for device_type GPU is enabled.\n"
     ]
    },
    {
     "name": "stdout",
     "output_type": "stream",
     "text": [
      "1688/1688 [==============================] - ETA: 0s - loss: 0.1273 - accuracy: 0.9656"
     ]
    },
    {
     "name": "stderr",
     "output_type": "stream",
     "text": [
      "2023-12-29 14:28:57.339909: I tensorflow/core/grappler/optimizers/custom_graph_optimizer_registry.cc:113] Plugin optimizer for device_type GPU is enabled.\n"
     ]
    },
    {
     "name": "stdout",
     "output_type": "stream",
     "text": [
      "1688/1688 [==============================] - 35s 20ms/step - loss: 0.1273 - accuracy: 0.9656 - val_loss: 0.0584 - val_accuracy: 0.9845\n",
      "Epoch 2/10\n",
      "1688/1688 [==============================] - 34s 20ms/step - loss: 0.0627 - accuracy: 0.9830 - val_loss: 0.0740 - val_accuracy: 0.9805\n",
      "Epoch 3/10\n",
      "1688/1688 [==============================] - 34s 20ms/step - loss: 0.0510 - accuracy: 0.9859 - val_loss: 0.0505 - val_accuracy: 0.9865\n",
      "Epoch 4/10\n",
      "1688/1688 [==============================] - 34s 20ms/step - loss: 0.0423 - accuracy: 0.9879 - val_loss: 0.0472 - val_accuracy: 0.9895\n",
      "Epoch 5/10\n",
      "1688/1688 [==============================] - 34s 20ms/step - loss: 0.0385 - accuracy: 0.9893 - val_loss: 0.0782 - val_accuracy: 0.9822\n",
      "Epoch 6/10\n",
      "1688/1688 [==============================] - 34s 20ms/step - loss: 0.0320 - accuracy: 0.9916 - val_loss: 0.0393 - val_accuracy: 0.9900\n",
      "Epoch 7/10\n",
      "1688/1688 [==============================] - 34s 20ms/step - loss: 0.0310 - accuracy: 0.9914 - val_loss: 0.0581 - val_accuracy: 0.9863\n",
      "Epoch 8/10\n",
      "1688/1688 [==============================] - 34s 20ms/step - loss: 0.0279 - accuracy: 0.9924 - val_loss: 0.0455 - val_accuracy: 0.9870\n",
      "Epoch 9/10\n",
      "1688/1688 [==============================] - 34s 20ms/step - loss: 0.0246 - accuracy: 0.9934 - val_loss: 0.0379 - val_accuracy: 0.9922\n",
      "Epoch 10/10\n",
      "1688/1688 [==============================] - 34s 20ms/step - loss: 0.0226 - accuracy: 0.9942 - val_loss: 0.0446 - val_accuracy: 0.9908\n",
      "\n",
      " Training time elapsed in [s] = 340.91\n"
     ]
    }
   ],
   "source": [
    "dl.train_model()"
   ]
  },
  {
   "cell_type": "code",
   "execution_count": 10,
   "metadata": {},
   "outputs": [
    {
     "name": "stdout",
     "output_type": "stream",
     "text": [
      "\n",
      "Model history keys:\n",
      " dict_keys(['loss', 'accuracy', 'val_loss', 'val_accuracy'])\n"
     ]
    },
    {
     "data": {
      "image/png": "[encoded data removed]",
      "text/plain": [
       "<Figure size 432x288 with 1 Axes>"
      ]
     },
     "metadata": {
      "needs_background": "light"
     },
     "output_type": "display_data"
    },
    {
     "data": {
      "image/png": "[encoded data removed]",
      "text/plain": [
       "<Figure size 432x288 with 1 Axes>"
      ]
     },
     "metadata": {
      "needs_background": "light"
     },
     "output_type": "display_data"
    },
    {
     "name": "stdout",
     "output_type": "stream",
     "text": [
      "313/313 [==============================] - 3s 9ms/step - loss: 0.0431 - accuracy: 0.9897\n",
      "\n",
      "Model loss: 0.04\n",
      "\n",
      "Model accuracy: 0.99\n"
     ]
    }
   ],
   "source": [
    "dl.eval_model()"
   ]
  },
  {
   "cell_type": "code",
   "execution_count": 11,
   "metadata": {},
   "outputs": [
    {
     "name": "stdout",
     "output_type": "stream",
     "text": [
      " 33/313 [==>...........................] - ETA: 0s"
     ]
    },
    {
     "name": "stderr",
     "output_type": "stream",
     "text": [
      "2023-12-29 14:34:08.140220: I tensorflow/core/grappler/optimizers/custom_graph_optimizer_registry.cc:113] Plugin optimizer for device_type GPU is enabled.\n"
     ]
    },
    {
     "name": "stdout",
     "output_type": "stream",
     "text": [
      "313/313 [==============================] - 1s 3ms/step\n",
      "\n",
      " All incorrect predictions: 103\n",
      "Prediction summary:\n",
      "               precision    recall  f1-score   support\n",
      "\n",
      "           0       0.98      1.00      0.99       980\n",
      "           1       0.98      1.00      0.99      1135\n",
      "           2       0.99      0.99      0.99      1032\n",
      "           3       1.00      0.99      0.99      1010\n",
      "           4       0.99      1.00      0.99       982\n",
      "           5       0.99      0.99      0.99       892\n",
      "           6       1.00      0.99      0.99       958\n",
      "           7       0.98      0.99      0.99      1028\n",
      "           8       1.00      0.98      0.99       974\n",
      "           9       0.99      0.97      0.98      1009\n",
      "\n",
      "    accuracy                           0.99     10000\n",
      "   macro avg       0.99      0.99      0.99     10000\n",
      "weighted avg       0.99      0.99      0.99     10000\n",
      "\n",
      "The confusion matrix:\n",
      " [[ 978    1    0    0    0    0    0    1    0    0]\n",
      " [   0 1135    0    0    0    0    0    0    0    0]\n",
      " [   1    6 1017    0    0    0    1    7    0    0]\n",
      " [   0    0    2  998    0    7    0    2    1    0]\n",
      " [   0    0    0    0  979    0    0    0    0    3]\n",
      " [   2    0    0    3    0  885    1    1    0    0]\n",
      " [   8    3    0    0    2    1  944    0    0    0]\n",
      " [   0    4    3    0    0    0    0 1021    0    0]\n",
      " [   5    1    2    0    1    0    0    4  958    3]\n",
      " [   1    3    0    0   11    4    0    8    0  982]]\n"
     ]
    },
    {
     "data": {
      "image/png": "[encoded data removed]",
      "text/plain": [
       "<Figure size 432x288 with 1 Axes>"
      ]
     },
     "metadata": {
      "needs_background": "light"
     },
     "output_type": "display_data"
    }
   ],
   "source": [
    "dl.pred_model()"
   ]
  },
  {
   "cell_type": "code",
   "execution_count": 12,
   "metadata": {},
   "outputs": [],
   "source": [
    "dl.save_model()"
   ]
  },
  {
   "cell_type": "code",
   "execution_count": null,
   "metadata": {},
   "outputs": [],
   "source": []
  }
 ],
 "metadata": {
  "kernelspec": {
   "display_name": "cnn-venv",
   "language": "python",
   "name": "cnn-venv"
  },
  "language_info": {
   "codemirror_mode": {
    "name": "ipython",
    "version": 3
   },
   "file_extension": ".py",
   "mimetype": "text/x-python",
   "name": "python",
   "nbconvert_exporter": "python",
   "pygments_lexer": "ipython3",
   "version": "3.10.5"
  }
 },
 "nbformat": 4,
 "nbformat_minor": 4
}
