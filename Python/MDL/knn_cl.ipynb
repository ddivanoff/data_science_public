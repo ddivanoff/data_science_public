{
 "cells": [
  {
   "cell_type": "code",
   "execution_count": 1,
   "id": "71a90ac5",
   "metadata": {},
   "outputs": [],
   "source": [
    "import pandas as pd\n",
    "import numpy as np\n",
    "import matplotlib.pyplot as plt\n",
    "\n",
    "from sklearn.pipeline import Pipeline, FeatureUnion \n",
    "from sklearn.decomposition import PCA\n",
    "from sklearn.preprocessing import StandardScaler\n",
    "from sklearn.model_selection import GridSearchCV, cross_val_score, train_test_split\n",
    "from sklearn.neighbors import KNeighborsClassifier\n",
    "from sklearn.metrics import accuracy_score, average_precision_score,\\\n",
    "                            classification_report, precision_recall_curve,\\\n",
    "                            f1_score, auc, confusion_matrix"
   ]
  },
  {
   "cell_type": "code",
   "execution_count": 2,
   "id": "5d1df6b2",
   "metadata": {},
   "outputs": [],
   "source": [
    "class knn_w(object):\n",
    "    \n",
    "    \n",
    "    \"\"\"\n",
    "    A class to process data from Kaggle and to predict, whether Clients will Churn or not,\n",
    "    depending on diffierent idicators, used as features and then as predictors. It is an \n",
    "    unbalanced data set for binary classification. kNN will be used as the deafault algorithm.\n",
    "    \n",
    "    ...\n",
    "\n",
    "    Attributes\n",
    "    ----------\n",
    "    data: pd.DataFrame\n",
    "          Data to be used for the model\n",
    "          \n",
    "    features, target, X_train, X_test, y_train, y_test, y_pred: pd.DataFrame\n",
    "          Features and targets from data; splitted at random data for train and test; \n",
    "          target and predicted variables\n",
    "    \n",
    "    best_model, model, summary, cm: obj\n",
    "          The best model from cross-validation; the model for classification with the\n",
    "          best parameters from the cross-validation phase; summary from the classification;\n",
    "          the confusion matrix\n",
    "    \n",
    "    cv_scores, accuracy, ap_score, precision, recall, thresholds, auc, f1: np.array\n",
    "          Classification metrics.\n",
    "    \n",
    "    Methods\n",
    "    -------\n",
    "    load_data():\n",
    "        Loads the data, filters it and prints its info.\n",
    "        \n",
    "    cross_val():\n",
    "        Performs 10-fold cross-validation on stadardized data without random splitting. \n",
    "        Evaluation of the best hyperparameters is performed. After, another 10-fold\n",
    "        cross-validation takes place only with the best hyperparameters to avoid biased results.\n",
    "        In all instances, weight coefficients were assigned to compensate the class imbalance.\n",
    "        \n",
    "    split_train_predict():\n",
    "        Performs initialization of kNN again with weight coefficients, using\n",
    "        the best hyperparameters from cross_val().\n",
    "        \n",
    "    eval_model():\n",
    "        Evaluates the model performance with y_train. Confusion matrix, Precision-Recall,\n",
    "        ROC curves and the summary matrix are computed as evaluation metrics. \n",
    "        \n",
    "    \"\"\"\n",
    "    \n",
    "    \n",
    "    __slots__ = ['data', 'features', 'target', 'X_train','X_test','y_train','y_test', 'y_pred',\n",
    "                 'model', 'best_model', 'cv_scores','accuracy','ap_score','summary',\n",
    "                 'precision','recall','thresholds','auc','f1','cm']\n",
    "    \n",
    "    \n",
    "    def __init__(self):\n",
    "        pass\n",
    "\n",
    "    \n",
    "    def load_data(self):\n",
    "        \n",
    "        self.data = pd.read_csv('data_churn.csv')\n",
    "        \n",
    "        self.data['country'] = self.data['country'].replace(['France', 'Spain', 'Germany'],\n",
    "                                                            [1, 2, 0])\n",
    "        \n",
    "        self.data['gender'] = self.data['gender'].replace(['Female', 'Male'],\n",
    "                                                            [0, 1])\n",
    "        \n",
    "        self.data = self.data.fillna(0)\n",
    "        self.data['churn'] = self.data['churn'].astype('category')\n",
    "        \n",
    "        print('\\nData successfully loaded and filtered\\n')\n",
    "        print('\\nNumber of negative class members:\\n', len(self.data[self.data['churn'] != 1]))\n",
    "        print('\\nNumber of positive class members:\\n', len(self.data[self.data['churn'] == 1]))\n",
    "       \n",
    "    \n",
    "    def cross_val(self):\n",
    "        \n",
    "        self.features = self.data.iloc[:,1:-1]\n",
    "        self.target = self.data.iloc[:,-1]\n",
    "        \n",
    "        pipe = Pipeline([(\"preprocess\", FeatureUnion([(\"std\", StandardScaler())])),\n",
    "                         (\"classifier\", KNeighborsClassifier())])\n",
    "              \n",
    "        params = [{\"classifier\": [KNeighborsClassifier()],\n",
    "                   \"classifier__n_neighbors\": [9, 39, 69, 99],\n",
    "                   \"classifier__weights\": ['distance'],\n",
    "                   \"classifier__p\": [1, 2, 3],\n",
    "                   \"classifier__n_jobs\": [-1]}]  \n",
    "\n",
    "        clf = GridSearchCV(pipe, params, cv = 10, verbose = 0, n_jobs = -1)\n",
    "        self.best_model = clf.fit(self.features, self.target)\n",
    "        self.cv_scores = cross_val_score(clf, self.features, self.target, cv = 10, n_jobs = -1)  \n",
    "        \n",
    "        \n",
    "    def split_train_predict(self):\n",
    "        \n",
    "\n",
    "        self.model = KNeighborsClassifier(n_neighbors = self.best_model.best_params_['classifier__n_neighbors'], \n",
    "                                          weights = 'distance', algorithm = 'auto',\n",
    "                                          p = self.best_model.best_params_['classifier__p'], \n",
    "                                          metric = 'minkowski', n_jobs = -1)\n",
    "            \n",
    "    \n",
    "        self.X_train, self.X_test, self.y_train, self.y_test = train_test_split(self.features, \n",
    "                                                                                self.target, \n",
    "                                                                                train_size = 0.9,\n",
    "                                                                                test_size =  0.1,\n",
    "                                                                                random_state = 12)\n",
    "        sc = StandardScaler()\n",
    "        self.X_train = sc.fit_transform(self.X_train)\n",
    "        self.X_test = sc.fit_transform(self.X_test)\n",
    "        \n",
    "        print('\\nTrain data size:\\n', self.X_train.shape)\n",
    "        print('\\nTеst data size:\\n', self.X_test.shape)\n",
    "        print('\\nTrain label size:\\n', self.y_train.shape)\n",
    "        print('\\nTest label size:\\n', self.y_test.shape)\n",
    "            \n",
    "            \n",
    "        self.model.fit(self.X_train, self.y_train)\n",
    "\n",
    "        self.y_pred = self.model.predict_proba(self.X_test)\n",
    "        \n",
    "        self.accuracy = accuracy_score(self.y_test, np.round(self.y_pred[:,1]))\n",
    "        self.ap_score = average_precision_score(self.y_test, np.round(self.y_pred[:,1]),\n",
    "                                                average = 'micro', pos_label = 1)\n",
    "        \n",
    "        print(\"\\nAccuracy: %.2f%%\" % (self.accuracy * 100.0))\n",
    "        print(\"\\nAverage Precision: %.2f%%\" % (self.ap_score * 100.0))    \n",
    "        \n",
    "    \n",
    "    def eval_model(self):\n",
    "        \n",
    "        self.summary = classification_report(self.y_test, np.round(self.y_pred[:,1]))\n",
    "        print('\\nPrecision, recall, accuracy and f1-score:\\n', self.summary)\n",
    "        \n",
    "        self.precision, self.recall, self.thresholds = precision_recall_curve(self.y_test, \n",
    "                                                                              np.round(self.y_pred[:,1]))\n",
    "        \n",
    "        plt.figure()\n",
    "        plt.plot(self.recall, self.precision)\n",
    "        plt.xlabel('Recall')\n",
    "        plt.ylabel('Precision')\n",
    "        plt.title('Precision - Recall Curve')\n",
    "        plt.show()\n",
    "        \n",
    "        self.f1, self.auc = f1_score(self.y_test, np.round(self.y_pred[:,1])), auc(self.recall, self.precision)\n",
    "        print('\\nAUC:', f'{self.auc:.2}')\n",
    "        \n",
    "        self.cm = confusion_matrix(self.y_test, np.round(self.y_pred[:,1]))\n",
    "        print('\\nThe confusion matrix:\\n', self.cm)  "
   ]
  },
  {
   "cell_type": "code",
   "execution_count": 3,
   "id": "1699b77c",
   "metadata": {},
   "outputs": [],
   "source": [
    "knn_obj = knn_w()"
   ]
  },
  {
   "cell_type": "code",
   "execution_count": 4,
   "id": "d655b47d",
   "metadata": {},
   "outputs": [
    {
     "name": "stdout",
     "output_type": "stream",
     "text": [
      "\n",
      "Data successfully loaded and filtered\n",
      "\n",
      "\n",
      "Number of negative class members:\n",
      " 7963\n",
      "\n",
      "Number of positive class members:\n",
      " 2037\n"
     ]
    }
   ],
   "source": [
    "knn_obj.load_data()"
   ]
  },
  {
   "cell_type": "code",
   "execution_count": 5,
   "id": "13b499c8",
   "metadata": {},
   "outputs": [],
   "source": [
    "knn_obj.cross_val()"
   ]
  },
  {
   "cell_type": "code",
   "execution_count": 6,
   "id": "e89c75ea",
   "metadata": {},
   "outputs": [
    {
     "data": {
      "text/plain": [
       "{'classifier': KNeighborsClassifier(n_jobs=-1, n_neighbors=9, p=1, weights='distance'),\n",
       " 'classifier__n_jobs': -1,\n",
       " 'classifier__n_neighbors': 9,\n",
       " 'classifier__p': 1,\n",
       " 'classifier__weights': 'distance'}"
      ]
     },
     "execution_count": 6,
     "metadata": {},
     "output_type": "execute_result"
    }
   ],
   "source": [
    "knn_obj.best_model.best_params_"
   ]
  },
  {
   "cell_type": "code",
   "execution_count": 7,
   "id": "468c8a67",
   "metadata": {},
   "outputs": [
    {
     "data": {
      "text/plain": [
       "0.8392999999999999"
      ]
     },
     "execution_count": 7,
     "metadata": {},
     "output_type": "execute_result"
    }
   ],
   "source": [
    "knn_obj.best_model.best_score_"
   ]
  },
  {
   "cell_type": "code",
   "execution_count": 8,
   "id": "bc1ea1e1",
   "metadata": {},
   "outputs": [
    {
     "data": {
      "text/plain": [
       "0.8376999999999999"
      ]
     },
     "execution_count": 8,
     "metadata": {},
     "output_type": "execute_result"
    }
   ],
   "source": [
    "np.mean(knn_obj.cv_scores)"
   ]
  },
  {
   "cell_type": "code",
   "execution_count": 9,
   "id": "7b3e20d6",
   "metadata": {},
   "outputs": [
    {
     "name": "stdout",
     "output_type": "stream",
     "text": [
      "\n",
      "Train data size:\n",
      " (9000, 10)\n",
      "\n",
      "Tеst data size:\n",
      " (1000, 10)\n",
      "\n",
      "Train label size:\n",
      " (9000,)\n",
      "\n",
      "Test label size:\n",
      " (1000,)\n",
      "\n",
      "Accuracy: 84.90%\n",
      "\n",
      "Average Precision: 44.10%\n"
     ]
    }
   ],
   "source": [
    "knn_obj.split_train_predict()"
   ]
  },
  {
   "cell_type": "code",
   "execution_count": 10,
   "id": "35d97f31",
   "metadata": {},
   "outputs": [
    {
     "name": "stdout",
     "output_type": "stream",
     "text": [
      "\n",
      "Precision, recall, accuracy and f1-score:\n",
      "               precision    recall  f1-score   support\n",
      "\n",
      "           0       0.85      0.97      0.91       787\n",
      "           1       0.80      0.39      0.52       213\n",
      "\n",
      "    accuracy                           0.85      1000\n",
      "   macro avg       0.83      0.68      0.72      1000\n",
      "weighted avg       0.84      0.85      0.83      1000\n",
      "\n"
     ]
    },
    {
     "data": {
      "image/png": "[encoded data removed]",
      "text/plain": [
       "<Figure size 432x288 with 1 Axes>"
      ]
     },
     "metadata": {
      "needs_background": "light"
     },
     "output_type": "display_data"
    },
    {
     "name": "stdout",
     "output_type": "stream",
     "text": [
      "\n",
      "AUC: 0.66\n",
      "\n",
      "The confusion matrix:\n",
      " [[766  21]\n",
      " [130  83]]\n"
     ]
    }
   ],
   "source": [
    "knn_obj.eval_model()"
   ]
  },
  {
   "cell_type": "code",
   "execution_count": null,
   "id": "772f61ae",
   "metadata": {},
   "outputs": [],
   "source": []
  },
  {
   "cell_type": "code",
   "execution_count": null,
   "id": "0f6b4a4d",
   "metadata": {},
   "outputs": [],
   "source": []
  },
  {
   "cell_type": "code",
   "execution_count": null,
   "id": "17f302a5",
   "metadata": {},
   "outputs": [],
   "source": []
  },
  {
   "cell_type": "code",
   "execution_count": null,
   "id": "16838e38",
   "metadata": {},
   "outputs": [],
   "source": []
  }
 ],
 "metadata": {
  "kernelspec": {
   "display_name": "cnn-venv",
   "language": "python",
   "name": "cnn-venv"
  },
  "language_info": {
   "codemirror_mode": {
    "name": "ipython",
    "version": 3
   },
   "file_extension": ".py",
   "mimetype": "text/x-python",
   "name": "python",
   "nbconvert_exporter": "python",
   "pygments_lexer": "ipython3",
   "version": "3.10.5"
  }
 },
 "nbformat": 4,
 "nbformat_minor": 5
}
