{
 "cells": [
  {
   "cell_type": "code",
   "execution_count": 70,
   "id": "a790a0d9",
   "metadata": {},
   "outputs": [],
   "source": [
    "import pandas as pd\n",
    "import numpy as np\n",
    "import matplotlib.pyplot as plt\n",
    "import re, nltk\n",
    "\n",
    "from nltk.corpus import stopwords\n",
    "from textblob import TextBlob\n",
    "from textblob.sentiments import NaiveBayesAnalyzer\n",
    "from sklearn.feature_extraction.text import TfidfVectorizer\n",
    "from sklearn.naive_bayes import MultinomialNB, ComplementNB\n",
    "from sklearn import preprocessing\n",
    "from sklearn.model_selection import GridSearchCV, cross_val_score, train_test_split\n",
    "from sklearn.metrics import accuracy_score, average_precision_score,\\\n",
    "                            classification_report, precision_recall_curve,\\\n",
    "                            f1_score, auc, confusion_matrix\n",
    "from collections import Counter\n",
    "from imblearn.under_sampling import RandomUnderSampler"
   ]
  },
  {
   "cell_type": "code",
   "execution_count": 71,
   "id": "6f9363c1",
   "metadata": {},
   "outputs": [
    {
     "name": "stderr",
     "output_type": "stream",
     "text": [
      "[nltk_data] Downloading package stopwords to /Users/ddi/nltk_data...\n",
      "[nltk_data]   Package stopwords is already up-to-date!\n"
     ]
    },
    {
     "data": {
      "text/plain": [
       "True"
      ]
     },
     "execution_count": 71,
     "metadata": {},
     "output_type": "execute_result"
    }
   ],
   "source": [
    "nltk.download('stopwords')"
   ]
  },
  {
   "cell_type": "code",
   "execution_count": 72,
   "id": "07289159",
   "metadata": {},
   "outputs": [
    {
     "name": "stdout",
     "output_type": "stream",
     "text": [
      "[nltk_data] Downloading package brown to /Users/ddi/nltk_data...\n",
      "[nltk_data]   Package brown is already up-to-date!\n",
      "[nltk_data] Downloading package punkt to /Users/ddi/nltk_data...\n",
      "[nltk_data]   Package punkt is already up-to-date!\n",
      "[nltk_data] Downloading package wordnet to /Users/ddi/nltk_data...\n",
      "[nltk_data]   Package wordnet is already up-to-date!\n",
      "[nltk_data] Downloading package averaged_perceptron_tagger to\n",
      "[nltk_data]     /Users/ddi/nltk_data...\n",
      "[nltk_data]   Package averaged_perceptron_tagger is already up-to-\n",
      "[nltk_data]       date!\n",
      "[nltk_data] Downloading package conll2000 to /Users/ddi/nltk_data...\n",
      "[nltk_data]   Package conll2000 is already up-to-date!\n",
      "[nltk_data] Downloading package movie_reviews to\n",
      "[nltk_data]     /Users/ddi/nltk_data...\n",
      "[nltk_data]   Package movie_reviews is already up-to-date!\n",
      "Finished.\n"
     ]
    }
   ],
   "source": [
    "!python -m textblob.download_corpora"
   ]
  },
  {
   "cell_type": "code",
   "execution_count": 92,
   "id": "938d4e19",
   "metadata": {},
   "outputs": [],
   "source": [
    "class NB(object):\n",
    "    \n",
    "    \n",
    "    \"\"\"\n",
    "    A class to process data from Kaggle and to predict, whether an E-mail will be classified as Spam or not.\n",
    "    It is an unbalanced data set for binary classification. Naive-Bayes will be used as the deafault algorithm.\n",
    "    \n",
    "    ...\n",
    "\n",
    "    Attributes\n",
    "    ----------\n",
    "    data: pd.DataFrame\n",
    "          Data to be used for the model\n",
    "          \n",
    "    X_train, X_test, y_train, y_test, y_pred: pd.DataFrame\n",
    "          Features and targets from data; splitted at random data for train and test; \n",
    "          target and predicted variables\n",
    "    \n",
    "    summary, cm: obj\n",
    "          The best model from cross-validation; the model for classification with the\n",
    "          best parameters from the cross-validation phase; summary from the classification;\n",
    "          the confusion matrix\n",
    "    \n",
    "    cv_scores, accuracy, ap_score, precision, recall, thresholds, auc, f1: np.array\n",
    "          Classification metrics.\n",
    "    \n",
    "    Methods\n",
    "    -------\n",
    "    load_data():\n",
    "        Loads the data, filters it and prints its info. Firstly, special characters and stop words\n",
    "        are removed. Then, from sentiment analysis subjectivity is add as a feature. Finally,\n",
    "        TfidfVectorizer() is used to form a feature matrix from all words from all e-mails.\n",
    "            \n",
    "    split_train_predict(balance = True):\n",
    "        Performs initialization of Naive-Bayes. If balance is set to True (default), RandomUnderSampler()\n",
    "        and MultinomialNB() are invoked. If balance is set to False, then ComplementNB() is used instead.\n",
    "        \n",
    "    eval_model():\n",
    "        Evaluates the model performance with y_train. Confusion matrix, Precision-Recall,\n",
    "        ROC curves and the summary matrix are computed as evaluation metrics. \n",
    "        \n",
    "    \"\"\"\n",
    "    \n",
    "    \n",
    "    __slots__ = ['data', 'X_train','X_test','y_train','y_test', 'y_pred', 'X', 'y',\n",
    "                 'accuracy','ap_score','summary', 'precision','recall','thresholds','auc','f1','cm']\n",
    "    \n",
    "    \n",
    "    def __init__(self):\n",
    "        pass\n",
    "\n",
    "    \n",
    "    def load_data(self):\n",
    "        \n",
    "        self.data = pd.read_csv('emails.csv')\n",
    "        \n",
    "        self.data = self.data.fillna(0)\n",
    "        \n",
    "        special_characters = r'[_?!:;,.%#@$\\-()[]{}/\"<>§±`~^&*=\\]'\n",
    "\n",
    "        for char in special_characters:\n",
    "            self.data['text'] = self.data['text'].str.replace(char, '')\n",
    "\n",
    "        stop_words = set(stopwords.words('english'))\n",
    "        self.data['text'] = self.data['text'].apply(lambda x: ' '.join(word for word in x.split() if word.lower() not in stop_words))\n",
    "        \n",
    "        self.data['subjectivity'] = self.data['text'].apply(lambda x: TextBlob(x).sentiment.subjectivity)    \n",
    "        \n",
    "        tfidf = TfidfVectorizer()\n",
    "        fm = tfidf.fit_transform(self.data['text'])\n",
    "        self.data = pd.concat([pd.DataFrame(fm.toarray()),\n",
    "                               self.data['subjectivity'],\n",
    "                               self.data['spam']], axis = 1)\n",
    "        \n",
    "        print('\\nData successfully loaded and filtered\\n')\n",
    "        print('\\nNumber of negative class members:\\n', len(self.data[self.data['spam'] != 1]))\n",
    "        print('\\nNumber of positive class members:\\n', len(self.data[self.data['spam'] == 1]))\n",
    "        \n",
    "        \n",
    "    def split_train_predict(self, balance = True):\n",
    "        \n",
    "        if balance == True:\n",
    "            \n",
    "            rus = RandomUnderSampler(sampling_strategy = {0:len(self.data[self.data['spam'] == 1]), \n",
    "                                                          1:len(self.data[self.data['spam'] == 1])},\n",
    "                                                          random_state = 42)\n",
    "            \n",
    "            self.X, self.y = rus.fit_resample(self.data.iloc[:,:-1].values, self.data.iloc[:,-1])\n",
    "            \n",
    "            print('Resampled dataset shape %s' % Counter(self.y))\n",
    "            \n",
    "            clf = MultinomialNB(fit_prior = True)\n",
    "\n",
    "\n",
    "        else:\n",
    "            \n",
    "            clf = ComplementNB(fit_prior = True)\n",
    "            self.X = self.data.iloc[:,:-1].values\n",
    "            self.y = self.data.iloc[:,-1].values\n",
    "           \n",
    "        \n",
    "        self.X_train, self.X_test, self.y_train, self.y_test = train_test_split(self.X, \n",
    "                                                                                self.y, \n",
    "                                                                                train_size = 0.9,\n",
    "                                                                                test_size =  0.1,\n",
    "                                                                                random_state = 12)\n",
    "        \n",
    "        print('\\nTrain data size:\\n', self.X_train.shape)\n",
    "        print('\\nTеst data size:\\n', self.X_test.shape)\n",
    "        print('\\nTrain label size:\\n', self.y_train.shape)\n",
    "        print('\\nTest label size:\\n', self.y_test.shape)\n",
    "            \n",
    "        \n",
    "        clf.fit(self.X_train, self.y_train)\n",
    "\n",
    "        self.y_pred = clf.predict_proba(self.X_test)\n",
    "        \n",
    "        self.accuracy = accuracy_score(self.y_test, np.round(self.y_pred[:,1]))\n",
    "        \n",
    "        self.ap_score = average_precision_score(self.y_test, np.round(self.y_pred[:,1]),\n",
    "                                                average = 'micro', pos_label = 1)\n",
    "        \n",
    "        print(\"\\nAccuracy: %.2f%%\" % (self.accuracy * 100.0))\n",
    "        print(\"\\nAverage Precision: %.2f%%\" % (self.ap_score * 100.0))\n",
    "        \n",
    "        \n",
    "    def eval_model(self):\n",
    "        \n",
    "        self.summary = classification_report(self.y_test, np.round(self.y_pred[:,1]))\n",
    "        print('\\nPrecision, recall, accuracy and f1-score:\\n', self.summary)\n",
    "        \n",
    "        self.precision, self.recall, self.thresholds = precision_recall_curve(self.y_test, np.round(self.y_pred[:,1]))\n",
    "        \n",
    "        plt.figure()\n",
    "        plt.plot(self.recall, self.precision)\n",
    "        plt.xlabel('Recall')\n",
    "        plt.ylabel('Precision')\n",
    "        plt.title('Precision - Recall Curve')\n",
    "        plt.show()\n",
    "        \n",
    "        self.f1, self.auc = f1_score(self.y_test, np.round(self.y_pred[:,1])), auc(self.recall, self.precision)\n",
    "        print('\\nAUC:', f'{self.auc:.2}')\n",
    "        \n",
    "        self.cm = confusion_matrix(self.y_test, np.round(self.y_pred[:,1]))\n",
    "        print('\\nThe confusion matrix:\\n', self.cm)"
   ]
  },
  {
   "cell_type": "code",
   "execution_count": 93,
   "id": "b0bf33e8",
   "metadata": {},
   "outputs": [],
   "source": [
    "nb = NB()"
   ]
  },
  {
   "cell_type": "code",
   "execution_count": 94,
   "id": "aff70e8e",
   "metadata": {},
   "outputs": [
    {
     "name": "stderr",
     "output_type": "stream",
     "text": [
      "/var/folders/sb/h0gbv1954jlc4qkp7wnc580h0000gn/T/ipykernel_5621/1399463064.py:62: FutureWarning: The default value of regex will change from True to False in a future version. In addition, single character regular expressions will *not* be treated as literal strings when regex=True.\n",
      "  self.data['text'] = self.data['text'].str.replace(char, '')\n"
     ]
    },
    {
     "name": "stdout",
     "output_type": "stream",
     "text": [
      "\n",
      "Data successfully loaded and filtered\n",
      "\n",
      "\n",
      "Number of negative class members:\n",
      " 4360\n",
      "\n",
      "Number of positive class members:\n",
      " 1368\n"
     ]
    }
   ],
   "source": [
    "nb.load_data()"
   ]
  },
  {
   "cell_type": "code",
   "execution_count": 95,
   "id": "6b2961da",
   "metadata": {},
   "outputs": [
    {
     "name": "stdout",
     "output_type": "stream",
     "text": [
      "Resampled dataset shape Counter({0: 1368, 1: 1368})\n",
      "\n",
      "Train data size:\n",
      " (2462, 37188)\n",
      "\n",
      "Tеst data size:\n",
      " (274, 37188)\n",
      "\n",
      "Train label size:\n",
      " (2462,)\n",
      "\n",
      "Test label size:\n",
      " (274,)\n",
      "\n",
      "Accuracy: 98.91%\n",
      "\n",
      "Average Precision: 98.69%\n"
     ]
    }
   ],
   "source": [
    "nb.split_train_predict(balance = True)"
   ]
  },
  {
   "cell_type": "code",
   "execution_count": 96,
   "id": "d2f22b94",
   "metadata": {},
   "outputs": [
    {
     "name": "stdout",
     "output_type": "stream",
     "text": [
      "\n",
      "Precision, recall, accuracy and f1-score:\n",
      "               precision    recall  f1-score   support\n",
      "\n",
      "           0       0.98      0.99      0.99       127\n",
      "           1       0.99      0.99      0.99       147\n",
      "\n",
      "    accuracy                           0.99       274\n",
      "   macro avg       0.99      0.99      0.99       274\n",
      "weighted avg       0.99      0.99      0.99       274\n",
      "\n"
     ]
    },
    {
     "data": {
      "image/png": "[encoded data removed]",
      "text/plain": [
       "<Figure size 432x288 with 1 Axes>"
      ]
     },
     "metadata": {
      "needs_background": "light"
     },
     "output_type": "display_data"
    },
    {
     "name": "stdout",
     "output_type": "stream",
     "text": [
      "\n",
      "AUC: 0.99\n",
      "\n",
      "The confusion matrix:\n",
      " [[126   1]\n",
      " [  2 145]]\n"
     ]
    }
   ],
   "source": [
    "nb.eval_model()"
   ]
  },
  {
   "cell_type": "code",
   "execution_count": 97,
   "id": "32e1a0d4",
   "metadata": {},
   "outputs": [
    {
     "name": "stdout",
     "output_type": "stream",
     "text": [
      "\n",
      "Train data size:\n",
      " (5155, 37188)\n",
      "\n",
      "Tеst data size:\n",
      " (573, 37188)\n",
      "\n",
      "Train label size:\n",
      " (5155,)\n",
      "\n",
      "Test label size:\n",
      " (573,)\n",
      "\n",
      "Accuracy: 95.29%\n",
      "\n",
      "Average Precision: 85.64%\n"
     ]
    }
   ],
   "source": [
    "nb.split_train_predict(balance = False)"
   ]
  },
  {
   "cell_type": "code",
   "execution_count": 98,
   "id": "dbf6953a",
   "metadata": {},
   "outputs": [
    {
     "name": "stdout",
     "output_type": "stream",
     "text": [
      "\n",
      "Precision, recall, accuracy and f1-score:\n",
      "               precision    recall  f1-score   support\n",
      "\n",
      "           0       0.94      1.00      0.97       429\n",
      "           1       0.98      0.83      0.90       144\n",
      "\n",
      "    accuracy                           0.95       573\n",
      "   macro avg       0.96      0.91      0.93       573\n",
      "weighted avg       0.95      0.95      0.95       573\n",
      "\n"
     ]
    },
    {
     "data": {
      "image/png": "[encoded data removed]",
      "text/plain": [
       "<Figure size 432x288 with 1 Axes>"
      ]
     },
     "metadata": {
      "needs_background": "light"
     },
     "output_type": "display_data"
    },
    {
     "name": "stdout",
     "output_type": "stream",
     "text": [
      "\n",
      "AUC: 0.93\n",
      "\n",
      "The confusion matrix:\n",
      " [[427   2]\n",
      " [ 25 119]]\n"
     ]
    }
   ],
   "source": [
    "nb.eval_model()"
   ]
  },
  {
   "cell_type": "code",
   "execution_count": null,
   "id": "0bcd91be",
   "metadata": {},
   "outputs": [],
   "source": []
  },
  {
   "cell_type": "code",
   "execution_count": null,
   "id": "22b1508a",
   "metadata": {},
   "outputs": [],
   "source": []
  }
 ],
 "metadata": {
  "kernelspec": {
   "display_name": "cnn-venv",
   "language": "python",
   "name": "cnn-venv"
  },
  "language_info": {
   "codemirror_mode": {
    "name": "ipython",
    "version": 3
   },
   "file_extension": ".py",
   "mimetype": "text/x-python",
   "name": "python",
   "nbconvert_exporter": "python",
   "pygments_lexer": "ipython3",
   "version": "3.10.5"
  }
 },
 "nbformat": 4,
 "nbformat_minor": 5
}
