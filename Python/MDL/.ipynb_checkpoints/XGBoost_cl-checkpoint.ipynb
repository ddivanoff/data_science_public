{
 "cells": [
  {
   "cell_type": "code",
   "execution_count": 1,
   "id": "bd7a88f2",
   "metadata": {},
   "outputs": [],
   "source": [
    "# This program uses XGBoost with Stroke data from Kaggle\n",
    "# Source: https://www.kaggle.com/datasets/fedesoriano/stroke-prediction-dataset?resource=download"
   ]
  },
  {
   "cell_type": "code",
   "execution_count": 2,
   "id": "71a90ac5",
   "metadata": {},
   "outputs": [],
   "source": [
    "import numpy as np\n",
    "import pandas as pd\n",
    "import matplotlib.pyplot as plt\n",
    "import seaborn as sns\n",
    "import xgboost as xgb\n",
    "import scikitplot as skplt\n",
    "\n",
    "from sklearn.model_selection import train_test_split\n",
    "from sklearn.decomposition import PCA\n",
    "from xgboost import XGBClassifier\n",
    "\n",
    "from sklearn.metrics import accuracy_score, classification_report, confusion_matrix, roc_curve,\\\n",
    "                            precision_recall_curve, f1_score, auc, precision_score, recall_score\n",
    "\n",
    "from sklearn.preprocessing import StandardScaler\n",
    "from imblearn.over_sampling import SMOTE\n",
    "from collections import Counter "
   ]
  },
  {
   "cell_type": "code",
   "execution_count": 3,
   "id": "8e6f47d2",
   "metadata": {},
   "outputs": [],
   "source": [
    "class imbal_XGB(object):\n",
    "    \n",
    "    \"\"\"\n",
    "    A class to process data from Kaggle and to predict, whether Strokes in patients may occur or not,\n",
    "    depending on diffierent idicators, used as features and then as predictors. It is an unbalanced\n",
    "    data set, hence two different approaches are available: one with weight coefficients and the \n",
    "    other one includes data replication only for the positive class. XGBoost will be used as the\n",
    "    deafault algorithm for binary classification.\n",
    "    \n",
    "    ...\n",
    "\n",
    "    Attributes\n",
    "    ----------\n",
    "    path_to_data: str\n",
    "        String to indicate the path to the data. Example: 'your_path/your_data.csv'\n",
    "    \n",
    "    Methods\n",
    "    -------\n",
    "    load_data(path_to_data):\n",
    "        Loads the data and prints its info.\n",
    "    filter_data():\n",
    "        Performs custom filtering, by filling NaNs with 0 and converting all non-numeric\n",
    "        colums to numeric. Also replacing string values with integers. In the end\n",
    "        descriptive statistics is available too for each feature including the target.\n",
    "    balance_check():\n",
    "        Returns the number of positive and negative target instances.\n",
    "    split_train_predict(weight_coeff):\n",
    "        Performs initialization of XGBoost, depending on the bool weight_coeff, which\n",
    "        deafault is True. If true, weight coefficients will be used for each class. If \n",
    "        False, instead data will be synthetically generated via SMOTE method (a.k.a.:\n",
    "        Syntehtic Minority Over-sampling Technique). After the choice of weight_coeff,\n",
    "        random split is performed, then fit() and predict() methods are called.\n",
    "    eval_model():\n",
    "        Evaluates the model performance with y_train. Confusion matrix, Precision-Recall,\n",
    "        ROC curves and the summary matrix are computed as evaluation metrics. \n",
    "        \n",
    "    \"\"\"\n",
    "    \n",
    "    \n",
    "    __slots__ = ['df_raw','df','model_xgb','summary', 'sm',\n",
    "                 'target','X_train','X_test','y_train','y_test',\n",
    "                 'y_pred','accuracy','precision','recall','thresholds','auc','f1','cm']\n",
    "    \n",
    "    def __init__(self, path_to_data:str) -> None:\n",
    "        \n",
    "        #Sanity check(s):\n",
    "        if path_to_data is None:\n",
    "            raise TypeError('Invalid None type of <<path_to_data>>. Only string values are accepted.')\n",
    "\n",
    "        if type(path_to_data) is not str:\n",
    "            raise TypeError('Invalid type of <<path_to_data>>. Only string values are accepted.')\n",
    "            \n",
    "        print('\\nWroking dir set to:', path_to_data)\n",
    "        \n",
    "    def load_data(self, path_to_data:str) -> None: \n",
    "        \n",
    "        self.df_raw = pd.read_csv(path_to_data, index_col = False)\n",
    "        print('\\nData successfully loaded.\\n')\n",
    "        print('\\nData shape:', self.df_raw.shape)\n",
    "        print('\\n\\nData head:\\n\\n', self.df_raw.head())\n",
    "        \n",
    "    def filter_data(self): \n",
    "\n",
    "        print('\\nDropping id column ... \\n')\n",
    "        self.df = self.df_raw.drop(['id'], axis = 1)\n",
    "        \n",
    "        print('\\nNumeric conversions on columns and NaNs fill with 0 ... \\n')\n",
    "        self.df['gender'] = self.df['gender'].replace(['Male', 'Female', 'Other'], ['1', '0', '-1']).astype(int)\n",
    "        self.df['ever_married'] = self.df['ever_married'].replace(['Yes', 'No'], ['1', '0']).astype(int)\n",
    "        self.df['work_type'] = self.df['work_type'].replace(['children', 'Govt_job', 'Never_worked', 'Private', 'Self-employed'],\n",
    "                                                            ['0', '1', '-1', '2', '3']).astype(int)\n",
    "        self.df['Residence_type'] = self.df['Residence_type'].replace(['Urban', 'Rural'], ['1', '0']).astype(int)\n",
    "        self.df['smoking_status'] = self.df['smoking_status'].replace(['formerly smoked', 'never smoked', 'Unknown', 'smokes'],\n",
    "                                                                      ['1', '0', '-1', '2']).astype(int)\n",
    "        self.df.fillna(0, inplace = True)\n",
    "        print('\\nData shape:', self.df.shape)\n",
    "        print('\\n\\nData head:\\n\\n', self.df.head())\n",
    "        print('\\n\\nDescriptive statistics:\\n\\n', self.df.describe())\n",
    "        \n",
    "    def balance_check(self):\n",
    "        \n",
    "        print('\\nNumber of positive cases in stroke:', len(self.df[self.df['stroke'] == 1]))\n",
    "        print('\\nNumber of negative cases in stroke:', len(self.df[self.df['stroke'] != 1]))\n",
    "  \n",
    "    def split_train_predict(self, weight_coeff = True):\n",
    "        \n",
    "        \n",
    "        if weight_coeff == True:\n",
    "            self.model_xgb = XGBClassifier(booster = 'gbtree', gamma = 0.01, alpha = 0.01, \n",
    "                                           eval_metric = 'error', n_estimators = 99, random_state = 12, \n",
    "                                           scale_pos_weight = len(self.df[self.df['stroke'] != 1])/len(self.df[self.df['stroke'] == 1]),\n",
    "                                           learning_rate = 0.6, n_jobs = -1) \n",
    "            \n",
    "        else:\n",
    "            self.sm = SMOTE(sampling_strategy = 'minority', random_state = 42, n_jobs = -1)\n",
    "            X_res, y_res = self.sm.fit_resample(self.df.iloc[:,:-1], self.df['stroke'])\n",
    "            print('\\nOld data shape:\\n', self.df.shape)\n",
    "            cols = self.df.columns\n",
    "            self.df = pd.concat([X_res, y_res], axis = 1, ignore_index = True)\n",
    "            self.df = self.df.fillna(0)\n",
    "            self.df.columns = cols\n",
    "            \n",
    "            print('\\nNew data shape:\\n', self.df.shape)\n",
    "            print('\\nResampled target classes:\\n', Counter(y_res))\n",
    "            \n",
    "            del X_res, y_res, cols\n",
    "            \n",
    "            self.model_xgb = XGBClassifier(booster = 'gbtree', gamma = 0.01, alpha = 0.01, \n",
    "                                           eval_metric = 'error', n_estimators = 99, random_state = 12, \n",
    "                                           learning_rate = 0.6, n_jobs = -1)\n",
    "            \n",
    "            \n",
    "        self.target = self.df['stroke'].astype('category')\n",
    "    \n",
    "        self.X_train, self.X_test, self.y_train, self.y_test = train_test_split(self.df.iloc[:,:-1], \n",
    "                                                                                self.target, \n",
    "                                                                                train_size = 0.9,\n",
    "                                                                                test_size =  0.1,\n",
    "                                                                                random_state = 12)\n",
    "\n",
    "        print('\\nTrain data size:\\n', self.X_train.shape)\n",
    "        print('\\nTеst data size:\\n', self.X_test.shape)\n",
    "        print('\\nTrain label size:\\n', self.y_train.shape)\n",
    "        print('\\nTest label size:\\n', self.y_test.shape)\n",
    "            \n",
    "            \n",
    "        self.model_xgb.fit(self.X_train, self.y_train)\n",
    "\n",
    "        print(self.model_xgb)   \n",
    "\n",
    "        self.y_pred = self.model_xgb.predict_proba(self.X_test)\n",
    "        self.accuracy = accuracy_score(self.y_test, np.round(self.y_pred[:,1]))\n",
    "        print(\"Accuracy: %.2f%%\" % (self.accuracy * 100.0))\n",
    "     \n",
    "  \n",
    "    def eval_model(self):\n",
    "        \n",
    "        self.summary = classification_report(self.y_test, np.round(self.y_pred[:,1]))\n",
    "        print('\\nPrecision, recall, accuracy and f1-score:\\n', self.summary)\n",
    "        \n",
    "        self.precision, self.recall, self.thresholds = precision_recall_curve(self.y_test, np.round(self.y_pred[:,1]))\n",
    "        \n",
    "        plt.figure()\n",
    "        plt.plot(self.recall, self.precision)\n",
    "        plt.xlabel('Recall')\n",
    "        plt.ylabel('Precision')\n",
    "        plt.title('Precision - Recall Curve')\n",
    "        plt.show()\n",
    "        \n",
    "        self.f1, self.auc = f1_score(self.y_test, np.round(self.y_pred[:,1])), auc(self.recall, self.precision)\n",
    "        print('\\nAUC:', f'{self.auc:.2}')\n",
    "        \n",
    "        self.cm = confusion_matrix(self.y_test, np.round(self.y_pred[:,1]))\n",
    "        print('\\nThe confusion matrix:\\n', self.cm)"
   ]
  },
  {
   "cell_type": "code",
   "execution_count": 4,
   "id": "d1b2074e",
   "metadata": {},
   "outputs": [],
   "source": [
    "path = 'healthcare-dataset-stroke-data.csv'"
   ]
  },
  {
   "cell_type": "code",
   "execution_count": 5,
   "id": "ee812532",
   "metadata": {},
   "outputs": [
    {
     "name": "stdout",
     "output_type": "stream",
     "text": [
      "\n",
      "Wroking dir set to: healthcare-dataset-stroke-data.csv\n"
     ]
    }
   ],
   "source": [
    "gb = imbal_XGB(path)"
   ]
  },
  {
   "cell_type": "code",
   "execution_count": 6,
   "id": "c6eaf2ad",
   "metadata": {},
   "outputs": [
    {
     "name": "stdout",
     "output_type": "stream",
     "text": [
      "\n",
      "Data successfully loaded.\n",
      "\n",
      "\n",
      "Data shape: (5110, 12)\n",
      "\n",
      "\n",
      "Data head:\n",
      "\n",
      "       id  gender   age  hypertension  heart_disease ever_married  \\\n",
      "0   9046    Male  67.0             0              1          Yes   \n",
      "1  51676  Female  61.0             0              0          Yes   \n",
      "2  31112    Male  80.0             0              1          Yes   \n",
      "3  60182  Female  49.0             0              0          Yes   \n",
      "4   1665  Female  79.0             1              0          Yes   \n",
      "\n",
      "       work_type Residence_type  avg_glucose_level   bmi   smoking_status  \\\n",
      "0        Private          Urban             228.69  36.6  formerly smoked   \n",
      "1  Self-employed          Rural             202.21   NaN     never smoked   \n",
      "2        Private          Rural             105.92  32.5     never smoked   \n",
      "3        Private          Urban             171.23  34.4           smokes   \n",
      "4  Self-employed          Rural             174.12  24.0     never smoked   \n",
      "\n",
      "   stroke  \n",
      "0       1  \n",
      "1       1  \n",
      "2       1  \n",
      "3       1  \n",
      "4       1  \n"
     ]
    }
   ],
   "source": [
    "gb.load_data(path)"
   ]
  },
  {
   "cell_type": "code",
   "execution_count": 7,
   "id": "11f182de",
   "metadata": {},
   "outputs": [
    {
     "name": "stdout",
     "output_type": "stream",
     "text": [
      "\n",
      "Dropping id column ... \n",
      "\n",
      "\n",
      "Numeric conversions on columns and NaNs fill with 0 ... \n",
      "\n",
      "\n",
      "Data shape: (5110, 11)\n",
      "\n",
      "\n",
      "Data head:\n",
      "\n",
      "    gender   age  hypertension  heart_disease  ever_married  work_type  \\\n",
      "0       1  67.0             0              1             1          2   \n",
      "1       0  61.0             0              0             1          3   \n",
      "2       1  80.0             0              1             1          2   \n",
      "3       0  49.0             0              0             1          2   \n",
      "4       0  79.0             1              0             1          3   \n",
      "\n",
      "   Residence_type  avg_glucose_level   bmi  smoking_status  stroke  \n",
      "0               1             228.69  36.6               1       1  \n",
      "1               0             202.21   0.0               0       1  \n",
      "2               0             105.92  32.5               0       1  \n",
      "3               1             171.23  34.4               2       1  \n",
      "4               0             174.12  24.0               0       1  \n",
      "\n",
      "\n",
      "Descriptive statistics:\n",
      "\n",
      "             gender          age  hypertension  heart_disease  ever_married  \\\n",
      "count  5110.000000  5110.000000   5110.000000    5110.000000   5110.000000   \n",
      "mean      0.413699    43.226614      0.097456       0.054012      0.656164   \n",
      "std       0.492941    22.612647      0.296607       0.226063      0.475034   \n",
      "min      -1.000000     0.080000      0.000000       0.000000      0.000000   \n",
      "25%       0.000000    25.000000      0.000000       0.000000      0.000000   \n",
      "50%       0.000000    45.000000      0.000000       0.000000      1.000000   \n",
      "75%       1.000000    61.000000      0.000000       0.000000      1.000000   \n",
      "max       1.000000    82.000000      1.000000       1.000000      1.000000   \n",
      "\n",
      "         work_type  Residence_type  avg_glucose_level          bmi  \\\n",
      "count  5110.000000     5110.000000        5110.000000  5110.000000   \n",
      "mean      1.749902        0.508023         106.147677    27.756732   \n",
      "std       0.896086        0.499985          45.283560     9.529497   \n",
      "min      -1.000000        0.000000          55.120000     0.000000   \n",
      "25%       1.000000        0.000000          77.245000    22.900000   \n",
      "50%       2.000000        1.000000          91.885000    27.700000   \n",
      "75%       2.000000        1.000000         114.090000    32.800000   \n",
      "max       3.000000        1.000000         271.740000    97.600000   \n",
      "\n",
      "       smoking_status       stroke  \n",
      "count     5110.000000  5110.000000  \n",
      "mean         0.179843     0.048728  \n",
      "std          1.029961     0.215320  \n",
      "min         -1.000000     0.000000  \n",
      "25%         -1.000000     0.000000  \n",
      "50%          0.000000     0.000000  \n",
      "75%          1.000000     0.000000  \n",
      "max          2.000000     1.000000  \n"
     ]
    }
   ],
   "source": [
    "gb.filter_data()"
   ]
  },
  {
   "cell_type": "code",
   "execution_count": 8,
   "id": "45eef881",
   "metadata": {},
   "outputs": [
    {
     "name": "stdout",
     "output_type": "stream",
     "text": [
      "\n",
      "Number of positive cases in stroke: 249\n",
      "\n",
      "Number of negative cases in stroke: 4861\n"
     ]
    }
   ],
   "source": [
    "gb.balance_check()"
   ]
  },
  {
   "cell_type": "code",
   "execution_count": 9,
   "id": "afa0117e",
   "metadata": {},
   "outputs": [
    {
     "name": "stdout",
     "output_type": "stream",
     "text": [
      "\n",
      "Train data size:\n",
      " (4599, 10)\n",
      "\n",
      "Tеst data size:\n",
      " (511, 10)\n",
      "\n",
      "Train label size:\n",
      " (4599,)\n",
      "\n",
      "Test label size:\n",
      " (511,)\n",
      "XGBClassifier(alpha=0.01, base_score=None, booster='gbtree', callbacks=None,\n",
      "              colsample_bylevel=None, colsample_bynode=None,\n",
      "              colsample_bytree=None, early_stopping_rounds=None,\n",
      "              enable_categorical=False, eval_metric='error', feature_types=None,\n",
      "              gamma=0.01, gpu_id=None, grow_policy=None, importance_type=None,\n",
      "              interaction_constraints=None, learning_rate=0.6, max_bin=None,\n",
      "              max_cat_threshold=None, max_cat_to_onehot=None,\n",
      "              max_delta_step=None, max_depth=None, max_leaves=None,\n",
      "              min_child_weight=None, missing=nan, monotone_constraints=None,\n",
      "              n_estimators=99, n_jobs=-1, num_parallel_tree=None,\n",
      "              predictor=None, ...)\n",
      "Accuracy: 91.78%\n"
     ]
    }
   ],
   "source": [
    "gb.split_train_predict(weight_coeff = True)"
   ]
  },
  {
   "cell_type": "code",
   "execution_count": 10,
   "id": "871eeb48",
   "metadata": {},
   "outputs": [
    {
     "name": "stdout",
     "output_type": "stream",
     "text": [
      "\n",
      "Precision, recall, accuracy and f1-score:\n",
      "               precision    recall  f1-score   support\n",
      "\n",
      "           0       0.95      0.96      0.96       482\n",
      "           1       0.19      0.14      0.16        29\n",
      "\n",
      "    accuracy                           0.92       511\n",
      "   macro avg       0.57      0.55      0.56       511\n",
      "weighted avg       0.91      0.92      0.91       511\n",
      "\n"
     ]
    },
    {
     "data": {
      "image/png": "[encoded data removed]",
      "text/plain": [
       "<Figure size 432x288 with 1 Axes>"
      ]
     },
     "metadata": {
      "needs_background": "light"
     },
     "output_type": "display_data"
    },
    {
     "name": "stdout",
     "output_type": "stream",
     "text": [
      "\n",
      "AUC: 0.19\n",
      "\n",
      "The confusion matrix:\n",
      " [[465  17]\n",
      " [ 25   4]]\n"
     ]
    }
   ],
   "source": [
    "gb.eval_model()"
   ]
  },
  {
   "cell_type": "code",
   "execution_count": 11,
   "id": "23f064e4",
   "metadata": {},
   "outputs": [
    {
     "name": "stdout",
     "output_type": "stream",
     "text": [
      "\n",
      "Old data shape:\n",
      " (5110, 11)\n",
      "\n",
      "New data shape:\n",
      " (9722, 11)\n",
      "\n",
      "Resampled target classes:\n",
      " Counter({1: 4861, 0: 4861})\n",
      "\n",
      "Train data size:\n",
      " (8749, 10)\n",
      "\n",
      "Tеst data size:\n",
      " (973, 10)\n",
      "\n",
      "Train label size:\n",
      " (8749,)\n",
      "\n",
      "Test label size:\n",
      " (973,)\n"
     ]
    },
    {
     "name": "stderr",
     "output_type": "stream",
     "text": [
      "/Users/ddi/python_venv/cnn/cnn/cnn-venv/lib/python3.10/site-packages/imblearn/over_sampling/_smote/base.py:345: FutureWarning: The parameter `n_jobs` has been deprecated in 0.10 and will be removed in 0.12. You can pass an nearest neighbors estimator where `n_jobs` is already set instead.\n",
      "  warnings.warn(\n"
     ]
    },
    {
     "name": "stdout",
     "output_type": "stream",
     "text": [
      "XGBClassifier(alpha=0.01, base_score=None, booster='gbtree', callbacks=None,\n",
      "              colsample_bylevel=None, colsample_bynode=None,\n",
      "              colsample_bytree=None, early_stopping_rounds=None,\n",
      "              enable_categorical=False, eval_metric='error', feature_types=None,\n",
      "              gamma=0.01, gpu_id=None, grow_policy=None, importance_type=None,\n",
      "              interaction_constraints=None, learning_rate=0.6, max_bin=None,\n",
      "              max_cat_threshold=None, max_cat_to_onehot=None,\n",
      "              max_delta_step=None, max_depth=None, max_leaves=None,\n",
      "              min_child_weight=None, missing=nan, monotone_constraints=None,\n",
      "              n_estimators=99, n_jobs=-1, num_parallel_tree=None,\n",
      "              predictor=None, ...)\n",
      "Accuracy: 95.99%\n"
     ]
    }
   ],
   "source": [
    "gb.split_train_predict(weight_coeff = False)"
   ]
  },
  {
   "cell_type": "code",
   "execution_count": 12,
   "id": "d9fd1590",
   "metadata": {},
   "outputs": [
    {
     "name": "stdout",
     "output_type": "stream",
     "text": [
      "\n",
      "Precision, recall, accuracy and f1-score:\n",
      "               precision    recall  f1-score   support\n",
      "\n",
      "           0       0.97      0.95      0.96       488\n",
      "           1       0.95      0.97      0.96       485\n",
      "\n",
      "    accuracy                           0.96       973\n",
      "   macro avg       0.96      0.96      0.96       973\n",
      "weighted avg       0.96      0.96      0.96       973\n",
      "\n"
     ]
    },
    {
     "data": {
      "image/png": "[encoded data removed]",
      "text/plain": [
       "<Figure size 432x288 with 1 Axes>"
      ]
     },
     "metadata": {
      "needs_background": "light"
     },
     "output_type": "display_data"
    },
    {
     "name": "stdout",
     "output_type": "stream",
     "text": [
      "\n",
      "AUC: 0.97\n",
      "\n",
      "The confusion matrix:\n",
      " [[465  23]\n",
      " [ 16 469]]\n"
     ]
    }
   ],
   "source": [
    "gb.eval_model()"
   ]
  },
  {
   "cell_type": "code",
   "execution_count": null,
   "id": "1bbdc5af",
   "metadata": {},
   "outputs": [],
   "source": []
  }
 ],
 "metadata": {
  "kernelspec": {
   "display_name": "cnn-venv",
   "language": "python",
   "name": "cnn-venv"
  },
  "language_info": {
   "codemirror_mode": {
    "name": "ipython",
    "version": 3
   },
   "file_extension": ".py",
   "mimetype": "text/x-python",
   "name": "python",
   "nbconvert_exporter": "python",
   "pygments_lexer": "ipython3",
   "version": "3.10.5"
  }
 },
 "nbformat": 4,
 "nbformat_minor": 5
}
