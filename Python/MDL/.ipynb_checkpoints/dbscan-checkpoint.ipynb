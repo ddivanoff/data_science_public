{
 "cells": [
  {
   "cell_type": "code",
   "execution_count": 1,
   "metadata": {},
   "outputs": [],
   "source": [
    "import numpy as np\n",
    "import matplotlib.pyplot as plt\n",
    "\n",
    "from sklearn.datasets import make_blobs\n",
    "from sklearn.preprocessing import StandardScaler\n",
    "from sklearn.cluster import DBSCAN\n",
    "from sklearn.metrics import silhouette_score"
   ]
  },
  {
   "cell_type": "code",
   "execution_count": 2,
   "metadata": {},
   "outputs": [
    {
     "data": {
      "image/png": "[encoded data removed]",
      "text/plain": [
       "<Figure size 432x288 with 1 Axes>"
      ]
     },
     "metadata": {
      "needs_background": "light"
     },
     "output_type": "display_data"
    }
   ],
   "source": [
    "# Data generation\n",
    "\n",
    "# Get centroids' coordinates \n",
    "c = [[1, 1],\n",
    "     [-1, -1],\n",
    "     [1, -1],\n",
    "     [0, 0],\n",
    "     [-1, 1]]\n",
    "\n",
    "# Generate data for clustering\n",
    "X, y = make_blobs(n_samples = 2000, centers = c, cluster_std = 0.22, random_state = 0)\n",
    "\n",
    "# Data standardization\n",
    "X = StandardScaler().fit_transform(X)\n",
    "\n",
    "# Scatter plot\n",
    "plt.figure()\n",
    "plt.scatter(X[:, 0], X[:, 1])\n",
    "plt.xlabel('x')\n",
    "plt.ylabel('y')\n",
    "plt.title('Scatter plot')\n",
    "plt.show()"
   ]
  },
  {
   "cell_type": "code",
   "execution_count": 3,
   "metadata": {},
   "outputs": [],
   "source": [
    "range_eps = [0.2, 0.25, 0.3, 0.35, 0.4, 0.45]\n",
    "range_num = range(7,17,2)\n",
    "\n",
    "\n",
    "def hypar_opt(data, e:list, n:list, *args, **kwargs) -> np.array:\n",
    "    \n",
    "    \n",
    "    '''\n",
    "    Function to compute DBSCAN as a clustering algorithm for unsupervised machine learning, \n",
    "    by performing hyperparametric optimisation and evaluation of the best parameters. By \n",
    "    default, n_jobs = -1 and evaluation metric - silhouette_coefficient. \n",
    "    \n",
    "    Inputs\n",
    "    ------\n",
    "    data: np.array\n",
    "       Data with clusters\n",
    "    e: list\n",
    "       List with ranges for the eps parameter.\n",
    "    n: list\n",
    "       List with ranges for the min_samplese parameter.\n",
    "       \n",
    "    Returns\n",
    "    -------\n",
    "    optimal: np.array\n",
    "       Array with the best hyperparameters. 1 x 5 array with values\n",
    "       [eps, min_samples, silhouette_coefficient, n_clusters, n_noise]\n",
    "       \n",
    "    '''\n",
    "    \n",
    "    \n",
    "    max_coeff = 0\n",
    "    idx = 0\n",
    "    \n",
    "    for ii in e:\n",
    "        for jj in n:\n",
    "            db = DBSCAN(eps = ii, min_samples = jj, n_jobs = -1).fit(X)\n",
    "            labels = db.labels_\n",
    "            n_clusters_ = len(set(labels)) - (1 if -1 in labels else 0)\n",
    "            n_noise_ = list(labels).count(-1)\n",
    "            scoeff = silhouette_score(X, labels)\n",
    "\n",
    "            if scoeff > max_coeff:\n",
    "                max_coeff = scoeff\n",
    "                idx = (ii, jj, n_clusters_, n_noise_)  \n",
    "\n",
    "    optimal = [idx[0], idx[1], max_coeff, idx[2], idx[3]]\n",
    "    \n",
    "    return optimal                           "
   ]
  },
  {
   "cell_type": "code",
   "execution_count": 4,
   "metadata": {},
   "outputs": [
    {
     "name": "stdout",
     "output_type": "stream",
     "text": [
      "The most optimal parameters:\n",
      "\n",
      " [eps, min_samples, silhouette_coefficient, n_clusters, n_noise]\n",
      "\n",
      " [0.35, 11, 0.715842325459209, 5, 0]\n"
     ]
    }
   ],
   "source": [
    "best = hypar_opt(data = X, e = range_eps, n = range_num)\n",
    "print('The most optimal parameters:\\n\\n [eps, min_samples, silhouette_coefficient, n_clusters, n_noise]\\n\\n', best)"
   ]
  },
  {
   "cell_type": "code",
   "execution_count": 5,
   "metadata": {},
   "outputs": [
    {
     "name": "stdout",
     "output_type": "stream",
     "text": [
      "Final silhouette coefficient: 0.716\n"
     ]
    }
   ],
   "source": [
    "db = DBSCAN(eps = best[0], min_samples = best[1], n_jobs = -1).fit(X)\n",
    "sc = silhouette_score(X, db.labels_)\n",
    "print('Final silhouette coefficient:', f'{sc:.3f}')"
   ]
  },
  {
   "cell_type": "code",
   "execution_count": 6,
   "metadata": {},
   "outputs": [
    {
     "name": "stdout",
     "output_type": "stream",
     "text": [
      "Help on function hypar_opt in module __main__:\n",
      "\n",
      "hypar_opt(data, e: list, n: list, *args, **kwargs) -> <built-in function array>\n",
      "    Function to compute DBSCAN as a clustering algorithm for unsupervised machine learning, \n",
      "    by performing hyperparametric optimisation and evaluation of the best parameters. By \n",
      "    default, n_jobs = -1 and evaluation metric - silhouette_coefficient. \n",
      "    \n",
      "    Inputs\n",
      "    ------\n",
      "    data: np.array\n",
      "       Data with clusters\n",
      "    e: list\n",
      "       List with ranges for the eps parameter.\n",
      "    n: list\n",
      "       List with ranges for the min_samplese parameter.\n",
      "       \n",
      "    Returns\n",
      "    -------\n",
      "    optimal: np.array\n",
      "       Array with the best hyperparameters. 1 x 5 array with values\n",
      "       [eps, min_samples, silhouette_coefficient, n_clusters, n_noise]\n",
      "\n"
     ]
    }
   ],
   "source": [
    "help(hypar_opt)"
   ]
  },
  {
   "cell_type": "code",
   "execution_count": null,
   "metadata": {},
   "outputs": [],
   "source": []
  }
 ],
 "metadata": {
  "kernelspec": {
   "display_name": "cnn-venv",
   "language": "python",
   "name": "cnn-venv"
  },
  "language_info": {
   "codemirror_mode": {
    "name": "ipython",
    "version": 3
   },
   "file_extension": ".py",
   "mimetype": "text/x-python",
   "name": "python",
   "nbconvert_exporter": "python",
   "pygments_lexer": "ipython3",
   "version": "3.10.5"
  }
 },
 "nbformat": 4,
 "nbformat_minor": 4
}
