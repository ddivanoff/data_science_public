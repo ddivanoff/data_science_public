{
 "cells": [
  {
   "cell_type": "code",
   "execution_count": 1,
   "id": "c3233990",
   "metadata": {},
   "outputs": [],
   "source": [
    "# Recurrent Neural Networks with IMDB Dataset for binary classification - a movie is/is not good"
   ]
  },
  {
   "cell_type": "code",
   "execution_count": 2,
   "id": "02cf40ac",
   "metadata": {},
   "outputs": [],
   "source": [
    "#LSTM - Long Short-Term Memory - makes the neural netrwork recurrent and helps learning from sequences"
   ]
  },
  {
   "cell_type": "code",
   "execution_count": 3,
   "id": "12fa9ac8",
   "metadata": {},
   "outputs": [],
   "source": [
    "#Libs\n",
    "from sklearn.metrics import classification_report\n",
    "from sklearn.metrics import confusion_matrix\n",
    "from sklearn.model_selection import train_test_split\n",
    "\n",
    "from tensorflow.keras.datasets import imdb\n",
    "from tensorflow.keras.models import Sequential\n",
    "from tensorflow.keras.layers import Dense, LSTM\n",
    "from tensorflow.keras.preprocessing.sequence import pad_sequences\n",
    "#from tensorflow.keras.layers.embeddings import Embedding \n",
    "from keras.layers import Embedding\n",
    "\n",
    "### Eenable the GPU\n",
    "import tensorflow as tf\n",
    "import time as time\n",
    "import numpy as np\n",
    "\n",
    "import matplotlib.pyplot as plt "
   ]
  },
  {
   "cell_type": "code",
   "execution_count": 4,
   "id": "fefb5b1d",
   "metadata": {},
   "outputs": [],
   "source": [
    "#Data import\n",
    "(X_train, y_train), (X_valtest, y_valtest) = imdb.load_data(num_words=8000) #max is 88 000 (!)"
   ]
  },
  {
   "cell_type": "code",
   "execution_count": 5,
   "id": "149570e5",
   "metadata": {},
   "outputs": [
    {
     "name": "stdout",
     "output_type": "stream",
     "text": [
      "Pretty printing has been turned OFF\n"
     ]
    }
   ],
   "source": [
    "%pprint # to view in row"
   ]
  },
  {
   "cell_type": "code",
   "execution_count": 6,
   "id": "35213b17",
   "metadata": {},
   "outputs": [
    {
     "data": {
      "text/plain": [
       "[1, 1415, 2204, 9, 24, 43, 6, 20, 12, 9, 6, 1379, 2650, 3818, 65, 5, 2618, 83, 4, 2667, 978, 7, 6, 678, 1494, 11, 479, 24, 64, 127, 3387, 2079, 81, 6, 1307, 292, 7, 2, 6, 2, 2930, 632, 1230, 5497, 21, 29, 1545, 6, 749, 8, 4, 1071, 44, 4, 3645, 7, 1226, 2, 2, 4, 65, 7, 5497, 35, 2, 2121, 5, 27, 293, 2, 2597, 1411, 9, 6, 5448, 31, 21, 4, 2095, 1023, 7, 27, 113, 70, 140, 724, 4, 2, 2534, 11, 1226, 2415, 1415, 2204, 1030, 8, 5702, 8, 94, 311, 4, 6842, 1251, 7, 4, 1573, 1193, 114, 12, 9, 88, 7, 87, 108, 40, 14, 31, 15, 4, 1071, 70, 413, 6100, 23, 394, 687, 11, 479, 87, 6125, 37, 6442, 8, 130, 98, 5, 89, 75, 70, 115, 1741, 98, 8, 593, 11, 4, 705, 88, 7, 14, 3395, 1415, 2204, 9, 35, 480, 22, 15, 144, 30, 110, 34, 32]"
      ]
     },
     "execution_count": 6,
     "metadata": {},
     "output_type": "execute_result"
    }
   ],
   "source": [
    "X_train[321] # 1D list of integers representing one review content"
   ]
  },
  {
   "cell_type": "code",
   "execution_count": 7,
   "id": "14dc8711",
   "metadata": {},
   "outputs": [
    {
     "data": {
      "text/plain": [
       "1"
      ]
     },
     "execution_count": 7,
     "metadata": {},
     "output_type": "execute_result"
    }
   ],
   "source": [
    " y_train[321] # Target variable 1 - good review, 0 - bad review"
   ]
  },
  {
   "cell_type": "code",
   "execution_count": 8,
   "id": "a71a8acf",
   "metadata": {},
   "outputs": [],
   "source": [
    "# Decoding hint: Each word has a value for frequency occurence in the data set. \n",
    "# 1 - most frequent, n - less frequent\n",
    "# However, there is a offset by 3, such that: 4 - most frequent, n + 3 - less frequent\n",
    "# 0 - Padding or need to expand the review for equal dimensions between all training samples\n",
    "# 1 - Token to start a text sequence for learning\n",
    "# 2 - Unknown word, which may not have been loaded if num_words < frequency of word(i)"
   ]
  },
  {
   "cell_type": "code",
   "execution_count": 9,
   "id": "33e193a1",
   "metadata": {},
   "outputs": [],
   "source": [
    "# Decoding"
   ]
  },
  {
   "cell_type": "code",
   "execution_count": 10,
   "id": "d8e877b4",
   "metadata": {},
   "outputs": [],
   "source": [
    "#wti - word to index\n",
    "wti = imdb.get_word_index()"
   ]
  },
  {
   "cell_type": "code",
   "execution_count": 11,
   "id": "eb0ae25e",
   "metadata": {},
   "outputs": [
    {
     "data": {
      "text/plain": [
       "477"
      ]
     },
     "execution_count": 11,
     "metadata": {},
     "output_type": "execute_result"
    }
   ],
   "source": [
    "wti['amazing']"
   ]
  },
  {
   "cell_type": "code",
   "execution_count": 12,
   "id": "d9b04820",
   "metadata": {},
   "outputs": [],
   "source": [
    "#itw - index to word\n",
    "itw = {i: w for (w,i) in wti.items()} # i - index, w - word"
   ]
  },
  {
   "cell_type": "code",
   "execution_count": 13,
   "id": "04323f3e",
   "metadata": {},
   "outputs": [
    {
     "data": {
      "text/plain": [
       "['the', 'and', 'a', 'of', 'to', 'is', 'br', 'in', 'it', 'i']"
      ]
     },
     "execution_count": 13,
     "metadata": {},
     "output_type": "execute_result"
    }
   ],
   "source": [
    "[itw[ii] for ii in range(1,11)] # getting the top 10 words"
   ]
  },
  {
   "cell_type": "code",
   "execution_count": 14,
   "id": "06404c25",
   "metadata": {},
   "outputs": [],
   "source": [
    "# We need stops words in this case !"
   ]
  },
  {
   "cell_type": "code",
   "execution_count": 15,
   "id": "ee742927",
   "metadata": {},
   "outputs": [
    {
     "data": {
      "text/plain": [
       "'? cry freedom is not just a movie it is a historical account heroic story and insight into the cultural background of a major event in history not only does denzel washington do a terrific job of ? a ? determined hero steve biko but he delivers a message to the public about the horrors of south ? ? the story of biko an ? leader and his main ? donald woods is a heartbreaking one but the ultimate success of his life can go beyond the ? committed in south africa cry freedom manages to communicate to its audience the optimistic aspect of the seemingly disturbing plot it is because of great films like this one that the public can become educated on terrible events in history great leaders who sought to end them and how we can never allow them to happen in the future because of this importance cry freedom is an amazing film that should be seen by all'"
      ]
     },
     "execution_count": 15,
     "metadata": {},
     "output_type": "execute_result"
    }
   ],
   "source": [
    "# So in reality the review with index 321 is the following:\n",
    "' '.join([itw.get(i-3,'?') for i in X_train[321]]) # ? will appear if we have indices from 0 to 3"
   ]
  },
  {
   "cell_type": "code",
   "execution_count": 16,
   "id": "f748901e",
   "metadata": {},
   "outputs": [],
   "source": [
    "# Positive review as snippet 8 reveals"
   ]
  },
  {
   "cell_type": "code",
   "execution_count": 17,
   "id": "45948646",
   "metadata": {},
   "outputs": [],
   "source": [
    "# Now we need to idicate the number of words per review - Ex. 80"
   ]
  },
  {
   "cell_type": "code",
   "execution_count": 18,
   "id": "c0e44497",
   "metadata": {},
   "outputs": [],
   "source": [
    "wpr = 80\n",
    "X_train = pad_sequences(X_train, maxlen=wpr)\n",
    "X_valtest = pad_sequences(X_valtest, maxlen=wpr)"
   ]
  },
  {
   "cell_type": "code",
   "execution_count": 19,
   "id": "a68b7049",
   "metadata": {},
   "outputs": [],
   "source": [
    "X_test, X_validate, y_test, y_validate = train_test_split(X_valtest, y_valtest, random_state = 69, test_size = 0.5)"
   ]
  },
  {
   "cell_type": "code",
   "execution_count": 20,
   "id": "d2740552",
   "metadata": {},
   "outputs": [
    {
     "name": "stdout",
     "output_type": "stream",
     "text": [
      "Train data size is:\n",
      " (25000, 80)\n",
      "\n",
      "Train label size is:\n",
      " (25000,)\n",
      "\n",
      "Validation data size is:\n",
      " (12500, 80)\n",
      "\n",
      "Validation label size is:\n",
      " (12500,)\n",
      "\n",
      "Test data size is:\n",
      " (12500, 80)\n",
      "\n",
      "Test label size is:\n",
      " (12500,)\n"
     ]
    }
   ],
   "source": [
    "print('Train data size is:\\n', X_train.shape)\n",
    "print('\\nTrain label size is:\\n', y_train.shape)\n",
    "print('\\nValidation data size is:\\n', X_validate.shape)\n",
    "print('\\nValidation label size is:\\n', y_validate.shape)\n",
    "print('\\nTest data size is:\\n', X_test.shape)\n",
    "print('\\nTest label size is:\\n', y_test.shape)"
   ]
  },
  {
   "cell_type": "code",
   "execution_count": 21,
   "id": "2aaebe76",
   "metadata": {},
   "outputs": [
    {
     "data": {
      "text/plain": [
       "[PhysicalDevice(name='/physical_device:CPU:0', device_type='CPU'), PhysicalDevice(name='/physical_device:GPU:0', device_type='GPU')]"
      ]
     },
     "execution_count": 21,
     "metadata": {},
     "output_type": "execute_result"
    }
   ],
   "source": [
    "# Check CPU and GPU \n",
    "tf.config.list_physical_devices()"
   ]
  },
  {
   "cell_type": "code",
   "execution_count": 22,
   "id": "deb5a2c0",
   "metadata": {},
   "outputs": [
    {
     "name": "stdout",
     "output_type": "stream",
     "text": [
      "Num GPUs Available:  1\n"
     ]
    }
   ],
   "source": [
    "# Print GPU\n",
    "print(\"Num GPUs Available: \", len(tf.config.experimental.list_physical_devices('GPU')))"
   ]
  },
  {
   "cell_type": "code",
   "execution_count": 23,
   "id": "2592beb6",
   "metadata": {},
   "outputs": [],
   "source": [
    "# Building the model"
   ]
  },
  {
   "cell_type": "code",
   "execution_count": 24,
   "id": "7e5ecf9f",
   "metadata": {},
   "outputs": [
    {
     "name": "stdout",
     "output_type": "stream",
     "text": [
      "Metal device set to: Apple M1\n"
     ]
    },
    {
     "name": "stderr",
     "output_type": "stream",
     "text": [
      "2023-06-15 16:32:13.672677: I tensorflow/core/common_runtime/pluggable_device/pluggable_device_factory.cc:305] Could not identify NUMA node of platform GPU ID 0, defaulting to 0. Your kernel may not have been built with NUMA support.\n",
      "2023-06-15 16:32:13.672761: I tensorflow/core/common_runtime/pluggable_device/pluggable_device_factory.cc:271] Created TensorFlow device (/job:localhost/replica:0/task:0/device:GPU:0 with 0 MB memory) -> physical PluggableDevice (device: 0, name: METAL, pci bus id: <undefined>)\n"
     ]
    }
   ],
   "source": [
    "rnn = Sequential()"
   ]
  },
  {
   "cell_type": "code",
   "execution_count": 25,
   "id": "f51449f5",
   "metadata": {},
   "outputs": [],
   "source": [
    "# We need embedding to reduce dimensionality by encoding each word in vector representation.\n",
    "# This would allow to include the context of a given word. "
   ]
  },
  {
   "cell_type": "code",
   "execution_count": 26,
   "id": "01c1bf20",
   "metadata": {},
   "outputs": [],
   "source": [
    "rnn.add(Embedding(input_dim=8000, output_dim=128, input_length=wpr))"
   ]
  },
  {
   "cell_type": "code",
   "execution_count": 27,
   "id": "d8d5fa4c",
   "metadata": {},
   "outputs": [],
   "source": [
    "#rnn.add(tf.keras.layers.BatchNormalization())"
   ]
  },
  {
   "cell_type": "code",
   "execution_count": 28,
   "id": "f649369b",
   "metadata": {},
   "outputs": [
    {
     "name": "stdout",
     "output_type": "stream",
     "text": [
      "WARNING:tensorflow:Layer lstm will not use cuDNN kernels since it doesn't meet the criteria. It will use a generic GPU kernel as fallback when running on GPU.\n"
     ]
    }
   ],
   "source": [
    "rnn.add(LSTM(units=80, dropout=0.2, recurrent_dropout=0.2, activation='relu')) # max 80 neuors as we have 80 words per review"
   ]
  },
  {
   "cell_type": "code",
   "execution_count": 29,
   "id": "49ae8dde",
   "metadata": {},
   "outputs": [],
   "source": [
    "#rnn.add(tf.keras.layers.BatchNormalization())"
   ]
  },
  {
   "cell_type": "code",
   "execution_count": 30,
   "id": "3afe7a19",
   "metadata": {},
   "outputs": [],
   "source": [
    "#rnn.add(Dense(128, activation='relu'))"
   ]
  },
  {
   "cell_type": "code",
   "execution_count": 31,
   "id": "78d410f6",
   "metadata": {},
   "outputs": [],
   "source": [
    "#rnn.add(tf.keras.layers.Dropout(0.2))"
   ]
  },
  {
   "cell_type": "code",
   "execution_count": 32,
   "id": "ebe3c757",
   "metadata": {},
   "outputs": [],
   "source": [
    "#rnn.add(tf.keras.layers.BatchNormalization())"
   ]
  },
  {
   "cell_type": "code",
   "execution_count": 33,
   "id": "d60c2d9f",
   "metadata": {},
   "outputs": [],
   "source": [
    "rnn.add(Dense(units=1, activation='sigmoid'))"
   ]
  },
  {
   "cell_type": "code",
   "execution_count": 34,
   "id": "890655f4",
   "metadata": {},
   "outputs": [],
   "source": [
    "rnn.compile(optimizer='adam',loss='binary_crossentropy',metrics=['accuracy'])"
   ]
  },
  {
   "cell_type": "code",
   "execution_count": 35,
   "id": "b9842130",
   "metadata": {},
   "outputs": [
    {
     "name": "stdout",
     "output_type": "stream",
     "text": [
      "Model: \"sequential\"\n",
      "_________________________________________________________________\n",
      " Layer (type)                Output Shape              Param #   \n",
      "=================================================================\n",
      " embedding (Embedding)       (None, 80, 128)           1024000   \n",
      "                                                                 \n",
      " lstm (LSTM)                 (None, 80)                66880     \n",
      "                                                                 \n",
      " dense (Dense)               (None, 1)                 81        \n",
      "                                                                 \n",
      "=================================================================\n",
      "Total params: 1,090,961\n",
      "Trainable params: 1,090,961\n",
      "Non-trainable params: 0\n",
      "_________________________________________________________________\n"
     ]
    }
   ],
   "source": [
    "rnn.summary()"
   ]
  },
  {
   "cell_type": "code",
   "execution_count": 36,
   "id": "be5465b4",
   "metadata": {},
   "outputs": [
    {
     "name": "stdout",
     "output_type": "stream",
     "text": [
      "Epoch 1/10\n"
     ]
    },
    {
     "name": "stderr",
     "output_type": "stream",
     "text": [
      "2023-06-15 16:32:13.900382: W tensorflow/core/platform/profile_utils/cpu_utils.cc:128] Failed to get CPU frequency: 0 Hz\n",
      "2023-06-15 16:32:14.798362: I tensorflow/core/grappler/optimizers/custom_graph_optimizer_registry.cc:113] Plugin optimizer for device_type GPU is enabled.\n"
     ]
    },
    {
     "name": "stdout",
     "output_type": "stream",
     "text": [
      "1563/1563 [==============================] - ETA: 0s - loss: 1181.6733 - accuracy: 0.6544"
     ]
    },
    {
     "name": "stderr",
     "output_type": "stream",
     "text": [
      "2023-06-15 16:34:20.547988: I tensorflow/core/grappler/optimizers/custom_graph_optimizer_registry.cc:113] Plugin optimizer for device_type GPU is enabled.\n"
     ]
    },
    {
     "name": "stdout",
     "output_type": "stream",
     "text": [
      "1563/1563 [==============================] - 156s 99ms/step - loss: 1181.6733 - accuracy: 0.6544 - val_loss: 0.6149 - val_accuracy: 0.6645\n",
      "Epoch 2/10\n",
      "1563/1563 [==============================] - 170s 109ms/step - loss: 0.7255 - accuracy: 0.7547 - val_loss: 0.7608 - val_accuracy: 0.7383\n",
      "Epoch 3/10\n",
      "1563/1563 [==============================] - 174s 111ms/step - loss: 0.5560 - accuracy: 0.7904 - val_loss: 0.5512 - val_accuracy: 0.7447\n",
      "Epoch 4/10\n",
      "1563/1563 [==============================] - 174s 111ms/step - loss: 0.4216 - accuracy: 0.8141 - val_loss: 0.5152 - val_accuracy: 0.7642\n",
      "Epoch 5/10\n",
      "1563/1563 [==============================] - 180s 115ms/step - loss: 0.3630 - accuracy: 0.8420 - val_loss: 0.5083 - val_accuracy: 0.7748\n",
      "Epoch 6/10\n",
      "1563/1563 [==============================] - 164s 105ms/step - loss: 0.3170 - accuracy: 0.8640 - val_loss: 0.5007 - val_accuracy: 0.7890\n",
      "Epoch 7/10\n",
      "1563/1563 [==============================] - 168s 108ms/step - loss: 0.3362 - accuracy: 0.8648 - val_loss: 0.5254 - val_accuracy: 0.7894\n",
      "Epoch 8/10\n",
      "1563/1563 [==============================] - 164s 105ms/step - loss: 0.2552 - accuracy: 0.8947 - val_loss: 0.5056 - val_accuracy: 0.7922\n",
      "Epoch 9/10\n",
      "1563/1563 [==============================] - 162s 103ms/step - loss: 0.2199 - accuracy: 0.9121 - val_loss: 0.5468 - val_accuracy: 0.7934\n",
      "Epoch 10/10\n",
      "1563/1563 [==============================] - 164s 105ms/step - loss: 0.1879 - accuracy: 0.9273 - val_loss: 0.5970 - val_accuracy: 0.7933\n"
     ]
    }
   ],
   "source": [
    "with tf.device('/CPU:0'):\n",
    "     model = rnn.fit(X_train, y_train, epochs=10, batch_size=16, validation_data=(X_validate, y_validate))"
   ]
  },
  {
   "cell_type": "code",
   "execution_count": 40,
   "id": "b3a984d8",
   "metadata": {},
   "outputs": [
    {
     "name": "stdout",
     "output_type": "stream",
     "text": [
      "dict_keys(['loss', 'accuracy', 'val_loss', 'val_accuracy'])\n"
     ]
    },
    {
     "data": {
      "image/png": "[encoded data removed]",
      "text/plain": [
       "<Figure size 432x288 with 1 Axes>"
      ]
     },
     "metadata": {
      "needs_background": "light"
     },
     "output_type": "display_data"
    }
   ],
   "source": [
    "print(model.history.keys())\n",
    "\n",
    "# \"Loss\"\n",
    "fig, ax = plt.subplots()\n",
    "plt.plot(model.history['loss'], linewidth=3.5)\n",
    "plt.plot(model.history['val_loss'], linewidth=3.5)\n",
    "plt.title('Model loss', size=15, fontweight='bold')\n",
    "ax.spines[:].set_linewidth(3.5)\n",
    "plt.ylabel('Loss', size=15, fontweight='bold')\n",
    "plt.yticks(fontsize=15,fontweight='bold')\n",
    "plt.ylim(0, 1)\n",
    "plt.xlabel('Epoch', size=15, fontweight='bold')\n",
    "plt.xticks(fontsize=15,fontweight='bold')\n",
    "plt.legend(['Train', 'Validation'], loc='upper right', fontsize=15)\n",
    "plt.show()"
   ]
  },
  {
   "cell_type": "code",
   "execution_count": 38,
   "id": "117af3df",
   "metadata": {},
   "outputs": [
    {
     "data": {
      "image/png": "[encoded data removed]",
      "text/plain": [
       "<Figure size 432x288 with 1 Axes>"
      ]
     },
     "metadata": {
      "needs_background": "light"
     },
     "output_type": "display_data"
    }
   ],
   "source": [
    "fig, ax = plt.subplots()\n",
    "plt.plot(model.history['accuracy'], linewidth=3.5)\n",
    "plt.plot(model.history['val_accuracy'], linewidth=3.5)\n",
    "plt.title('Model accuracy', size=15, fontweight='bold')\n",
    "ax.spines[:].set_linewidth(3.5)\n",
    "plt.ylabel('Accuracy', size=15, fontweight='bold')\n",
    "plt.yticks(fontsize=15,fontweight='bold')\n",
    "plt.xlabel('Epoch', size=15, fontweight='bold')\n",
    "plt.xticks(fontsize=15,fontweight='bold')\n",
    "leg = plt.legend(['Train', 'Validation'], loc='lower right', fontsize=15) #prop={'weight':'bold'})\n",
    "plt.show()"
   ]
  },
  {
   "cell_type": "code",
   "execution_count": 41,
   "id": "49d5e3a4",
   "metadata": {},
   "outputs": [
    {
     "name": "stderr",
     "output_type": "stream",
     "text": [
      "2023-06-15 17:01:11.215068: I tensorflow/core/grappler/optimizers/custom_graph_optimizer_registry.cc:113] Plugin optimizer for device_type GPU is enabled.\n"
     ]
    },
    {
     "name": "stdout",
     "output_type": "stream",
     "text": [
      "391/391 [==============================] - 127s 324ms/step - loss: 0.5837 - accuracy: 0.7962\n"
     ]
    }
   ],
   "source": [
    "loss, accuracy = rnn.evaluate(X_test, y_test)"
   ]
  },
  {
   "cell_type": "code",
   "execution_count": 42,
   "id": "a7ffb6dc",
   "metadata": {},
   "outputs": [
    {
     "data": {
      "text/plain": [
       "0.5837215781211853"
      ]
     },
     "execution_count": 42,
     "metadata": {},
     "output_type": "execute_result"
    }
   ],
   "source": [
    "loss"
   ]
  },
  {
   "cell_type": "code",
   "execution_count": 43,
   "id": "50490af5",
   "metadata": {},
   "outputs": [
    {
     "data": {
      "text/plain": [
       "0.7961599826812744"
      ]
     },
     "execution_count": 43,
     "metadata": {},
     "output_type": "execute_result"
    }
   ],
   "source": [
    "accuracy"
   ]
  },
  {
   "cell_type": "code",
   "execution_count": 44,
   "id": "1b57eedc",
   "metadata": {},
   "outputs": [
    {
     "name": "stderr",
     "output_type": "stream",
     "text": [
      "2023-06-15 17:03:18.008615: I tensorflow/core/grappler/optimizers/custom_graph_optimizer_registry.cc:113] Plugin optimizer for device_type GPU is enabled.\n"
     ]
    },
    {
     "name": "stdout",
     "output_type": "stream",
     "text": [
      "391/391 [==============================] - 126s 321ms/step\n"
     ]
    }
   ],
   "source": [
    "predictions = rnn.predict(X_test)"
   ]
  },
  {
   "cell_type": "code",
   "execution_count": 74,
   "id": "c324cc7d",
   "metadata": {},
   "outputs": [],
   "source": [
    "predictions_rounded = np.round(predictions)"
   ]
  }
 ],
 "metadata": {
  "kernelspec": {
   "display_name": "cnn-venv",
   "language": "python",
   "name": "cnn-venv"
  },
  "language_info": {
   "codemirror_mode": {
    "name": "ipython",
    "version": 3
   },
   "file_extension": ".py",
   "mimetype": "text/x-python",
   "name": "python",
   "nbconvert_exporter": "python",
   "pygments_lexer": "ipython3",
   "version": "3.10.5"
  }
 },
 "nbformat": 4,
 "nbformat_minor": 5
}
