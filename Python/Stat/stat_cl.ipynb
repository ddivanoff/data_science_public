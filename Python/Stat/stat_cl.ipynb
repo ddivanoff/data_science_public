{
 "cells": [
  {
   "cell_type": "code",
   "execution_count": 1,
   "id": "9611cfea",
   "metadata": {},
   "outputs": [
    {
     "name": "stderr",
     "output_type": "stream",
     "text": [
      "/Users/ddi/python_venv/cnn/cnn/cnn-venv/lib/python3.10/site-packages/outdated/utils.py:14: OutdatedPackageWarning: The package pingouin is out of date. Your version is 0.5.3, the latest is 0.5.5.\n",
      "Set the environment variable OUTDATED_IGNORE=1 to disable these warnings.\n",
      "  return warn(\n"
     ]
    }
   ],
   "source": [
    "# Load libs:\n",
    "import pandas as pd  \n",
    "import numpy as np\n",
    "import pingouin as pg\n",
    "import matplotlib.pyplot as plt\n",
    "from scipy.stats import moment\n",
    "from statsmodels.stats.multicomp import pairwise_tukeyhsd\n",
    "import gc as gc\n",
    "import scipy.stats as stats\n",
    "from matplotlib.patches import Ellipse\n",
    "from scipy.sparse import hstack"
   ]
  },
  {
   "cell_type": "code",
   "execution_count": 2,
   "id": "0ba925ea",
   "metadata": {},
   "outputs": [],
   "source": [
    "class raw_data_gen(object):\n",
    "    \n",
    "    \n",
    "    \"\"\"\n",
    "    A paranet class to generate a raw data from normal distribution.\n",
    "    Further statistical analysis is to be performed.\n",
    "    \n",
    "    ...\n",
    "\n",
    "    Attributes\n",
    "    ----------\n",
    "    mu : float\n",
    "        mean value of the normal distribution\n",
    "    sigma : float\n",
    "        standard deviation of the normal distribution\n",
    "    n : int\n",
    "        number of data points\n",
    "\n",
    "    Methods\n",
    "    -------\n",
    "    display_nfo():\n",
    "        Prints the parameters of the distribution\n",
    "    plot_xyz():\n",
    "        Plots notrmalized histograms to pdf for x, y and z.\n",
    "        x is the generated distribution. y and z are shifted as:\n",
    "        y = x + 1 and z = x + 5, respectively.\n",
    "    \"\"\"\n",
    "    \n",
    "    \n",
    "    __slots__ = ['avr','var','num','x','y','z']\n",
    "    \n",
    "    def __init__(self, mu:float, sigma:float, n:int) -> None:\n",
    "        \n",
    "        #Sanity check(s):\n",
    "        if (mu is None) or (sigma is None) or (n is None):\n",
    "            raise TypeError('Invalid type for <<mu>> and/or <<n>>, and/or <<sigma>>. Accepted numeric values, not None.')\n",
    "        \n",
    "        self.avr = float(mu)\n",
    "        self.var = float(sigma)\n",
    "        self.num = int(n)\n",
    "        \n",
    "        valx = np.random.normal(self.avr, self.var, self.num)\n",
    "        valy = valx + 1\n",
    "        valz = valx + 5\n",
    "        \n",
    "        self.x = valx\n",
    "        self.y = valy\n",
    "        self.z = valz\n",
    "        \n",
    "    def display_nfo(self):\n",
    "        print('\\nMean value:\\n', self.avr, \n",
    "              '\\nStandard deviation:\\n', self.var,\n",
    "             ' \\nNumber of data points:\\n', self.num)\n",
    "        \n",
    "    def plot_xyz(self):\n",
    "        plt.figure()\n",
    "        countx, binsx, ignoredx = plt.hist(self.x, 100, density = True, color = 'r')\n",
    "        county, binsy, ignoredy = plt.hist(self.y, 100, density = True, color = 'g')\n",
    "        countz, binsz, ignoredz = plt.hist(self.z, 100, density = True, color = 'b')\n",
    "        plt.xlabel('x,y,z')\n",
    "        plt.ylabel('Density')\n",
    "        plt.title('Normalized histograms')\n",
    "        \n",
    "    \n",
    "class pd_convert(raw_data_gen):\n",
    "    \n",
    "    \n",
    "    \"\"\"\n",
    "    A child class to generate Pandas Data Frame from the class\n",
    "    raw_data_gen() and the original raw data. Inherits the parent \n",
    "    class’s methods and attributes.\n",
    "    \n",
    "    ...\n",
    "\n",
    "    Attributes\n",
    "    ----------\n",
    "    mu : float\n",
    "        mean value of the normal distribution\n",
    "    sigma : float\n",
    "        standard deviation of the normal distribution\n",
    "    n : int\n",
    "        number of data points\n",
    "\n",
    "    Methods\n",
    "    -------\n",
    "    pd_convert(mu, sigma, n).df:\n",
    "        Returns the Pandas Data Frame\n",
    "    \"\"\"\n",
    "    \n",
    "    \n",
    "    __slots__ = ['df']\n",
    "    \n",
    "    def __init__(self, *args, **kwargs):\n",
    "        super().__init__(*args, **kwargs)\n",
    "        self.df = pd.DataFrame({'x': self.x, 'y': self.y, 'z': self.z})\n",
    "\n",
    "        \n",
    "class stat_test(object):\n",
    "    \n",
    "    \"\"\"\n",
    "    A class to perform Statistical analysis with the\n",
    "    already generated data.\n",
    "    \n",
    "    ...\n",
    "\n",
    "    Attributes\n",
    "    ----------\n",
    "    df : n-dimensional array\n",
    "        Pandas Data Frame\n",
    "    self.df_anova: n-dimensional array\n",
    "        Pandas Data Frame for ANOVA with unequal variances on\n",
    "        significance level alpha = 0.05\n",
    "    self.obj_tukey: obj\n",
    "        Object containing all prerequisites for post-hoc analysis\n",
    "        via Tukey HSD  on significance level alpha = 0.05\n",
    "\n",
    "    Methods\n",
    "    -------\n",
    "    summary_anova():\n",
    "        Prints the results of ANOVA\n",
    "    summary_tukey():\n",
    "        Prints the results of Tukey HSD\n",
    "    \"\"\"\n",
    "    \n",
    "    \n",
    "    __slots__ = ['df_anova','obj_tukey']\n",
    "    \n",
    "    def __init__(self, pd_df:pd.DataFrame) -> None:\n",
    "        \n",
    "        self.df_anova = pd.DataFrame({'score_xyz': pd.concat([pd_df.iloc[:,0],\n",
    "                                                   pd_df.iloc[:,1],\n",
    "                                                   pd_df.iloc[:,2]]),\n",
    "                                     \n",
    "                                      'group_xyz': np.repeat(['Group-1',\n",
    "                                                              'Group-2',\n",
    "                                                              'Group-3'], \n",
    "                                                            \n",
    "                                      repeats = len(pd_df.iloc[:,0]))})\n",
    "        \n",
    "        self.obj_tukey = pairwise_tukeyhsd(endog = self.df_anova['score_xyz'],\n",
    "                                           groups = self.df_anova['group_xyz'],\n",
    "                                           alpha = 0.05)    \n",
    "        \n",
    "    def summary_anova(self):  \n",
    "        print('ANOVA results for x, y and z:\\n\\n', \n",
    "              pg.welch_anova(dv = 'score_xyz', \n",
    "                             between = 'group_xyz', \n",
    "                             data = self.df_anova))        \n",
    "    \n",
    "    def summary_tukey(self):\n",
    "        print('Post hoc for Intensity ah:\\n\\n', self.obj_tukey) "
   ]
  },
  {
   "cell_type": "code",
   "execution_count": 3,
   "id": "32e7ca9e",
   "metadata": {},
   "outputs": [],
   "source": [
    "data_raw = raw_data_gen(mu=0, sigma=1, n=10000)"
   ]
  },
  {
   "cell_type": "code",
   "execution_count": 4,
   "id": "52f70945",
   "metadata": {},
   "outputs": [
    {
     "data": {
      "image/png": "[encoded data removed]",
      "text/plain": [
       "<Figure size 432x288 with 1 Axes>"
      ]
     },
     "metadata": {
      "needs_background": "light"
     },
     "output_type": "display_data"
    }
   ],
   "source": [
    "data_raw.plot_xyz()"
   ]
  },
  {
   "cell_type": "code",
   "execution_count": 5,
   "id": "8ce2f827",
   "metadata": {},
   "outputs": [],
   "source": [
    "data_df = pd_convert(mu = 0, sigma = 1, n = 10000).df"
   ]
  },
  {
   "cell_type": "code",
   "execution_count": 6,
   "id": "edbfc0c2",
   "metadata": {},
   "outputs": [
    {
     "name": "stdout",
     "output_type": "stream",
     "text": [
      "Descriptive statistics for x:\n",
      "\n",
      " count    10000.000000\n",
      "mean        -0.000302\n",
      "std          0.997132\n",
      "min         -3.916083\n",
      "25%         -0.658597\n",
      "50%          0.004239\n",
      "75%          0.675058\n",
      "max          3.475979\n",
      "Name: x, dtype: float64\n",
      "\n",
      "\n",
      "Descriptive statistics for y:\n",
      "\n",
      " count    10000.000000\n",
      "mean         0.999698\n",
      "std          0.997132\n",
      "min         -2.916083\n",
      "25%          0.341403\n",
      "50%          1.004239\n",
      "75%          1.675058\n",
      "max          4.475979\n",
      "Name: y, dtype: float64\n",
      "\n",
      "\n",
      "Descriptive statistics for z:\n",
      "\n",
      " count    10000.000000\n",
      "mean         4.999698\n",
      "std          0.997132\n",
      "min          1.083917\n",
      "25%          4.341403\n",
      "50%          5.004239\n",
      "75%          5.675058\n",
      "max          8.475979\n",
      "Name: z, dtype: float64\n"
     ]
    }
   ],
   "source": [
    "# Statistics:\n",
    "print('Descriptive statistics for x:\\n\\n', data_df['x'].describe())\n",
    "print('\\n\\nDescriptive statistics for y:\\n\\n', data_df['y'].describe())\n",
    "print('\\n\\nDescriptive statistics for z:\\n\\n', data_df['z'].describe())"
   ]
  },
  {
   "cell_type": "code",
   "execution_count": 7,
   "id": "55ceb979",
   "metadata": {},
   "outputs": [],
   "source": [
    "tests = stat_test(data_df)"
   ]
  },
  {
   "cell_type": "code",
   "execution_count": 8,
   "id": "e083cba3",
   "metadata": {},
   "outputs": [
    {
     "name": "stdout",
     "output_type": "stream",
     "text": [
      "ANOVA results for x, y and z:\n",
      "\n",
      "       Source  ddof1    ddof2             F  p-unc       np2\n",
      "0  group_xyz      2  19998.0  70400.941805    0.0  0.824377\n"
     ]
    }
   ],
   "source": [
    "tests.summary_anova()"
   ]
  },
  {
   "cell_type": "code",
   "execution_count": 9,
   "id": "185f7cd0",
   "metadata": {},
   "outputs": [
    {
     "name": "stdout",
     "output_type": "stream",
     "text": [
      "Post hoc for Intensity ah:\n",
      "\n",
      " Multiple Comparison of Means - Tukey HSD, FWER=0.05\n",
      "===================================================\n",
      " group1  group2 meandiff p-adj lower  upper  reject\n",
      "---------------------------------------------------\n",
      "Group-1 Group-2      1.0  -0.0 0.9669 1.0331   True\n",
      "Group-1 Group-3      5.0  -0.0 4.9669 5.0331   True\n",
      "Group-2 Group-3      4.0  -0.0 3.9669 4.0331   True\n",
      "---------------------------------------------------\n"
     ]
    }
   ],
   "source": [
    "tests.summary_tukey()"
   ]
  },
  {
   "cell_type": "code",
   "execution_count": 10,
   "id": "f3274f3c",
   "metadata": {},
   "outputs": [
    {
     "data": {
      "text/plain": [
       "20528"
      ]
     },
     "execution_count": 10,
     "metadata": {},
     "output_type": "execute_result"
    }
   ],
   "source": [
    "gc.collect()"
   ]
  },
  {
   "cell_type": "code",
   "execution_count": null,
   "id": "a5345d86",
   "metadata": {},
   "outputs": [],
   "source": []
  }
 ],
 "metadata": {
  "kernelspec": {
   "display_name": "cnn-venv",
   "language": "python",
   "name": "cnn-venv"
  },
  "language_info": {
   "codemirror_mode": {
    "name": "ipython",
    "version": 3
   },
   "file_extension": ".py",
   "mimetype": "text/x-python",
   "name": "python",
   "nbconvert_exporter": "python",
   "pygments_lexer": "ipython3",
   "version": "3.10.5"
  }
 },
 "nbformat": 4,
 "nbformat_minor": 5
}
