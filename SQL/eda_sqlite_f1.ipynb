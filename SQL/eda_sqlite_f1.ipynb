{
 "cells": [
  {
   "cell_type": "markdown",
   "id": "18489924",
   "metadata": {},
   "source": [
    "# Demo notebook for performing EDA with Python, based on SQLite \"database\""
   ]
  },
  {
   "cell_type": "code",
   "execution_count": 1,
   "id": "27caa80f",
   "metadata": {},
   "outputs": [],
   "source": [
    "import sqlite3\n",
    "import re\n",
    "import pandas as pd\n",
    "import matplotlib.pyplot as plt\n",
    "import seaborn as sns"
   ]
  },
  {
   "cell_type": "code",
   "execution_count": 2,
   "id": "975ef4e7",
   "metadata": {},
   "outputs": [
    {
     "data": {
      "text/plain": [
       "'/Users/ddi/JupyterProjects'"
      ]
     },
     "execution_count": 2,
     "metadata": {},
     "output_type": "execute_result"
    }
   ],
   "source": [
    "pwd"
   ]
  },
  {
   "cell_type": "code",
   "execution_count": 3,
   "id": "f86ac2dc",
   "metadata": {},
   "outputs": [
    {
     "name": "stdout",
     "output_type": "stream",
     "text": [
      "CNN_MNIST_GPU.ipynb               kmeans.ipynb\r\n",
      "CNN_MNIST_GPU_cl.ipynb            kmeans_cl.ipynb\r\n",
      "INF554AssessmentSolutions.ipynb   knn_cl.ipynb\r\n",
      "PAPERS.md                         lin_reg.ipynb\r\n",
      "README.md                         lin_reg_cl.ipynb\r\n",
      "Task_Data_Scientist.pdf           log_reg_cl.ipynb\r\n",
      "Task_Data_Scientist_Dataset.xlsx  lra.ipynb\r\n",
      "XGBoost.ipynb                     lra_cl.ipynb\r\n",
      "XGBoost_cl.ipynb                  mnist_cnn.h5\r\n",
      "XGBoost_cl_v2.ipynb               nb_cl.ipynb\r\n",
      "\u001b[34maurora\u001b[m\u001b[m/                           stat.ipynb\r\n",
      "\u001b[34mdata\u001b[m\u001b[m/                             stat_cl.ipynb\r\n",
      "dbscan.ipynb                      svm.ipynb\r\n",
      "eda_sqlite_f1.ipynb               svm_cl.ipynb\r\n",
      "interview_obb_DeyanIvanov.ipynb   test.ipynb\r\n"
     ]
    }
   ],
   "source": [
    "ls"
   ]
  },
  {
   "cell_type": "code",
   "execution_count": 4,
   "id": "66ebc58d",
   "metadata": {},
   "outputs": [
    {
     "name": "stdout",
     "output_type": "stream",
     "text": [
      "/Users/ddi/JupyterProjects/data\n"
     ]
    }
   ],
   "source": [
    "cd data"
   ]
  },
  {
   "cell_type": "code",
   "execution_count": 5,
   "id": "30b8512e",
   "metadata": {},
   "outputs": [
    {
     "name": "stdout",
     "output_type": "stream",
     "text": [
      "Formula1.sqlite                     emails.csv\r\n",
      "Formula1_4tables.sqlite             healthcare-dataset-stroke-data.csv\r\n",
      "ai2.jpg                             history-of-rock-spotify.csv\r\n",
      "data_churn.csv                      py.png\r\n"
     ]
    }
   ],
   "source": [
    "ls"
   ]
  },
  {
   "cell_type": "markdown",
   "id": "fee4d3b9",
   "metadata": {},
   "source": [
    "# Creating database connections and queries"
   ]
  },
  {
   "cell_type": "code",
   "execution_count": 6,
   "id": "cfc95501",
   "metadata": {},
   "outputs": [],
   "source": [
    "db = {}\n",
    "db['connect_f14t'] = sqlite3.connect('/Users/ddi/JupyterProjects/data/Formula1_4tables.sqlite')\n",
    "db['connect_f1'] = sqlite3.connect('/Users/ddi/JupyterProjects/data/Formula1.sqlite')\n",
    "\n",
    "# SQLite files contain sqlite_master table with information about the tables in the database \n",
    "db['query_master'] = '''\n",
    "                      SELECT name\n",
    "                      FROM sqlite_master\n",
    "                      WHERE type='table';\n",
    "                      '''"
   ]
  },
  {
   "cell_type": "code",
   "execution_count": 7,
   "id": "440edd3c",
   "metadata": {},
   "outputs": [
    {
     "data": {
      "text/plain": [
       "[('circuits',), ('races',), ('drivers',), ('results',)]"
      ]
     },
     "execution_count": 7,
     "metadata": {},
     "output_type": "execute_result"
    }
   ],
   "source": [
    "# Creating a cursor to uses the connection and list all tables in the db\n",
    "cursor = db['connect_f14t'].cursor()\n",
    "cursor.execute(db['query_master'])\n",
    "cursor.fetchall()"
   ]
  },
  {
   "cell_type": "code",
   "execution_count": 8,
   "id": "cf14380e",
   "metadata": {},
   "outputs": [
    {
     "data": {
      "text/plain": [
       "[('circuits',),\n",
       " ('races',),\n",
       " ('driver_standings',),\n",
       " ('drivers',),\n",
       " ('constructors',),\n",
       " ('results',),\n",
       " ('constructor_standings',),\n",
       " ('constructor_results',),\n",
       " ('laptimes',),\n",
       " ('pitstops',),\n",
       " ('qualifying',),\n",
       " ('seasons',),\n",
       " ('status',)]"
      ]
     },
     "execution_count": 8,
     "metadata": {},
     "output_type": "execute_result"
    }
   ],
   "source": [
    "cursor = db['connect_f1'].cursor()\n",
    "cursor.execute(db['query_master'])\n",
    "cursor.fetchall()"
   ]
  },
  {
   "cell_type": "code",
   "execution_count": 9,
   "id": "49985e21",
   "metadata": {},
   "outputs": [
    {
     "data": {
      "text/plain": [
       "tuple"
      ]
     },
     "execution_count": 9,
     "metadata": {},
     "output_type": "execute_result"
    }
   ],
   "source": [
    "cursor = db['connect_f1'].cursor()\n",
    "cursor.execute(db['query_master'])\n",
    "tables = cursor.fetchall()\n",
    "type(tables[0])"
   ]
  },
  {
   "cell_type": "code",
   "execution_count": 10,
   "id": "6f96a243",
   "metadata": {},
   "outputs": [
    {
     "data": {
      "text/plain": [
       "'circuits'"
      ]
     },
     "execution_count": 10,
     "metadata": {},
     "output_type": "execute_result"
    }
   ],
   "source": [
    "tables = [re.sub(r'[(),\\']', '', item[0]) for item in tables]\n",
    "tables[0]"
   ]
  },
  {
   "cell_type": "code",
   "execution_count": 11,
   "id": "c52bdb95",
   "metadata": {
    "scrolled": false
   },
   "outputs": [
    {
     "name": "stdout",
     "output_type": "stream",
     "text": [
      "\n",
      "Query:\n",
      " \n",
      "                        SELECT *\n",
      "                        FROM circuits\n",
      "                        LIMIT 10;\n",
      "                        \n",
      "\n",
      "\n",
      "Data:\n",
      "\n",
      "    circuitId      circuitRef                            name      location  \\\n",
      "0          1     albert_park  Albert Park Grand Prix Circuit     Melbourne   \n",
      "1          2          sepang    Sepang International Circuit  Kuala Lumpur   \n",
      "2          3         bahrain   Bahrain International Circuit        Sakhir   \n",
      "3          4       catalunya  Circuit de Barcelona-Catalunya     MontmelÃ_   \n",
      "4          5        istanbul                   Istanbul Park      Istanbul   \n",
      "5          6          monaco               Circuit de Monaco   Monte-Carlo   \n",
      "6          7      villeneuve       Circuit Gilles Villeneuve      Montreal   \n",
      "7          8     magny_cours   Circuit de Nevers Magny-Cours   Magny Cours   \n",
      "8          9     silverstone             Silverstone Circuit   Silverstone   \n",
      "9         10  hockenheimring                  Hockenheimring    Hockenheim   \n",
      "\n",
      "     country       lat        lng alt  \\\n",
      "0  Australia -37.84970  144.96800  10   \n",
      "1   Malaysia   2.76083  101.73800       \n",
      "2    Bahrain  26.03250   50.51060       \n",
      "3      Spain  41.57000    2.26111       \n",
      "4     Turkey  40.95170   29.40500       \n",
      "5     Monaco  43.73470    7.42056       \n",
      "6     Canada  45.50000  -73.52280       \n",
      "7     France  46.86420    3.16361       \n",
      "8         UK  52.07860   -1.01694       \n",
      "9    Germany  49.32780    8.56583       \n",
      "\n",
      "                                                 url  \n",
      "0  http://en.wikipedia.org/wiki/Melbourne_Grand_P...  \n",
      "1  http://en.wikipedia.org/wiki/Sepang_Internatio...  \n",
      "2  http://en.wikipedia.org/wiki/Bahrain_Internati...  \n",
      "3  http://en.wikipedia.org/wiki/Circuit_de_Barcel...  \n",
      "4         http://en.wikipedia.org/wiki/Istanbul_Park  \n",
      "5     http://en.wikipedia.org/wiki/Circuit_de_Monaco  \n",
      "6  http://en.wikipedia.org/wiki/Circuit_Gilles_Vi...  \n",
      "7  http://en.wikipedia.org/wiki/Circuit_de_Nevers...  \n",
      "8   http://en.wikipedia.org/wiki/Silverstone_Circuit  \n",
      "9        http://en.wikipedia.org/wiki/Hockenheimring  \n",
      "\n",
      "Query:\n",
      " \n",
      "                        SELECT *\n",
      "                        FROM races\n",
      "                        LIMIT 10;\n",
      "                        \n",
      "\n",
      "\n",
      "Data:\n",
      "\n",
      "    raceId  year  round  circuitId                   name        date  \\\n",
      "0       1  2009      1          1  Australian Grand Prix  2009-03-29   \n",
      "1       2  2009      2          2   Malaysian Grand Prix  2009-04-05   \n",
      "2       3  2009      3         17     Chinese Grand Prix  2009-04-19   \n",
      "3       4  2009      4          3     Bahrain Grand Prix  2009-04-26   \n",
      "4       5  2009      5          4     Spanish Grand Prix  2009-05-10   \n",
      "5       6  2009      6          6      Monaco Grand Prix  2009-05-24   \n",
      "6       7  2009      7          5     Turkish Grand Prix  2009-06-07   \n",
      "7       8  2009      8          9     British Grand Prix  2009-06-21   \n",
      "8       9  2009      9         20      German Grand Prix  2009-07-12   \n",
      "9      10  2009     10         11   Hungarian Grand Prix  2009-07-26   \n",
      "\n",
      "       time                                                url  \n",
      "0  06:00:00  http://en.wikipedia.org/wiki/2009_Australian_G...  \n",
      "1  09:00:00  http://en.wikipedia.org/wiki/2009_Malaysian_Gr...  \n",
      "2  07:00:00  http://en.wikipedia.org/wiki/2009_Chinese_Gran...  \n",
      "3  12:00:00  http://en.wikipedia.org/wiki/2009_Bahrain_Gran...  \n",
      "4  12:00:00  http://en.wikipedia.org/wiki/2009_Spanish_Gran...  \n",
      "5  12:00:00  http://en.wikipedia.org/wiki/2009_Monaco_Grand...  \n",
      "6  12:00:00  http://en.wikipedia.org/wiki/2009_Turkish_Gran...  \n",
      "7  12:00:00  http://en.wikipedia.org/wiki/2009_British_Gran...  \n",
      "8  12:00:00  http://en.wikipedia.org/wiki/2009_German_Grand...  \n",
      "9  12:00:00  http://en.wikipedia.org/wiki/2009_Hungarian_Gr...  \n",
      "\n",
      "Query:\n",
      " \n",
      "                        SELECT *\n",
      "                        FROM driver_standings\n",
      "                        LIMIT 10;\n",
      "                        \n",
      "\n",
      "\n",
      "Data:\n",
      "\n",
      "    driverStandingsId  raceId  driverId  points  position positionText  wins\n",
      "0                  1      18         1      10         1            1     1\n",
      "1                  2      18         2       8         2            2     0\n",
      "2                  3      18         3       6         3            3     0\n",
      "3                  4      18         4       5         4            4     0\n",
      "4                  5      18         5       4         5            5     0\n",
      "5                  6      18         6       3         6            6     0\n",
      "6                  7      18         7       2         7            7     0\n",
      "7                  8      18         8       1         8            8     0\n",
      "8                  9      19         1      14         1            1     1\n",
      "9                 10      19         2      11         3            3     0\n",
      "\n",
      "Query:\n",
      " \n",
      "                        SELECT *\n",
      "                        FROM drivers\n",
      "                        LIMIT 10;\n",
      "                        \n",
      "\n",
      "\n",
      "Data:\n",
      "\n",
      "    driverId   driverRef number code   forename     surname         dob  \\\n",
      "0         1    hamilton     44  HAM      Lewis    Hamilton  07/01/1985   \n",
      "1         2    heidfeld         HEI       Nick    Heidfeld  10/05/1977   \n",
      "2         3     rosberg      6  ROS       Nico     Rosberg  27/06/1985   \n",
      "3         4      alonso     14  ALO   Fernando      Alonso  29/07/1981   \n",
      "4         5  kovalainen         KOV     Heikki  Kovalainen  19/10/1981   \n",
      "5         6    nakajima         NAK     Kazuki    Nakajima  11/01/1985   \n",
      "6         7    bourdais         BOU  S̩bastien    Bourdais  28/02/1979   \n",
      "7         8   raikkonen      7  RAI       Kimi  R�_ikk̦nen  17/10/1979   \n",
      "8         9      kubica         KUB     Robert      Kubica  07/12/1984   \n",
      "9        10       glock         GLO       Timo       Glock  18/03/1982   \n",
      "\n",
      "  nationality                                                url  \n",
      "0     British        http://en.wikipedia.org/wiki/Lewis_Hamilton  \n",
      "1      German         http://en.wikipedia.org/wiki/Nick_Heidfeld  \n",
      "2      German          http://en.wikipedia.org/wiki/Nico_Rosberg  \n",
      "3     Spanish       http://en.wikipedia.org/wiki/Fernando_Alonso  \n",
      "4     Finnish     http://en.wikipedia.org/wiki/Heikki_Kovalainen  \n",
      "5    Japanese       http://en.wikipedia.org/wiki/Kazuki_Nakajima  \n",
      "6      French  http://en.wikipedia.org/wiki/S%C3%A9bastien_Bo...  \n",
      "7     Finnish  http://en.wikipedia.org/wiki/Kimi_R%C3%A4ikk%C...  \n",
      "8      Polish         http://en.wikipedia.org/wiki/Robert_Kubica  \n",
      "9      German            http://en.wikipedia.org/wiki/Timo_Glock  \n",
      "\n",
      "Query:\n",
      " \n",
      "                        SELECT *\n",
      "                        FROM constructors\n",
      "                        LIMIT 10;\n",
      "                        \n",
      "\n",
      "\n",
      "Data:\n",
      "\n",
      "   constructorId constructorRef         name nationality  \\\n",
      "0             1        mclaren      McLaren     British   \n",
      "1             2     bmw_sauber   BMW Sauber      German   \n",
      "2             3       williams     Williams     British   \n",
      "3             4        renault      Renault      French   \n",
      "4             5     toro_rosso   Toro Rosso     Italian   \n",
      "5             6        ferrari      Ferrari     Italian   \n",
      "6             7         toyota       Toyota    Japanese   \n",
      "7             8    super_aguri  Super Aguri    Japanese   \n",
      "8             9       red_bull     Red Bull    Austrian   \n",
      "9            10    force_india  Force India      Indian   \n",
      "\n",
      "                                                 url        \n",
      "0               http://en.wikipedia.org/wiki/McLaren  None  \n",
      "1            http://en.wikipedia.org/wiki/BMW_Sauber  None  \n",
      "2  http://en.wikipedia.org/wiki/Williams_Grand_Pr...  None  \n",
      "3            http://en.wikipedia.org/wiki/Renault_F1  None  \n",
      "4   http://en.wikipedia.org/wiki/Scuderia_Toro_Rosso  None  \n",
      "5      http://en.wikipedia.org/wiki/Scuderia_Ferrari  None  \n",
      "6         http://en.wikipedia.org/wiki/Toyota_Racing  None  \n",
      "7        http://en.wikipedia.org/wiki/Super_Aguri_F1  None  \n",
      "8       http://en.wikipedia.org/wiki/Red_Bull_Racing  None  \n",
      "9           http://en.wikipedia.org/wiki/Force_India  None  \n",
      "\n",
      "Query:\n",
      " \n",
      "                        SELECT *\n",
      "                        FROM results\n",
      "                        LIMIT 10;\n",
      "                        \n",
      "\n",
      "\n",
      "Data:\n",
      "\n",
      "   resultId  raceId  driverId  constructorId  number  grid position  \\\n",
      "0        1      18         1              1      22     1        1   \n",
      "1        2      18         2              2       3     5        2   \n",
      "2        3      18         3              3       7     7        3   \n",
      "3        4      18         4              4       5    11        4   \n",
      "4        5      18         5              1      23     3        5   \n",
      "5        6      18         6              3       8    13        6   \n",
      "6        7      18         7              5      14    17        7   \n",
      "7        8      18         8              6       1    15        8   \n",
      "8        9      18         9              2       4     2            \n",
      "9       10      18        10              7      12    18            \n",
      "\n",
      "  positionText  positionOrder  points  laps     time milliseconds fastestLap  \\\n",
      "0            1              1      10    58  34:50.6      5690616         39   \n",
      "1            2              2       8    58    5.478      5696094         41   \n",
      "2            3              3       6    58    8.163      5698779         41   \n",
      "3            4              4       5    58   17.181      5707797         58   \n",
      "4            5              5       4    58   18.014      5708630         43   \n",
      "5            6              6       3    57                               50   \n",
      "6            7              7       2    55                               22   \n",
      "7            8              8       1    53                               20   \n",
      "8            R              9       0    47                               15   \n",
      "9            R             10       0    43                               23   \n",
      "\n",
      "   rank fastestLapTime  fastestLapSpeed  statusId  \n",
      "0     2        01:27.5          218.300         1  \n",
      "1     3        01:27.7          217.586         1  \n",
      "2     5        01:28.1          216.719         1  \n",
      "3     7        01:28.6          215.464         1  \n",
      "4     1        01:27.4          218.385         1  \n",
      "5    14        01:29.6          212.974        11  \n",
      "6    12        01:29.5          213.224         5  \n",
      "7     4        01:27.9          217.180         5  \n",
      "8     9        01:28.8          215.100         4  \n",
      "9    13        01:29.6          213.166         3  \n",
      "\n",
      "Query:\n",
      " \n",
      "                        SELECT *\n",
      "                        FROM constructor_standings\n",
      "                        LIMIT 10;\n",
      "                        \n",
      "\n",
      "\n",
      "Data:\n",
      "\n",
      "    constructorStandingsId  raceId  constructorId  points  position  \\\n",
      "0                       1      18              1      14         1   \n",
      "1                       2      18              2       8         3   \n",
      "2                       3      18              3       9         2   \n",
      "3                       4      18              4       5         4   \n",
      "4                       5      18              5       2         5   \n",
      "5                       6      18              6       1         6   \n",
      "6                       7      19              1      24         1   \n",
      "7                       8      19              2      19         2   \n",
      "8                       9      19              3       9         4   \n",
      "9                      10      19              4       6         5   \n",
      "\n",
      "  positionText  wins        \n",
      "0            1     1  None  \n",
      "1            3     0  None  \n",
      "2            2     0  None  \n",
      "3            4     0  None  \n",
      "4            5     0  None  \n",
      "5            6     0  None  \n",
      "6            1     1  None  \n",
      "7            2     0  None  \n",
      "8            4     0  None  \n",
      "9            5     0  None  \n",
      "\n",
      "Query:\n",
      " \n",
      "                        SELECT *\n",
      "                        FROM constructor_results\n",
      "                        LIMIT 10;\n",
      "                        \n",
      "\n",
      "\n",
      "Data:\n",
      "\n",
      "    constructorResultsId  raceId  constructorId  points status\n",
      "0                     1      18              1      14   NULL\n",
      "1                     2      18              2       8   NULL\n",
      "2                     3      18              3       9   NULL\n",
      "3                     4      18              4       5   NULL\n",
      "4                     5      18              5       2   NULL\n",
      "5                     6      18              6       1   NULL\n",
      "6                     7      18              7       0   NULL\n",
      "7                     8      18              8       0   NULL\n",
      "8                     9      18              9       0   NULL\n",
      "9                    10      18             10       0   NULL\n",
      "\n",
      "Query:\n",
      " \n",
      "                        SELECT *\n",
      "                        FROM laptimes\n",
      "                        LIMIT 10;\n",
      "                        \n",
      "\n",
      "\n",
      "Data:\n",
      "\n",
      "    raceId  driverId  lap  position      time  milliseconds\n",
      "0     841        20    1         1  1:38.109         98109\n",
      "1     841        20    2         1  1:33.006         93006\n",
      "2     841        20    3         1  1:32.713         92713\n",
      "3     841        20    4         1  1:32.803         92803\n",
      "4     841        20    5         1  1:32.342         92342\n",
      "5     841        20    6         1  1:32.605         92605\n",
      "6     841        20    7         1  1:32.502         92502\n",
      "7     841        20    8         1  1:32.537         92537\n",
      "8     841        20    9         1  1:33.240         93240\n",
      "9     841        20   10         1  1:32.572         92572\n",
      "\n",
      "Query:\n",
      " \n",
      "                        SELECT *\n",
      "                        FROM pitstops\n",
      "                        LIMIT 10;\n",
      "                        \n",
      "\n",
      "\n",
      "Data:\n",
      "\n",
      "    raceId  driverId  stop  lap      time  duration  milliseconds\n",
      "0     841       153     1    1  17:05:23    26.898         26898\n",
      "1     841        30     1    1  17:05:52    25.021         25021\n",
      "2     841        17     1   11  17:20:48    23.426         23426\n",
      "3     841         4     1   12  17:22:34    23.251         23251\n",
      "4     841        13     1   13  17:24:10    23.842         23842\n",
      "5     841        22     1   13  17:24:29    23.643         23643\n",
      "6     841        20     1   14  17:25:17    22.603         22603\n",
      "7     841       814     1   14  17:26:03    24.863         24863\n",
      "8     841       816     1   14  17:26:50    25.259         25259\n",
      "9     841        67     1   15  17:27:34    25.342         25342\n",
      "\n",
      "Query:\n",
      " \n",
      "                        SELECT *\n",
      "                        FROM qualifying\n",
      "                        LIMIT 10;\n",
      "                        \n",
      "\n",
      "\n",
      "Data:\n",
      "\n",
      "    qualifyId  raceId  driverId  constructorId  number  position        q1  \\\n",
      "0          1      18         1              1      22         1  1:26.572   \n",
      "1          2      18         9              2       4         2  1:26.103   \n",
      "2          3      18         5              1      23         3  1:25.664   \n",
      "3          4      18        13              6       2         4  1:25.994   \n",
      "4          5      18         2              2       3         5  1:25.960   \n",
      "5          6      18        15              7      11         6  1:26.427   \n",
      "6          7      18         3              3       7         7  1:26.295   \n",
      "7          8      18        14              9       9         8  1:26.381   \n",
      "8          9      18        10              7      12         9  1:26.919   \n",
      "9         10      18        20              5      15        10  1:26.702   \n",
      "\n",
      "         q2        q3  \n",
      "0  1:25.187  1:26.714  \n",
      "1  1:25.315  1:26.869  \n",
      "2  1:25.452  1:27.079  \n",
      "3  1:25.691  1:27.178  \n",
      "4  1:25.518  1:27.236  \n",
      "5  1:26.101  1:28.527  \n",
      "6  1:26.059  1:28.687  \n",
      "7  1:26.063  1:29.041  \n",
      "8  1:26.164  1:29.593  \n",
      "9  1:25.842      NULL  \n",
      "\n",
      "Query:\n",
      " \n",
      "                        SELECT *\n",
      "                        FROM seasons\n",
      "                        LIMIT 10;\n",
      "                        \n",
      "\n",
      "\n",
      "Data:\n",
      "\n",
      "    year                                                url\n",
      "0  2009  http://en.wikipedia.org/wiki/2009_Formula_One_...\n",
      "1  2008  http://en.wikipedia.org/wiki/2008_Formula_One_...\n",
      "2  2007  http://en.wikipedia.org/wiki/2007_Formula_One_...\n",
      "3  2006  http://en.wikipedia.org/wiki/2006_Formula_One_...\n",
      "4  2005  http://en.wikipedia.org/wiki/2005_Formula_One_...\n",
      "5  2004  http://en.wikipedia.org/wiki/2004_Formula_One_...\n",
      "6  2003  http://en.wikipedia.org/wiki/2003_Formula_One_...\n",
      "7  2002  http://en.wikipedia.org/wiki/2002_Formula_One_...\n",
      "8  2001  http://en.wikipedia.org/wiki/2001_Formula_One_...\n",
      "9  2000  http://en.wikipedia.org/wiki/2000_Formula_One_...\n",
      "\n",
      "Query:\n",
      " \n",
      "                        SELECT *\n",
      "                        FROM status\n",
      "                        LIMIT 10;\n",
      "                        \n",
      "\n",
      "\n",
      "Data:\n",
      "\n",
      "    statusId        status\n",
      "0         1      Finished\n",
      "1         2  Disqualified\n",
      "2         3      Accident\n",
      "3         4     Collision\n",
      "4         5        Engine\n",
      "5         6       Gearbox\n",
      "6         7  Transmission\n",
      "7         8        Clutch\n",
      "8         9    Hydraulics\n",
      "9        10    Electrical\n"
     ]
    }
   ],
   "source": [
    "query = {}\n",
    "data = {}\n",
    "\n",
    "for item in tables:\n",
    "    query[f'{item}'] =  f'''\n",
    "                        SELECT *\n",
    "                        FROM {item}\n",
    "                        LIMIT 10;\n",
    "                        '''\n",
    "    print('\\nQuery:\\n', query[f'{item}'])\n",
    "    \n",
    "    data[f'{item}'] = pd.read_sql_query(query[f'{item}'], db['connect_f1'])\n",
    "    print('\\n\\nData:\\n\\n', data[f'{item}'])"
   ]
  },
  {
   "cell_type": "code",
   "execution_count": 12,
   "id": "c1bfc5e8",
   "metadata": {},
   "outputs": [],
   "source": [
    "query = '''\n",
    "        SELECT drivers.forename AS 'first_name', \n",
    "               drivers.surname AS 'last_name',\n",
    "               constructors.name AS 'team_name',\n",
    "               races.name AS 'race_name',\n",
    "               races.date AS 'race_date',\n",
    "               results.laps AS 'race_laps',\n",
    "               MAX(pitstops.stop) AS 'race_pitstops',\n",
    "               qualifying.number AS 'start_position',\n",
    "               results.positionOrder AS 'finish_position',\n",
    "               results.points AS 'points'\n",
    "        FROM results\n",
    "        JOIN drivers ON results.driverId = drivers.driverId\n",
    "        JOIN constructors ON results.constructorId = constructors.constructorId\n",
    "        JOIN races ON results.raceId = races.raceId\n",
    "        JOIN pitstops ON results.raceId = pitstops.raceId AND results.driverId = pitstops.driverId\n",
    "        JOIN qualifying ON results.raceId = qualifying.raceId AND results.driverId = qualifying.driverId AND results.constructorId = qualifying.constructorId\n",
    "        WHERE results.positionOrder IN (1, 2, 3)\n",
    "        GROUP BY drivers.driverId, races.date, results.positionOrder\n",
    "        ORDER BY races.date, results.positionOrder;\n",
    "        '''\n"
   ]
  },
  {
   "cell_type": "markdown",
   "id": "e0f3816d",
   "metadata": {},
   "source": [
    "# Data load and EDA"
   ]
  },
  {
   "cell_type": "code",
   "execution_count": 13,
   "id": "b90e9a21",
   "metadata": {},
   "outputs": [
    {
     "data": {
      "text/html": [
       "<div>\n",
       "<style scoped>\n",
       "    .dataframe tbody tr th:only-of-type {\n",
       "        vertical-align: middle;\n",
       "    }\n",
       "\n",
       "    .dataframe tbody tr th {\n",
       "        vertical-align: top;\n",
       "    }\n",
       "\n",
       "    .dataframe thead th {\n",
       "        text-align: right;\n",
       "    }\n",
       "</style>\n",
       "<table border=\"1\" class=\"dataframe\">\n",
       "  <thead>\n",
       "    <tr style=\"text-align: right;\">\n",
       "      <th></th>\n",
       "      <th>pilot_name</th>\n",
       "      <th>team_name</th>\n",
       "      <th>race_name</th>\n",
       "      <th>race_date</th>\n",
       "      <th>race_laps</th>\n",
       "      <th>race_pitstops</th>\n",
       "      <th>start_position</th>\n",
       "      <th>finish_position</th>\n",
       "      <th>points</th>\n",
       "    </tr>\n",
       "  </thead>\n",
       "  <tbody>\n",
       "    <tr>\n",
       "      <th>0</th>\n",
       "      <td>Sebastian Vettel</td>\n",
       "      <td>Red Bull</td>\n",
       "      <td>Australian Grand Prix</td>\n",
       "      <td>2011-03-27</td>\n",
       "      <td>58</td>\n",
       "      <td>2</td>\n",
       "      <td>1</td>\n",
       "      <td>1</td>\n",
       "      <td>25</td>\n",
       "    </tr>\n",
       "    <tr>\n",
       "      <th>1</th>\n",
       "      <td>Lewis Hamilton</td>\n",
       "      <td>McLaren</td>\n",
       "      <td>Australian Grand Prix</td>\n",
       "      <td>2011-03-27</td>\n",
       "      <td>58</td>\n",
       "      <td>2</td>\n",
       "      <td>3</td>\n",
       "      <td>2</td>\n",
       "      <td>18</td>\n",
       "    </tr>\n",
       "    <tr>\n",
       "      <th>2</th>\n",
       "      <td>Vitaly Petrov</td>\n",
       "      <td>Renault</td>\n",
       "      <td>Australian Grand Prix</td>\n",
       "      <td>2011-03-27</td>\n",
       "      <td>58</td>\n",
       "      <td>2</td>\n",
       "      <td>10</td>\n",
       "      <td>3</td>\n",
       "      <td>15</td>\n",
       "    </tr>\n",
       "    <tr>\n",
       "      <th>3</th>\n",
       "      <td>Sebastian Vettel</td>\n",
       "      <td>Red Bull</td>\n",
       "      <td>Malaysian Grand Prix</td>\n",
       "      <td>2011-04-10</td>\n",
       "      <td>56</td>\n",
       "      <td>3</td>\n",
       "      <td>1</td>\n",
       "      <td>1</td>\n",
       "      <td>25</td>\n",
       "    </tr>\n",
       "    <tr>\n",
       "      <th>4</th>\n",
       "      <td>Jenson Button</td>\n",
       "      <td>McLaren</td>\n",
       "      <td>Malaysian Grand Prix</td>\n",
       "      <td>2011-04-10</td>\n",
       "      <td>56</td>\n",
       "      <td>3</td>\n",
       "      <td>4</td>\n",
       "      <td>2</td>\n",
       "      <td>18</td>\n",
       "    </tr>\n",
       "    <tr>\n",
       "      <th>...</th>\n",
       "      <td>...</td>\n",
       "      <td>...</td>\n",
       "      <td>...</td>\n",
       "      <td>...</td>\n",
       "      <td>...</td>\n",
       "      <td>...</td>\n",
       "      <td>...</td>\n",
       "      <td>...</td>\n",
       "      <td>...</td>\n",
       "    </tr>\n",
       "    <tr>\n",
       "      <th>406</th>\n",
       "      <td>Valtteri Bottas</td>\n",
       "      <td>Mercedes</td>\n",
       "      <td>Brazilian Grand Prix</td>\n",
       "      <td>2017-11-12</td>\n",
       "      <td>71</td>\n",
       "      <td>4</td>\n",
       "      <td>77</td>\n",
       "      <td>2</td>\n",
       "      <td>18</td>\n",
       "    </tr>\n",
       "    <tr>\n",
       "      <th>407</th>\n",
       "      <td>Kimi R�_ikk̦nen</td>\n",
       "      <td>Ferrari</td>\n",
       "      <td>Brazilian Grand Prix</td>\n",
       "      <td>2017-11-12</td>\n",
       "      <td>71</td>\n",
       "      <td>4</td>\n",
       "      <td>7</td>\n",
       "      <td>3</td>\n",
       "      <td>15</td>\n",
       "    </tr>\n",
       "    <tr>\n",
       "      <th>408</th>\n",
       "      <td>Valtteri Bottas</td>\n",
       "      <td>Mercedes</td>\n",
       "      <td>Abu Dhabi Grand Prix</td>\n",
       "      <td>2017-11-26</td>\n",
       "      <td>55</td>\n",
       "      <td>1</td>\n",
       "      <td>77</td>\n",
       "      <td>1</td>\n",
       "      <td>25</td>\n",
       "    </tr>\n",
       "    <tr>\n",
       "      <th>409</th>\n",
       "      <td>Lewis Hamilton</td>\n",
       "      <td>Mercedes</td>\n",
       "      <td>Abu Dhabi Grand Prix</td>\n",
       "      <td>2017-11-26</td>\n",
       "      <td>55</td>\n",
       "      <td>1</td>\n",
       "      <td>44</td>\n",
       "      <td>2</td>\n",
       "      <td>18</td>\n",
       "    </tr>\n",
       "    <tr>\n",
       "      <th>410</th>\n",
       "      <td>Sebastian Vettel</td>\n",
       "      <td>Ferrari</td>\n",
       "      <td>Abu Dhabi Grand Prix</td>\n",
       "      <td>2017-11-26</td>\n",
       "      <td>55</td>\n",
       "      <td>1</td>\n",
       "      <td>5</td>\n",
       "      <td>3</td>\n",
       "      <td>15</td>\n",
       "    </tr>\n",
       "  </tbody>\n",
       "</table>\n",
       "<p>411 rows × 9 columns</p>\n",
       "</div>"
      ],
      "text/plain": [
       "           pilot_name team_name              race_name   race_date  race_laps  \\\n",
       "0    Sebastian Vettel  Red Bull  Australian Grand Prix  2011-03-27         58   \n",
       "1      Lewis Hamilton   McLaren  Australian Grand Prix  2011-03-27         58   \n",
       "2       Vitaly Petrov   Renault  Australian Grand Prix  2011-03-27         58   \n",
       "3    Sebastian Vettel  Red Bull   Malaysian Grand Prix  2011-04-10         56   \n",
       "4       Jenson Button   McLaren   Malaysian Grand Prix  2011-04-10         56   \n",
       "..                ...       ...                    ...         ...        ...   \n",
       "406   Valtteri Bottas  Mercedes   Brazilian Grand Prix  2017-11-12         71   \n",
       "407   Kimi R�_ikk̦nen   Ferrari   Brazilian Grand Prix  2017-11-12         71   \n",
       "408   Valtteri Bottas  Mercedes   Abu Dhabi Grand Prix  2017-11-26         55   \n",
       "409    Lewis Hamilton  Mercedes   Abu Dhabi Grand Prix  2017-11-26         55   \n",
       "410  Sebastian Vettel   Ferrari   Abu Dhabi Grand Prix  2017-11-26         55   \n",
       "\n",
       "     race_pitstops  start_position  finish_position  points  \n",
       "0                2               1                1      25  \n",
       "1                2               3                2      18  \n",
       "2                2              10                3      15  \n",
       "3                3               1                1      25  \n",
       "4                3               4                2      18  \n",
       "..             ...             ...              ...     ...  \n",
       "406              4              77                2      18  \n",
       "407              4               7                3      15  \n",
       "408              1              77                1      25  \n",
       "409              1              44                2      18  \n",
       "410              1               5                3      15  \n",
       "\n",
       "[411 rows x 9 columns]"
      ]
     },
     "execution_count": 13,
     "metadata": {},
     "output_type": "execute_result"
    }
   ],
   "source": [
    "data = pd.read_sql_query(query, db['connect_f1'])\n",
    "data['pilot_name'] = data['first_name'] + ' ' + data['last_name']\n",
    "data = data.drop(['first_name', 'last_name'], axis = 1)\n",
    "data = data[['pilot_name', 'team_name', 'race_name', 'race_date', 'race_laps', 'race_pitstops', 'start_position', 'finish_position', 'points']]\n",
    "data"
   ]
  },
  {
   "cell_type": "code",
   "execution_count": 14,
   "id": "85617c94",
   "metadata": {},
   "outputs": [
    {
     "name": "stdout",
     "output_type": "stream",
     "text": [
      "<class 'pandas.core.frame.DataFrame'>\n",
      "RangeIndex: 411 entries, 0 to 410\n",
      "Data columns (total 9 columns):\n",
      " #   Column           Non-Null Count  Dtype \n",
      "---  ------           --------------  ----- \n",
      " 0   pilot_name       411 non-null    object\n",
      " 1   team_name        411 non-null    object\n",
      " 2   race_name        411 non-null    object\n",
      " 3   race_date        411 non-null    object\n",
      " 4   race_laps        411 non-null    int64 \n",
      " 5   race_pitstops    411 non-null    int64 \n",
      " 6   start_position   411 non-null    int64 \n",
      " 7   finish_position  411 non-null    int64 \n",
      " 8   points           411 non-null    int64 \n",
      "dtypes: int64(5), object(4)\n",
      "memory usage: 29.0+ KB\n"
     ]
    }
   ],
   "source": [
    "data.info()"
   ]
  },
  {
   "cell_type": "code",
   "execution_count": 15,
   "id": "dfb8249f",
   "metadata": {},
   "outputs": [
    {
     "data": {
      "text/html": [
       "<div>\n",
       "<style scoped>\n",
       "    .dataframe tbody tr th:only-of-type {\n",
       "        vertical-align: middle;\n",
       "    }\n",
       "\n",
       "    .dataframe tbody tr th {\n",
       "        vertical-align: top;\n",
       "    }\n",
       "\n",
       "    .dataframe thead th {\n",
       "        text-align: right;\n",
       "    }\n",
       "</style>\n",
       "<table border=\"1\" class=\"dataframe\">\n",
       "  <thead>\n",
       "    <tr style=\"text-align: right;\">\n",
       "      <th></th>\n",
       "      <th>race_laps</th>\n",
       "      <th>race_pitstops</th>\n",
       "      <th>start_position</th>\n",
       "      <th>finish_position</th>\n",
       "      <th>points</th>\n",
       "    </tr>\n",
       "  </thead>\n",
       "  <tbody>\n",
       "    <tr>\n",
       "      <th>count</th>\n",
       "      <td>411.000000</td>\n",
       "      <td>411.000000</td>\n",
       "      <td>411.000000</td>\n",
       "      <td>411.000000</td>\n",
       "      <td>411.000000</td>\n",
       "    </tr>\n",
       "    <tr>\n",
       "      <th>mean</th>\n",
       "      <td>59.875912</td>\n",
       "      <td>2.141119</td>\n",
       "      <td>15.812652</td>\n",
       "      <td>2.000000</td>\n",
       "      <td>19.474453</td>\n",
       "    </tr>\n",
       "    <tr>\n",
       "      <th>std</th>\n",
       "      <td>8.551804</td>\n",
       "      <td>0.928958</td>\n",
       "      <td>20.697860</td>\n",
       "      <td>0.817492</td>\n",
       "      <td>4.549586</td>\n",
       "    </tr>\n",
       "    <tr>\n",
       "      <th>min</th>\n",
       "      <td>43.000000</td>\n",
       "      <td>1.000000</td>\n",
       "      <td>1.000000</td>\n",
       "      <td>1.000000</td>\n",
       "      <td>15.000000</td>\n",
       "    </tr>\n",
       "    <tr>\n",
       "      <th>25%</th>\n",
       "      <td>54.000000</td>\n",
       "      <td>1.000000</td>\n",
       "      <td>3.000000</td>\n",
       "      <td>1.000000</td>\n",
       "      <td>15.000000</td>\n",
       "    </tr>\n",
       "    <tr>\n",
       "      <th>50%</th>\n",
       "      <td>57.000000</td>\n",
       "      <td>2.000000</td>\n",
       "      <td>6.000000</td>\n",
       "      <td>2.000000</td>\n",
       "      <td>18.000000</td>\n",
       "    </tr>\n",
       "    <tr>\n",
       "      <th>75%</th>\n",
       "      <td>69.000000</td>\n",
       "      <td>3.000000</td>\n",
       "      <td>19.000000</td>\n",
       "      <td>3.000000</td>\n",
       "      <td>25.000000</td>\n",
       "    </tr>\n",
       "    <tr>\n",
       "      <th>max</th>\n",
       "      <td>78.000000</td>\n",
       "      <td>6.000000</td>\n",
       "      <td>77.000000</td>\n",
       "      <td>3.000000</td>\n",
       "      <td>50.000000</td>\n",
       "    </tr>\n",
       "  </tbody>\n",
       "</table>\n",
       "</div>"
      ],
      "text/plain": [
       "        race_laps  race_pitstops  start_position  finish_position      points\n",
       "count  411.000000     411.000000      411.000000       411.000000  411.000000\n",
       "mean    59.875912       2.141119       15.812652         2.000000   19.474453\n",
       "std      8.551804       0.928958       20.697860         0.817492    4.549586\n",
       "min     43.000000       1.000000        1.000000         1.000000   15.000000\n",
       "25%     54.000000       1.000000        3.000000         1.000000   15.000000\n",
       "50%     57.000000       2.000000        6.000000         2.000000   18.000000\n",
       "75%     69.000000       3.000000       19.000000         3.000000   25.000000\n",
       "max     78.000000       6.000000       77.000000         3.000000   50.000000"
      ]
     },
     "execution_count": 15,
     "metadata": {},
     "output_type": "execute_result"
    }
   ],
   "source": [
    "data.describe()"
   ]
  },
  {
   "cell_type": "code",
   "execution_count": 16,
   "id": "08fce3dd",
   "metadata": {
    "scrolled": false
   },
   "outputs": [
    {
     "name": "stdout",
     "output_type": "stream",
     "text": [
      "\n",
      "\n",
      "Unique values of pilot_name:\n",
      "\n",
      " ['Sebastian Vettel' 'Lewis Hamilton' 'Vitaly Petrov' 'Jenson Button'\n",
      " 'Nick Heidfeld' 'Mark Webber' 'Fernando Alonso' 'Sergio P̩rez'\n",
      " 'Nico Rosberg' 'Kimi R�_ikk̦nen' 'Romain Grosjean' 'Pastor Maldonado'\n",
      " 'Michael Schumacher' 'Felipe Massa' 'Kamui Kobayashi' 'Kevin Magnussen'\n",
      " 'Daniel Ricciardo' 'Valtteri Bottas' 'Daniil Kvyat' 'Max Verstappen'\n",
      " 'Lance Stroll']\n",
      "\n",
      "\n",
      "Number of unique values of pilot_name:\n",
      "\n",
      " 21\n"
     ]
    },
    {
     "data": {
      "image/png": "[encoded data removed]",
      "text/plain": [
       "<Figure size 1152x648 with 1 Axes>"
      ]
     },
     "metadata": {
      "needs_background": "light"
     },
     "output_type": "display_data"
    },
    {
     "name": "stdout",
     "output_type": "stream",
     "text": [
      "\n",
      "\n",
      "Unique values of team_name:\n",
      "\n",
      " ['Red Bull' 'McLaren' 'Renault' 'Ferrari' 'Sauber' 'Mercedes' 'Lotus F1'\n",
      " 'Williams' 'Force India']\n",
      "\n",
      "\n",
      "Number of unique values of team_name:\n",
      "\n",
      " 9\n"
     ]
    },
    {
     "data": {
      "image/png": "[encoded data removed]",
      "text/plain": [
       "<Figure size 1152x648 with 1 Axes>"
      ]
     },
     "metadata": {
      "needs_background": "light"
     },
     "output_type": "display_data"
    },
    {
     "name": "stdout",
     "output_type": "stream",
     "text": [
      "\n",
      "\n",
      "Unique values of race_name:\n",
      "\n",
      " ['Australian Grand Prix' 'Malaysian Grand Prix' 'Chinese Grand Prix'\n",
      " 'Turkish Grand Prix' 'Spanish Grand Prix' 'Monaco Grand Prix'\n",
      " 'Canadian Grand Prix' 'European Grand Prix' 'British Grand Prix'\n",
      " 'German Grand Prix' 'Hungarian Grand Prix' 'Belgian Grand Prix'\n",
      " 'Italian Grand Prix' 'Singapore Grand Prix' 'Japanese Grand Prix'\n",
      " 'Korean Grand Prix' 'Indian Grand Prix' 'Abu Dhabi Grand Prix'\n",
      " 'Brazilian Grand Prix' 'Bahrain Grand Prix' 'United States Grand Prix'\n",
      " 'Austrian Grand Prix' 'Russian Grand Prix' 'Mexican Grand Prix'\n",
      " 'Azerbaijan Grand Prix']\n",
      "\n",
      "\n",
      "Number of unique values of race_name:\n",
      "\n",
      " 25\n"
     ]
    },
    {
     "data": {
      "image/png": "[encoded data removed]",
      "text/plain": [
       "<Figure size 1152x648 with 1 Axes>"
      ]
     },
     "metadata": {
      "needs_background": "light"
     },
     "output_type": "display_data"
    },
    {
     "name": "stdout",
     "output_type": "stream",
     "text": [
      "\n",
      "\n",
      "Unique values of race_date:\n",
      "\n",
      " ['2011-03-27' '2011-04-10' '2011-04-17' '2011-05-08' '2011-05-22'\n",
      " '2011-05-29' '2011-06-12' '2011-06-26' '2011-07-10' '2011-07-24'\n",
      " '2011-07-31' '2011-08-28' '2011-09-11' '2011-09-25' '2011-10-09'\n",
      " '2011-10-16' '2011-10-30' '2011-11-13' '2011-11-27' '2012-03-18'\n",
      " '2012-03-25' '2012-04-15' '2012-04-22' '2012-05-13' '2012-05-27'\n",
      " '2012-06-10' '2012-06-24' '2012-07-08' '2012-07-22' '2012-07-29'\n",
      " '2012-09-02' '2012-09-09' '2012-09-23' '2012-10-07' '2012-10-14'\n",
      " '2012-10-28' '2012-11-04' '2012-11-18' '2012-11-25' '2013-03-17'\n",
      " '2013-03-24' '2013-04-14' '2013-04-21' '2013-05-12' '2013-05-26'\n",
      " '2013-06-09' '2013-06-30' '2013-07-07' '2013-07-28' '2013-08-25'\n",
      " '2013-09-08' '2013-09-22' '2013-10-06' '2013-10-13' '2013-10-27'\n",
      " '2013-11-03' '2013-11-17' '2013-11-24' '2014-03-16' '2014-03-30'\n",
      " '2014-04-06' '2014-04-20' '2014-05-11' '2014-05-25' '2014-06-08'\n",
      " '2014-06-22' '2014-07-06' '2014-07-20' '2014-07-27' '2014-08-24'\n",
      " '2014-09-07' '2014-09-21' '2014-10-05' '2014-10-12' '2014-11-02'\n",
      " '2014-11-09' '2014-11-23' '2015-03-15' '2015-03-29' '2015-04-12'\n",
      " '2015-04-19' '2015-05-10' '2015-05-24' '2015-06-07' '2015-06-21'\n",
      " '2015-07-05' '2015-07-26' '2015-08-23' '2015-09-06' '2015-09-20'\n",
      " '2015-09-27' '2015-10-11' '2015-10-25' '2015-11-01' '2015-11-15'\n",
      " '2015-11-29' '2016-03-20' '2016-04-03' '2016-04-17' '2016-05-01'\n",
      " '2016-05-15' '2016-05-29' '2016-06-12' '2016-06-19' '2016-07-03'\n",
      " '2016-07-10' '2016-07-24' '2016-07-31' '2016-08-28' '2016-09-04'\n",
      " '2016-09-18' '2016-10-02' '2016-10-09' '2016-10-23' '2016-10-30'\n",
      " '2016-11-13' '2016-11-27' '2017-03-26' '2017-04-09' '2017-04-16'\n",
      " '2017-04-30' '2017-05-14' '2017-05-28' '2017-06-11' '2017-06-25'\n",
      " '2017-07-09' '2017-07-16' '2017-07-30' '2017-08-27' '2017-09-03'\n",
      " '2017-09-17' '2017-10-01' '2017-10-08' '2017-10-22' '2017-10-29'\n",
      " '2017-11-12' '2017-11-26']\n",
      "\n",
      "\n",
      "Number of unique values of race_date:\n",
      "\n",
      " 137\n"
     ]
    },
    {
     "data": {
      "image/png": "[encoded data removed]",
      "text/plain": [
       "<Figure size 1152x648 with 1 Axes>"
      ]
     },
     "metadata": {
      "needs_background": "light"
     },
     "output_type": "display_data"
    },
    {
     "name": "stdout",
     "output_type": "stream",
     "text": [
      "\n",
      "\n",
      "Unique values of race_laps:\n",
      "\n",
      " [58 56 66 78 70 57 52 60 44 53 61 55 71 67 69 59 54 43 51]\n",
      "\n",
      "\n",
      "Number of unique values of race_laps:\n",
      "\n",
      " 19\n"
     ]
    },
    {
     "data": {
      "image/png": "[encoded data removed]",
      "text/plain": [
       "<Figure size 1152x648 with 1 Axes>"
      ]
     },
     "metadata": {
      "needs_background": "light"
     },
     "output_type": "display_data"
    },
    {
     "name": "stdout",
     "output_type": "stream",
     "text": [
      "\n",
      "\n",
      "Unique values of race_pitstops:\n",
      "\n",
      " [2 3 4 1 6 5]\n",
      "\n",
      "\n",
      "Number of unique values of race_pitstops:\n",
      "\n",
      " 6\n"
     ]
    },
    {
     "data": {
      "image/png": "[encoded data removed]",
      "text/plain": [
       "<Figure size 1152x648 with 1 Axes>"
      ]
     },
     "metadata": {
      "needs_background": "light"
     },
     "output_type": "display_data"
    },
    {
     "name": "stdout",
     "output_type": "stream",
     "text": [
      "\n",
      "\n",
      "Unique values of start_position:\n",
      "\n",
      " [ 1  3 10  4  9  2  5 15  8 18  7  6 14 20 22 44 11 77 19 26 33]\n",
      "\n",
      "\n",
      "Number of unique values of start_position:\n",
      "\n",
      " 21\n"
     ]
    },
    {
     "data": {
      "image/png": "[encoded data removed]",
      "text/plain": [
       "<Figure size 1152x648 with 1 Axes>"
      ]
     },
     "metadata": {
      "needs_background": "light"
     },
     "output_type": "display_data"
    },
    {
     "name": "stdout",
     "output_type": "stream",
     "text": [
      "\n",
      "\n",
      "Unique values of finish_position:\n",
      "\n",
      " [1 2 3]\n",
      "\n",
      "\n",
      "Number of unique values of finish_position:\n",
      "\n",
      " 3\n"
     ]
    },
    {
     "data": {
      "image/png": "[encoded data removed]",
      "text/plain": [
       "<Figure size 1152x648 with 1 Axes>"
      ]
     },
     "metadata": {
      "needs_background": "light"
     },
     "output_type": "display_data"
    },
    {
     "name": "stdout",
     "output_type": "stream",
     "text": [
      "\n",
      "\n",
      "Unique values of points:\n",
      "\n",
      " [25 18 15 50 36 30]\n",
      "\n",
      "\n",
      "Number of unique values of points:\n",
      "\n",
      " 6\n"
     ]
    },
    {
     "data": {
      "image/png": "[encoded data removed]",
      "text/plain": [
       "<Figure size 1152x648 with 1 Axes>"
      ]
     },
     "metadata": {
      "needs_background": "light"
     },
     "output_type": "display_data"
    }
   ],
   "source": [
    "for col in data.columns:\n",
    "    print(f'\\n\\nUnique values of {col}:\\n\\n', data[col].unique())\n",
    "    print(f'\\n\\nNumber of unique values of {col}:\\n\\n', data[col].nunique())\n",
    "    \n",
    "    plt.figure(figsize=(16,9))\n",
    "    plt.hist(data[col])\n",
    "    plt.title(f'Histogram of {col}')\n",
    "    plt.xlabel(f'{col}')\n",
    "    plt.xticks(rotation=45)\n",
    "    plt.ylabel('Counts')\n",
    "    plt.show()"
   ]
  },
  {
   "cell_type": "code",
   "execution_count": 17,
   "id": "dad9fc38",
   "metadata": {},
   "outputs": [
    {
     "data": {
      "image/png": "[encoded data removed]",
      "text/plain": [
       "<Figure size 1152x648 with 2 Axes>"
      ]
     },
     "metadata": {
      "needs_background": "light"
     },
     "output_type": "display_data"
    }
   ],
   "source": [
    "plt.figure(figsize=(16,9))\n",
    "sns.heatmap(data.corr(), annot = True)\n",
    "plt.title('Correlation Matrix')\n",
    "plt.show()"
   ]
  },
  {
   "cell_type": "markdown",
   "id": "e92f00b5",
   "metadata": {},
   "source": [
    "# Which pilots and teams have won the most points"
   ]
  },
  {
   "cell_type": "code",
   "execution_count": 18,
   "id": "57d94bc3",
   "metadata": {},
   "outputs": [
    {
     "data": {
      "text/html": [
       "<div>\n",
       "<style scoped>\n",
       "    .dataframe tbody tr th:only-of-type {\n",
       "        vertical-align: middle;\n",
       "    }\n",
       "\n",
       "    .dataframe tbody tr th {\n",
       "        vertical-align: top;\n",
       "    }\n",
       "\n",
       "    .dataframe thead th {\n",
       "        text-align: right;\n",
       "    }\n",
       "</style>\n",
       "<table border=\"1\" class=\"dataframe\">\n",
       "  <thead>\n",
       "    <tr style=\"text-align: right;\">\n",
       "      <th></th>\n",
       "      <th>points</th>\n",
       "    </tr>\n",
       "    <tr>\n",
       "      <th>pilot_name</th>\n",
       "      <th></th>\n",
       "    </tr>\n",
       "  </thead>\n",
       "  <tbody>\n",
       "    <tr>\n",
       "      <th>Lewis Hamilton</th>\n",
       "      <td>1777</td>\n",
       "    </tr>\n",
       "    <tr>\n",
       "      <th>Sebastian Vettel</th>\n",
       "      <td>1636</td>\n",
       "    </tr>\n",
       "    <tr>\n",
       "      <th>Nico Rosberg</th>\n",
       "      <td>1082</td>\n",
       "    </tr>\n",
       "    <tr>\n",
       "      <th>Fernando Alonso</th>\n",
       "      <td>618</td>\n",
       "    </tr>\n",
       "    <tr>\n",
       "      <th>Kimi R�_ikk̦nen</th>\n",
       "      <td>497</td>\n",
       "    </tr>\n",
       "    <tr>\n",
       "      <th>Daniel Ricciardo</th>\n",
       "      <td>473</td>\n",
       "    </tr>\n",
       "    <tr>\n",
       "      <th>Valtteri Bottas</th>\n",
       "      <td>399</td>\n",
       "    </tr>\n",
       "    <tr>\n",
       "      <th>Mark Webber</th>\n",
       "      <td>384</td>\n",
       "    </tr>\n",
       "    <tr>\n",
       "      <th>Jenson Button</th>\n",
       "      <td>366</td>\n",
       "    </tr>\n",
       "    <tr>\n",
       "      <th>Max Verstappen</th>\n",
       "      <td>210</td>\n",
       "    </tr>\n",
       "    <tr>\n",
       "      <th>Romain Grosjean</th>\n",
       "      <td>156</td>\n",
       "    </tr>\n",
       "    <tr>\n",
       "      <th>Felipe Massa</th>\n",
       "      <td>144</td>\n",
       "    </tr>\n",
       "    <tr>\n",
       "      <th>Sergio P̩rez</th>\n",
       "      <td>111</td>\n",
       "    </tr>\n",
       "    <tr>\n",
       "      <th>Daniil Kvyat</th>\n",
       "      <td>33</td>\n",
       "    </tr>\n",
       "    <tr>\n",
       "      <th>Pastor Maldonado</th>\n",
       "      <td>25</td>\n",
       "    </tr>\n",
       "    <tr>\n",
       "      <th>Kevin Magnussen</th>\n",
       "      <td>18</td>\n",
       "    </tr>\n",
       "    <tr>\n",
       "      <th>Lance Stroll</th>\n",
       "      <td>15</td>\n",
       "    </tr>\n",
       "    <tr>\n",
       "      <th>Michael Schumacher</th>\n",
       "      <td>15</td>\n",
       "    </tr>\n",
       "    <tr>\n",
       "      <th>Nick Heidfeld</th>\n",
       "      <td>15</td>\n",
       "    </tr>\n",
       "    <tr>\n",
       "      <th>Kamui Kobayashi</th>\n",
       "      <td>15</td>\n",
       "    </tr>\n",
       "    <tr>\n",
       "      <th>Vitaly Petrov</th>\n",
       "      <td>15</td>\n",
       "    </tr>\n",
       "  </tbody>\n",
       "</table>\n",
       "</div>"
      ],
      "text/plain": [
       "                    points\n",
       "pilot_name                \n",
       "Lewis Hamilton        1777\n",
       "Sebastian Vettel      1636\n",
       "Nico Rosberg          1082\n",
       "Fernando Alonso        618\n",
       "Kimi R�_ikk̦nen        497\n",
       "Daniel Ricciardo       473\n",
       "Valtteri Bottas        399\n",
       "Mark Webber            384\n",
       "Jenson Button          366\n",
       "Max Verstappen         210\n",
       "Romain Grosjean        156\n",
       "Felipe Massa           144\n",
       "Sergio P̩rez           111\n",
       "Daniil Kvyat            33\n",
       "Pastor Maldonado        25\n",
       "Kevin Magnussen         18\n",
       "Lance Stroll            15\n",
       "Michael Schumacher      15\n",
       "Nick Heidfeld           15\n",
       "Kamui Kobayashi         15\n",
       "Vitaly Petrov           15"
      ]
     },
     "execution_count": 18,
     "metadata": {},
     "output_type": "execute_result"
    }
   ],
   "source": [
    "data[['pilot_name','points']].groupby('pilot_name').sum().sort_values(by='points', ascending=False)"
   ]
  },
  {
   "cell_type": "code",
   "execution_count": 19,
   "id": "61d5afc7",
   "metadata": {},
   "outputs": [
    {
     "data": {
      "text/html": [
       "<div>\n",
       "<style scoped>\n",
       "    .dataframe tbody tr th:only-of-type {\n",
       "        vertical-align: middle;\n",
       "    }\n",
       "\n",
       "    .dataframe tbody tr th {\n",
       "        vertical-align: top;\n",
       "    }\n",
       "\n",
       "    .dataframe thead th {\n",
       "        text-align: right;\n",
       "    }\n",
       "</style>\n",
       "<table border=\"1\" class=\"dataframe\">\n",
       "  <thead>\n",
       "    <tr style=\"text-align: right;\">\n",
       "      <th></th>\n",
       "      <th>points</th>\n",
       "    </tr>\n",
       "    <tr>\n",
       "      <th>team_name</th>\n",
       "      <th></th>\n",
       "    </tr>\n",
       "  </thead>\n",
       "  <tbody>\n",
       "    <tr>\n",
       "      <th>Mercedes</th>\n",
       "      <td>2843</td>\n",
       "    </tr>\n",
       "    <tr>\n",
       "      <th>Red Bull</th>\n",
       "      <td>2125</td>\n",
       "    </tr>\n",
       "    <tr>\n",
       "      <th>Ferrari</th>\n",
       "      <td>1502</td>\n",
       "    </tr>\n",
       "    <tr>\n",
       "      <th>McLaren</th>\n",
       "      <td>658</td>\n",
       "    </tr>\n",
       "    <tr>\n",
       "      <th>Lotus F1</th>\n",
       "      <td>428</td>\n",
       "    </tr>\n",
       "    <tr>\n",
       "      <th>Williams</th>\n",
       "      <td>292</td>\n",
       "    </tr>\n",
       "    <tr>\n",
       "      <th>Sauber</th>\n",
       "      <td>66</td>\n",
       "    </tr>\n",
       "    <tr>\n",
       "      <th>Force India</th>\n",
       "      <td>60</td>\n",
       "    </tr>\n",
       "    <tr>\n",
       "      <th>Renault</th>\n",
       "      <td>30</td>\n",
       "    </tr>\n",
       "  </tbody>\n",
       "</table>\n",
       "</div>"
      ],
      "text/plain": [
       "             points\n",
       "team_name          \n",
       "Mercedes       2843\n",
       "Red Bull       2125\n",
       "Ferrari        1502\n",
       "McLaren         658\n",
       "Lotus F1        428\n",
       "Williams        292\n",
       "Sauber           66\n",
       "Force India      60\n",
       "Renault          30"
      ]
     },
     "execution_count": 19,
     "metadata": {},
     "output_type": "execute_result"
    }
   ],
   "source": [
    "data[['team_name','points']].groupby('team_name').sum().sort_values(by='points', ascending=False)"
   ]
  },
  {
   "cell_type": "markdown",
   "id": "e02f0c47",
   "metadata": {},
   "source": [
    "# Starting positions by pilots and teams"
   ]
  },
  {
   "cell_type": "code",
   "execution_count": 20,
   "id": "389f5dcd",
   "metadata": {},
   "outputs": [
    {
     "data": {
      "text/plain": [
       "pilot_name          start_position\n",
       "Daniel Ricciardo    3                 27\n",
       "Daniil Kvyat        26                 2\n",
       "Felipe Massa        19                 5\n",
       "                    6                  2\n",
       "                    4                  1\n",
       "Fernando Alonso     5                 23\n",
       "                    3                  9\n",
       "                    14                 2\n",
       "Jenson Button       4                 12\n",
       "                    3                  6\n",
       "                    22                 1\n",
       "Kamui Kobayashi     14                 1\n",
       "Kevin Magnussen     20                 1\n",
       "Kimi R�_ikk̦nen     7                 22\n",
       "                    9                  7\n",
       "Lance Stroll        18                 1\n",
       "Lewis Hamilton      44                63\n",
       "                    4                  7\n",
       "                    3                  6\n",
       "                    10                 5\n",
       "Mark Webber         2                 22\n",
       "Max Verstappen      33                11\n",
       "Michael Schumacher  7                  1\n",
       "Nick Heidfeld       9                  1\n",
       "Nico Rosberg        6                 46\n",
       "                    9                  4\n",
       "                    8                  2\n",
       "Pastor Maldonado    18                 1\n",
       "Romain Grosjean     8                  7\n",
       "                    10                 3\n",
       "Sebastian Vettel    1                 47\n",
       "                    5                 33\n",
       "Sergio P̩rez        11                 4\n",
       "                    15                 3\n",
       "Valtteri Bottas     77                22\n",
       "Vitaly Petrov       10                 1\n",
       "dtype: int64"
      ]
     },
     "execution_count": 20,
     "metadata": {},
     "output_type": "execute_result"
    }
   ],
   "source": [
    "data[['pilot_name','start_position']].groupby('pilot_name').value_counts()"
   ]
  },
  {
   "cell_type": "code",
   "execution_count": 21,
   "id": "63e37182",
   "metadata": {},
   "outputs": [
    {
     "data": {
      "text/plain": [
       "team_name    start_position\n",
       "Ferrari      5                 56\n",
       "             7                 14\n",
       "             3                  9\n",
       "             6                  2\n",
       "             14                 2\n",
       "             4                  1\n",
       "Force India  11                 4\n",
       "Lotus F1     7                  8\n",
       "             9                  7\n",
       "             8                  7\n",
       "             10                 3\n",
       "McLaren      4                 19\n",
       "             3                 12\n",
       "             22                 1\n",
       "             20                 1\n",
       "Mercedes     44                63\n",
       "             6                 46\n",
       "             77                13\n",
       "             10                 5\n",
       "             9                  4\n",
       "             8                  2\n",
       "             7                  1\n",
       "Red Bull     1                 47\n",
       "             3                 27\n",
       "             2                 22\n",
       "             33                11\n",
       "             26                 2\n",
       "Renault      9                  1\n",
       "             10                 1\n",
       "Sauber       15                 3\n",
       "             14                 1\n",
       "Williams     77                 9\n",
       "             19                 5\n",
       "             18                 2\n",
       "dtype: int64"
      ]
     },
     "execution_count": 21,
     "metadata": {},
     "output_type": "execute_result"
    }
   ],
   "source": [
    "data[['team_name','start_position']].groupby('team_name').value_counts()"
   ]
  },
  {
   "cell_type": "markdown",
   "id": "c044f768",
   "metadata": {},
   "source": [
    "# Finishing positions by pilots and teams"
   ]
  },
  {
   "cell_type": "code",
   "execution_count": 22,
   "id": "fc50311c",
   "metadata": {},
   "outputs": [
    {
     "data": {
      "text/plain": [
       "pilot_name          finish_position\n",
       "Daniel Ricciardo    3                  16\n",
       "                    2                   6\n",
       "                    1                   5\n",
       "Daniil Kvyat        3                   1\n",
       "                    2                   1\n",
       "Felipe Massa        3                   6\n",
       "                    2                   2\n",
       "Fernando Alonso     2                  16\n",
       "                    3                  12\n",
       "                    1                   6\n",
       "Jenson Button       2                   7\n",
       "                    3                   6\n",
       "                    1                   6\n",
       "Kamui Kobayashi     3                   1\n",
       "Kevin Magnussen     2                   1\n",
       "Kimi R�_ikk̦nen     2                  14\n",
       "                    3                  13\n",
       "                    1                   2\n",
       "Lance Stroll        3                   1\n",
       "Lewis Hamilton      1                  48\n",
       "                    2                  19\n",
       "                    3                  14\n",
       "Mark Webber         3                  11\n",
       "                    2                   8\n",
       "                    1                   3\n",
       "Max Verstappen      2                   5\n",
       "                    3                   3\n",
       "                    1                   3\n",
       "Michael Schumacher  3                   1\n",
       "Nick Heidfeld       3                   1\n",
       "Nico Rosberg        2                  24\n",
       "                    1                  23\n",
       "                    3                   5\n",
       "Pastor Maldonado    1                   1\n",
       "Romain Grosjean     3                   8\n",
       "                    2                   2\n",
       "Sebastian Vettel    1                  37\n",
       "                    2                  22\n",
       "                    3                  21\n",
       "Sergio P̩rez        3                   5\n",
       "                    2                   2\n",
       "Valtteri Bottas     3                  11\n",
       "                    2                   8\n",
       "                    1                   3\n",
       "Vitaly Petrov       3                   1\n",
       "dtype: int64"
      ]
     },
     "execution_count": 22,
     "metadata": {},
     "output_type": "execute_result"
    }
   ],
   "source": [
    "data[['pilot_name','finish_position']].groupby('pilot_name').value_counts()"
   ]
  },
  {
   "cell_type": "code",
   "execution_count": 23,
   "id": "e71d3fc8",
   "metadata": {},
   "outputs": [
    {
     "data": {
      "text/plain": [
       "team_name    finish_position\n",
       "Ferrari      3                  36\n",
       "             2                  34\n",
       "             1                  14\n",
       "Force India  3                   4\n",
       "Lotus F1     3                  12\n",
       "             2                  11\n",
       "             1                   2\n",
       "McLaren      1                  13\n",
       "             2                  11\n",
       "             3                   9\n",
       "Mercedes     1                  67\n",
       "             2                  46\n",
       "             3                  21\n",
       "Red Bull     1                  40\n",
       "             3                  39\n",
       "             2                  30\n",
       "Renault      3                   2\n",
       "Sauber       2                   2\n",
       "             3                   2\n",
       "Williams     3                  12\n",
       "             2                   3\n",
       "             1                   1\n",
       "dtype: int64"
      ]
     },
     "execution_count": 23,
     "metadata": {},
     "output_type": "execute_result"
    }
   ],
   "source": [
    "data[['team_name','finish_position']].groupby('team_name').value_counts()"
   ]
  },
  {
   "cell_type": "markdown",
   "id": "acfd0640",
   "metadata": {},
   "source": [
    "# In which position the pilots and the teams started and won the race"
   ]
  },
  {
   "cell_type": "code",
   "execution_count": 24,
   "id": "3fcdc634",
   "metadata": {},
   "outputs": [
    {
     "data": {
      "text/plain": [
       "pilot_name        start_position  finish_position\n",
       "Daniel Ricciardo  3               1                   5\n",
       "Fernando Alonso   5               1                   4\n",
       "                  3               1                   2\n",
       "Jenson Button     4               1                   3\n",
       "                  3               1                   3\n",
       "Kimi R�_ikk̦nen   7               1                   1\n",
       "                  9               1                   1\n",
       "Lewis Hamilton    44              1                  40\n",
       "                  4               1                   4\n",
       "                  3               1                   3\n",
       "                  10              1                   1\n",
       "Mark Webber       2               1                   3\n",
       "Max Verstappen    33              1                   3\n",
       "Nico Rosberg      6               1                  20\n",
       "                  9               1                   2\n",
       "                  8               1                   1\n",
       "Pastor Maldonado  18              1                   1\n",
       "Sebastian Vettel  1               1                  29\n",
       "                  5               1                   8\n",
       "Valtteri Bottas   77              1                   3\n",
       "dtype: int64"
      ]
     },
     "execution_count": 24,
     "metadata": {},
     "output_type": "execute_result"
    }
   ],
   "source": [
    "data[['pilot_name','start_position','finish_position']][data['finish_position'] == 1].groupby('pilot_name').value_counts()"
   ]
  },
  {
   "cell_type": "code",
   "execution_count": 25,
   "id": "75e515fe",
   "metadata": {},
   "outputs": [
    {
     "data": {
      "text/plain": [
       "team_name  start_position  finish_position\n",
       "Ferrari    5               1                  12\n",
       "           3               1                   2\n",
       "Lotus F1   9               1                   1\n",
       "           7               1                   1\n",
       "McLaren    4               1                   7\n",
       "           3               1                   6\n",
       "Mercedes   44              1                  40\n",
       "           6               1                  20\n",
       "           77              1                   3\n",
       "           9               1                   2\n",
       "           10              1                   1\n",
       "           8               1                   1\n",
       "Red Bull   1               1                  29\n",
       "           3               1                   5\n",
       "           33              1                   3\n",
       "           2               1                   3\n",
       "Williams   18              1                   1\n",
       "dtype: int64"
      ]
     },
     "execution_count": 25,
     "metadata": {},
     "output_type": "execute_result"
    }
   ],
   "source": [
    "data[['team_name','start_position','finish_position']][data['finish_position'] == 1].groupby('team_name').value_counts()"
   ]
  },
  {
   "cell_type": "markdown",
   "id": "377fe40f",
   "metadata": {},
   "source": [
    "# How many pitstops the pilots and the teams have made"
   ]
  },
  {
   "cell_type": "code",
   "execution_count": 26,
   "id": "ec69620e",
   "metadata": {},
   "outputs": [
    {
     "data": {
      "text/plain": [
       "pilot_name          race_pitstops\n",
       "Daniel Ricciardo    2                14\n",
       "                    1                 7\n",
       "                    4                 2\n",
       "                    5                 2\n",
       "                    3                 2\n",
       "Daniil Kvyat        3                 1\n",
       "                    5                 1\n",
       "Felipe Massa        1                 3\n",
       "                    3                 2\n",
       "                    2                 2\n",
       "                    4                 1\n",
       "Fernando Alonso     2                15\n",
       "                    3                10\n",
       "                    1                 6\n",
       "                    4                 3\n",
       "Jenson Button       3                 9\n",
       "                    2                 8\n",
       "                    1                 1\n",
       "                    6                 1\n",
       "Kamui Kobayashi     2                 1\n",
       "Kevin Magnussen     2                 1\n",
       "Kimi R�_ikk̦nen     2                15\n",
       "                    3                 7\n",
       "                    1                 6\n",
       "                    4                 1\n",
       "Lance Stroll        3                 1\n",
       "Lewis Hamilton      2                35\n",
       "                    1                23\n",
       "                    3                17\n",
       "                    4                 6\n",
       "Mark Webber         3                 9\n",
       "                    2                 6\n",
       "                    1                 5\n",
       "                    4                 2\n",
       "Max Verstappen      1                 3\n",
       "                    2                 3\n",
       "                    3                 3\n",
       "                    5                 1\n",
       "                    4                 1\n",
       "Michael Schumacher  2                 1\n",
       "Nick Heidfeld       3                 1\n",
       "Nico Rosberg        2                29\n",
       "                    1                13\n",
       "                    3                10\n",
       "Pastor Maldonado    3                 1\n",
       "Romain Grosjean     2                 4\n",
       "                    1                 3\n",
       "                    3                 3\n",
       "Sebastian Vettel    2                33\n",
       "                    3                21\n",
       "                    1                20\n",
       "                    4                 5\n",
       "                    5                 1\n",
       "Sergio P̩rez        1                 4\n",
       "                    2                 2\n",
       "                    3                 1\n",
       "Valtteri Bottas     1                13\n",
       "                    2                 6\n",
       "                    4                 3\n",
       "Vitaly Petrov       2                 1\n",
       "dtype: int64"
      ]
     },
     "execution_count": 26,
     "metadata": {},
     "output_type": "execute_result"
    }
   ],
   "source": [
    "data[['pilot_name','race_pitstops']].groupby('pilot_name').value_counts()"
   ]
  },
  {
   "cell_type": "code",
   "execution_count": 27,
   "id": "e9e90417",
   "metadata": {},
   "outputs": [
    {
     "data": {
      "text/plain": [
       "team_name    race_pitstops\n",
       "Ferrari      2                34\n",
       "             1                24\n",
       "             3                18\n",
       "             4                 7\n",
       "             5                 1\n",
       "Force India  1                 2\n",
       "             2                 2\n",
       "Lotus F1     2                13\n",
       "             3                 8\n",
       "             1                 4\n",
       "McLaren      2                15\n",
       "             3                13\n",
       "             1                 3\n",
       "             6                 1\n",
       "             4                 1\n",
       "Mercedes     2                60\n",
       "             1                43\n",
       "             3                23\n",
       "             4                 8\n",
       "Red Bull     2                44\n",
       "             3                31\n",
       "             1                22\n",
       "             4                 8\n",
       "             5                 4\n",
       "Renault      2                 1\n",
       "             3                 1\n",
       "Sauber       1                 2\n",
       "             2                 1\n",
       "             3                 1\n",
       "Williams     1                 7\n",
       "             2                 6\n",
       "             3                 3\n",
       "dtype: int64"
      ]
     },
     "execution_count": 27,
     "metadata": {},
     "output_type": "execute_result"
    }
   ],
   "source": [
    "data[['team_name','race_pitstops']].groupby('team_name').value_counts()"
   ]
  },
  {
   "cell_type": "markdown",
   "id": "b519497a",
   "metadata": {},
   "source": [
    "# Number of pitstops by pilot and team when they have won a race"
   ]
  },
  {
   "cell_type": "code",
   "execution_count": 28,
   "id": "245ad8dc",
   "metadata": {},
   "outputs": [
    {
     "data": {
      "text/plain": [
       "pilot_name        race_pitstops  finish_position\n",
       "Daniel Ricciardo  2              1                   3\n",
       "                  3              1                   1\n",
       "                  4              1                   1\n",
       "Fernando Alonso   3              1                   3\n",
       "                  2              1                   2\n",
       "                  4              1                   1\n",
       "Jenson Button     2              1                   2\n",
       "                  3              1                   2\n",
       "                  1              1                   1\n",
       "                  6              1                   1\n",
       "Kimi R�_ikk̦nen   1              1                   1\n",
       "                  2              1                   1\n",
       "Lewis Hamilton    2              1                  22\n",
       "                  1              1                  16\n",
       "                  3              1                   7\n",
       "                  4              1                   3\n",
       "Mark Webber       3              1                   1\n",
       "                  2              1                   1\n",
       "                  1              1                   1\n",
       "Max Verstappen    1              1                   2\n",
       "                  2              1                   1\n",
       "Nico Rosberg      2              1                  11\n",
       "                  1              1                   7\n",
       "                  3              1                   5\n",
       "Pastor Maldonado  3              1                   1\n",
       "Sebastian Vettel  2              1                  18\n",
       "                  3              1                   7\n",
       "                  1              1                   7\n",
       "                  4              1                   5\n",
       "Valtteri Bottas   1              1                   3\n",
       "dtype: int64"
      ]
     },
     "execution_count": 28,
     "metadata": {},
     "output_type": "execute_result"
    }
   ],
   "source": [
    "data[['pilot_name','race_pitstops','finish_position']][data['finish_position'] == 1].groupby('pilot_name').value_counts()"
   ]
  },
  {
   "cell_type": "code",
   "execution_count": 29,
   "id": "dbf1d7dc",
   "metadata": {},
   "outputs": [
    {
     "data": {
      "text/plain": [
       "team_name  race_pitstops  finish_position\n",
       "Ferrari    2              1                   5\n",
       "           1              1                   3\n",
       "           3              1                   3\n",
       "           4              1                   3\n",
       "Lotus F1   2              1                   1\n",
       "           1              1                   1\n",
       "McLaren    2              1                   5\n",
       "           3              1                   4\n",
       "           1              1                   3\n",
       "           6              1                   1\n",
       "Mercedes   2              1                  30\n",
       "           1              1                  24\n",
       "           3              1                  10\n",
       "           4              1                   3\n",
       "Red Bull   2              1                  20\n",
       "           3              1                   9\n",
       "           1              1                   7\n",
       "           4              1                   4\n",
       "Williams   3              1                   1\n",
       "dtype: int64"
      ]
     },
     "execution_count": 29,
     "metadata": {},
     "output_type": "execute_result"
    }
   ],
   "source": [
    "data[['team_name','race_pitstops','finish_position']][data['finish_position'] == 1].groupby('team_name').value_counts()"
   ]
  },
  {
   "cell_type": "markdown",
   "id": "0931b2f9",
   "metadata": {},
   "source": [
    "# Which pilots and teams have won which race and how many times they did it"
   ]
  },
  {
   "cell_type": "code",
   "execution_count": 30,
   "id": "c3c45fa4",
   "metadata": {},
   "outputs": [
    {
     "data": {
      "text/plain": [
       "pilot_name        race_name              finish_position\n",
       "Daniel Ricciardo  Azerbaijan Grand Prix  1                  1\n",
       "                  Canadian Grand Prix    1                  1\n",
       "                  Hungarian Grand Prix   1                  1\n",
       "                  Malaysian Grand Prix   1                  1\n",
       "                  Belgian Grand Prix     1                  1\n",
       "                                                           ..\n",
       "Sebastian Vettel  Abu Dhabi Grand Prix   1                  1\n",
       "                  Canadian Grand Prix    1                  1\n",
       "Valtteri Bottas   Austrian Grand Prix    1                  1\n",
       "                  Abu Dhabi Grand Prix   1                  1\n",
       "                  Russian Grand Prix     1                  1\n",
       "Length: 85, dtype: int64"
      ]
     },
     "execution_count": 30,
     "metadata": {},
     "output_type": "execute_result"
    }
   ],
   "source": [
    "data[['pilot_name','race_name','finish_position']][data['finish_position'] == 1].groupby('pilot_name').value_counts()"
   ]
  },
  {
   "cell_type": "code",
   "execution_count": 31,
   "id": "69f5c028",
   "metadata": {},
   "outputs": [
    {
     "data": {
      "text/plain": [
       "team_name  race_name              finish_position\n",
       "Ferrari    Malaysian Grand Prix   1                  2\n",
       "           Hungarian Grand Prix   1                  2\n",
       "           Australian Grand Prix  1                  1\n",
       "           Bahrain Grand Prix     1                  1\n",
       "           Brazilian Grand Prix   1                  1\n",
       "                                                    ..\n",
       "Red Bull   German Grand Prix      1                  1\n",
       "           European Grand Prix    1                  1\n",
       "           Abu Dhabi Grand Prix   1                  1\n",
       "           British Grand Prix     1                  1\n",
       "Williams   Spanish Grand Prix     1                  1\n",
       "Length: 69, dtype: int64"
      ]
     },
     "execution_count": 31,
     "metadata": {},
     "output_type": "execute_result"
    }
   ],
   "source": [
    "data[['team_name','race_name','finish_position']][data['finish_position'] == 1].groupby('team_name').value_counts()"
   ]
  },
  {
   "cell_type": "markdown",
   "id": "bbd03770",
   "metadata": {},
   "source": [
    "# Which pilots won at least a podium and were part of which team"
   ]
  },
  {
   "cell_type": "code",
   "execution_count": 32,
   "id": "40ae8218",
   "metadata": {},
   "outputs": [
    {
     "data": {
      "text/plain": [
       "pilot_name          team_name  \n",
       "Daniel Ricciardo    Red Bull       27\n",
       "Daniil Kvyat        Red Bull        2\n",
       "Felipe Massa        Williams        5\n",
       "                    Ferrari         3\n",
       "Fernando Alonso     Ferrari        34\n",
       "Jenson Button       McLaren        19\n",
       "Kamui Kobayashi     Sauber          1\n",
       "Kevin Magnussen     McLaren         1\n",
       "Kimi R�_ikk̦nen     Lotus F1       15\n",
       "                    Ferrari        14\n",
       "Lance Stroll        Williams        1\n",
       "Lewis Hamilton      Mercedes       68\n",
       "                    McLaren        13\n",
       "Mark Webber         Red Bull       22\n",
       "Max Verstappen      Red Bull       11\n",
       "Michael Schumacher  Mercedes        1\n",
       "Nick Heidfeld       Renault         1\n",
       "Nico Rosberg        Mercedes       52\n",
       "Pastor Maldonado    Williams        1\n",
       "Romain Grosjean     Lotus F1       10\n",
       "Sebastian Vettel    Red Bull       47\n",
       "                    Ferrari        33\n",
       "Sergio P̩rez        Force India     4\n",
       "                    Sauber          3\n",
       "Valtteri Bottas     Mercedes       13\n",
       "                    Williams        9\n",
       "Vitaly Petrov       Renault         1\n",
       "dtype: int64"
      ]
     },
     "execution_count": 32,
     "metadata": {},
     "output_type": "execute_result"
    }
   ],
   "source": [
    "data[['pilot_name','team_name']].groupby('pilot_name').value_counts()"
   ]
  },
  {
   "cell_type": "markdown",
   "id": "92e69997",
   "metadata": {},
   "source": [
    "# Which pilots won at least one race and were part of which team"
   ]
  },
  {
   "cell_type": "code",
   "execution_count": 33,
   "id": "be6a579e",
   "metadata": {},
   "outputs": [
    {
     "data": {
      "text/plain": [
       "pilot_name        team_name\n",
       "Daniel Ricciardo  Red Bull      5\n",
       "Fernando Alonso   Ferrari       6\n",
       "Jenson Button     McLaren       6\n",
       "Kimi R�_ikk̦nen   Lotus F1      2\n",
       "Lewis Hamilton    Mercedes     41\n",
       "                  McLaren       7\n",
       "Mark Webber       Red Bull      3\n",
       "Max Verstappen    Red Bull      3\n",
       "Nico Rosberg      Mercedes     23\n",
       "Pastor Maldonado  Williams      1\n",
       "Sebastian Vettel  Red Bull     29\n",
       "                  Ferrari       8\n",
       "Valtteri Bottas   Mercedes      3\n",
       "dtype: int64"
      ]
     },
     "execution_count": 33,
     "metadata": {},
     "output_type": "execute_result"
    }
   ],
   "source": [
    "data[['pilot_name','team_name']][data['finish_position'] == 1].groupby('pilot_name').value_counts()"
   ]
  },
  {
   "cell_type": "markdown",
   "id": "1289e843",
   "metadata": {},
   "source": [
    "# Laps per race and how many times it was hosted at the venue"
   ]
  },
  {
   "cell_type": "code",
   "execution_count": 34,
   "id": "b3d0a235",
   "metadata": {},
   "outputs": [
    {
     "data": {
      "text/plain": [
       "race_name                 race_laps\n",
       "Abu Dhabi Grand Prix      55           21\n",
       "Australian Grand Prix     58           12\n",
       "                          57            9\n",
       "Austrian Grand Prix       71           12\n",
       "Azerbaijan Grand Prix     51            3\n",
       "Bahrain Grand Prix        57           18\n",
       "Belgian Grand Prix        44           18\n",
       "                          43            3\n",
       "Brazilian Grand Prix      71           21\n",
       "British Grand Prix        52           18\n",
       "                          51            3\n",
       "Canadian Grand Prix       70           21\n",
       "Chinese Grand Prix        56           18\n",
       "                          54            3\n",
       "European Grand Prix       57            6\n",
       "                          51            3\n",
       "German Grand Prix         67            9\n",
       "                          60            6\n",
       "Hungarian Grand Prix      70           15\n",
       "                          69            6\n",
       "Indian Grand Prix         60            9\n",
       "Italian Grand Prix        53           21\n",
       "Japanese Grand Prix       53           18\n",
       "                          44            3\n",
       "Korean Grand Prix         55            9\n",
       "Malaysian Grand Prix      56           21\n",
       "Mexican Grand Prix        71            9\n",
       "Monaco Grand Prix         78           21\n",
       "Russian Grand Prix        53            9\n",
       "                          52            3\n",
       "Singapore Grand Prix      61           12\n",
       "                          58            3\n",
       "                          59            3\n",
       "                          60            3\n",
       "Spanish Grand Prix        66           21\n",
       "Turkish Grand Prix        58            3\n",
       "United States Grand Prix  56           18\n",
       "dtype: int64"
      ]
     },
     "execution_count": 34,
     "metadata": {},
     "output_type": "execute_result"
    }
   ],
   "source": [
    "data[['race_name','race_laps']].groupby('race_name').value_counts()"
   ]
  },
  {
   "cell_type": "markdown",
   "id": "6b4bdd43",
   "metadata": {},
   "source": [
    "# Misc"
   ]
  },
  {
   "cell_type": "markdown",
   "id": "a660e83c",
   "metadata": {},
   "source": [
    "# How many points each pilot has won"
   ]
  },
  {
   "cell_type": "code",
   "execution_count": 35,
   "id": "44f97de1",
   "metadata": {},
   "outputs": [
    {
     "data": {
      "text/html": [
       "<div>\n",
       "<style scoped>\n",
       "    .dataframe tbody tr th:only-of-type {\n",
       "        vertical-align: middle;\n",
       "    }\n",
       "\n",
       "    .dataframe tbody tr th {\n",
       "        vertical-align: top;\n",
       "    }\n",
       "\n",
       "    .dataframe thead th {\n",
       "        text-align: right;\n",
       "    }\n",
       "</style>\n",
       "<table border=\"1\" class=\"dataframe\">\n",
       "  <thead>\n",
       "    <tr style=\"text-align: right;\">\n",
       "      <th></th>\n",
       "      <th>first_name</th>\n",
       "      <th>last_name</th>\n",
       "      <th>nationality</th>\n",
       "      <th>points_won</th>\n",
       "    </tr>\n",
       "  </thead>\n",
       "  <tbody>\n",
       "    <tr>\n",
       "      <th>0</th>\n",
       "      <td>Lewis</td>\n",
       "      <td>Hamilton</td>\n",
       "      <td>British</td>\n",
       "      <td>2610.0</td>\n",
       "    </tr>\n",
       "    <tr>\n",
       "      <th>1</th>\n",
       "      <td>Sebastian</td>\n",
       "      <td>Vettel</td>\n",
       "      <td>German</td>\n",
       "      <td>2425.0</td>\n",
       "    </tr>\n",
       "    <tr>\n",
       "      <th>2</th>\n",
       "      <td>Fernando</td>\n",
       "      <td>Alonso</td>\n",
       "      <td>Spanish</td>\n",
       "      <td>1849.0</td>\n",
       "    </tr>\n",
       "    <tr>\n",
       "      <th>3</th>\n",
       "      <td>Nico</td>\n",
       "      <td>Rosberg</td>\n",
       "      <td>German</td>\n",
       "      <td>1594.5</td>\n",
       "    </tr>\n",
       "    <tr>\n",
       "      <th>4</th>\n",
       "      <td>Michael</td>\n",
       "      <td>Schumacher</td>\n",
       "      <td>German</td>\n",
       "      <td>1566.0</td>\n",
       "    </tr>\n",
       "  </tbody>\n",
       "</table>\n",
       "</div>"
      ],
      "text/plain": [
       "  first_name   last_name nationality  points_won\n",
       "0      Lewis    Hamilton     British      2610.0\n",
       "1  Sebastian      Vettel      German      2425.0\n",
       "2   Fernando      Alonso     Spanish      1849.0\n",
       "3       Nico     Rosberg      German      1594.5\n",
       "4    Michael  Schumacher      German      1566.0"
      ]
     },
     "execution_count": 35,
     "metadata": {},
     "output_type": "execute_result"
    }
   ],
   "source": [
    "query = '''\n",
    "        SELECT drivers.forename AS 'first_name', \n",
    "               drivers.surname AS 'last_name', \n",
    "               drivers.nationality AS 'nationality',\n",
    "               SUM(results.points) AS 'points_won'\n",
    "        FROM drivers\n",
    "        JOIN results ON drivers.driverId = results.driverId\n",
    "        GROUP BY drivers.driverId\n",
    "        ORDER BY SUM(results.points) DESC;\n",
    "        '''\n",
    "\n",
    "data_allpoints = pd.read_sql_query(query, db['connect_f1'])\n",
    "data_allpoints.head()"
   ]
  },
  {
   "cell_type": "code",
   "execution_count": 36,
   "id": "c9b1be77",
   "metadata": {},
   "outputs": [
    {
     "data": {
      "text/html": [
       "<div>\n",
       "<style scoped>\n",
       "    .dataframe tbody tr th:only-of-type {\n",
       "        vertical-align: middle;\n",
       "    }\n",
       "\n",
       "    .dataframe tbody tr th {\n",
       "        vertical-align: top;\n",
       "    }\n",
       "\n",
       "    .dataframe thead th {\n",
       "        text-align: right;\n",
       "    }\n",
       "</style>\n",
       "<table border=\"1\" class=\"dataframe\">\n",
       "  <thead>\n",
       "    <tr style=\"text-align: right;\">\n",
       "      <th></th>\n",
       "      <th>first_name</th>\n",
       "      <th>last_name</th>\n",
       "      <th>nationality</th>\n",
       "      <th>points_won</th>\n",
       "    </tr>\n",
       "  </thead>\n",
       "  <tbody>\n",
       "    <tr>\n",
       "      <th>837</th>\n",
       "      <td>Yuji</td>\n",
       "      <td>Ide</td>\n",
       "      <td>Japanese</td>\n",
       "      <td>0.0</td>\n",
       "    </tr>\n",
       "    <tr>\n",
       "      <th>838</th>\n",
       "      <td>Sakon</td>\n",
       "      <td>Yamamoto</td>\n",
       "      <td>Japanese</td>\n",
       "      <td>0.0</td>\n",
       "    </tr>\n",
       "    <tr>\n",
       "      <th>839</th>\n",
       "      <td>Markus</td>\n",
       "      <td>Winkelhock</td>\n",
       "      <td>German</td>\n",
       "      <td>0.0</td>\n",
       "    </tr>\n",
       "    <tr>\n",
       "      <th>840</th>\n",
       "      <td>Scott</td>\n",
       "      <td>Speed</td>\n",
       "      <td>American</td>\n",
       "      <td>0.0</td>\n",
       "    </tr>\n",
       "    <tr>\n",
       "      <th>841</th>\n",
       "      <td>Anthony</td>\n",
       "      <td>Davidson</td>\n",
       "      <td>British</td>\n",
       "      <td>0.0</td>\n",
       "    </tr>\n",
       "  </tbody>\n",
       "</table>\n",
       "</div>"
      ],
      "text/plain": [
       "    first_name   last_name nationality  points_won\n",
       "837       Yuji         Ide    Japanese         0.0\n",
       "838      Sakon    Yamamoto    Japanese         0.0\n",
       "839     Markus  Winkelhock      German         0.0\n",
       "840      Scott       Speed    American         0.0\n",
       "841    Anthony    Davidson     British         0.0"
      ]
     },
     "execution_count": 36,
     "metadata": {},
     "output_type": "execute_result"
    }
   ],
   "source": [
    "data_allpoints.tail()"
   ]
  },
  {
   "cell_type": "code",
   "execution_count": 37,
   "id": "9945762b",
   "metadata": {},
   "outputs": [
    {
     "name": "stdout",
     "output_type": "stream",
     "text": [
      "<class 'pandas.core.frame.DataFrame'>\n",
      "RangeIndex: 842 entries, 0 to 841\n",
      "Data columns (total 4 columns):\n",
      " #   Column       Non-Null Count  Dtype  \n",
      "---  ------       --------------  -----  \n",
      " 0   first_name   842 non-null    object \n",
      " 1   last_name    842 non-null    object \n",
      " 2   nationality  842 non-null    object \n",
      " 3   points_won   842 non-null    float64\n",
      "dtypes: float64(1), object(3)\n",
      "memory usage: 26.4+ KB\n"
     ]
    }
   ],
   "source": [
    "data_allpoints.info()"
   ]
  },
  {
   "cell_type": "markdown",
   "id": "e978c583",
   "metadata": {},
   "source": [
    "# How many races each pilot has won"
   ]
  },
  {
   "cell_type": "code",
   "execution_count": 38,
   "id": "b797afb5",
   "metadata": {},
   "outputs": [
    {
     "data": {
      "text/html": [
       "<div>\n",
       "<style scoped>\n",
       "    .dataframe tbody tr th:only-of-type {\n",
       "        vertical-align: middle;\n",
       "    }\n",
       "\n",
       "    .dataframe tbody tr th {\n",
       "        vertical-align: top;\n",
       "    }\n",
       "\n",
       "    .dataframe thead th {\n",
       "        text-align: right;\n",
       "    }\n",
       "</style>\n",
       "<table border=\"1\" class=\"dataframe\">\n",
       "  <thead>\n",
       "    <tr style=\"text-align: right;\">\n",
       "      <th></th>\n",
       "      <th>first_name</th>\n",
       "      <th>last_name</th>\n",
       "      <th>number_of_wins</th>\n",
       "    </tr>\n",
       "  </thead>\n",
       "  <tbody>\n",
       "    <tr>\n",
       "      <th>0</th>\n",
       "      <td>Michael</td>\n",
       "      <td>Schumacher</td>\n",
       "      <td>91</td>\n",
       "    </tr>\n",
       "    <tr>\n",
       "      <th>1</th>\n",
       "      <td>Lewis</td>\n",
       "      <td>Hamilton</td>\n",
       "      <td>62</td>\n",
       "    </tr>\n",
       "    <tr>\n",
       "      <th>2</th>\n",
       "      <td>Alain</td>\n",
       "      <td>Prost</td>\n",
       "      <td>51</td>\n",
       "    </tr>\n",
       "    <tr>\n",
       "      <th>3</th>\n",
       "      <td>Sebastian</td>\n",
       "      <td>Vettel</td>\n",
       "      <td>47</td>\n",
       "    </tr>\n",
       "    <tr>\n",
       "      <th>4</th>\n",
       "      <td>Ayrton</td>\n",
       "      <td>Senna</td>\n",
       "      <td>41</td>\n",
       "    </tr>\n",
       "  </tbody>\n",
       "</table>\n",
       "</div>"
      ],
      "text/plain": [
       "  first_name   last_name  number_of_wins\n",
       "0    Michael  Schumacher              91\n",
       "1      Lewis    Hamilton              62\n",
       "2      Alain       Prost              51\n",
       "3  Sebastian      Vettel              47\n",
       "4     Ayrton       Senna              41"
      ]
     },
     "execution_count": 38,
     "metadata": {},
     "output_type": "execute_result"
    }
   ],
   "source": [
    "query = '''\n",
    "        SELECT drivers.forename AS 'first_name', \n",
    "               drivers.surname AS 'last_name', \n",
    "               COUNT(*) AS 'number_of_wins'\n",
    "        FROM results\n",
    "        JOIN drivers ON results.driverId = drivers.driverId\n",
    "        JOIN races ON results.raceId = races.raceId\n",
    "        WHERE results.positionOrder = 1\n",
    "        GROUP BY drivers.driverId\n",
    "        ORDER BY COUNT(*) DESC;\n",
    "        '''\n",
    "\n",
    "data_allwins = pd.read_sql_query(query, db['connect_f1'])\n",
    "data_allwins.head()"
   ]
  },
  {
   "cell_type": "code",
   "execution_count": 39,
   "id": "deaea2ff",
   "metadata": {},
   "outputs": [
    {
     "data": {
      "text/html": [
       "<div>\n",
       "<style scoped>\n",
       "    .dataframe tbody tr th:only-of-type {\n",
       "        vertical-align: middle;\n",
       "    }\n",
       "\n",
       "    .dataframe tbody tr th {\n",
       "        vertical-align: top;\n",
       "    }\n",
       "\n",
       "    .dataframe thead th {\n",
       "        text-align: right;\n",
       "    }\n",
       "</style>\n",
       "<table border=\"1\" class=\"dataframe\">\n",
       "  <thead>\n",
       "    <tr style=\"text-align: right;\">\n",
       "      <th></th>\n",
       "      <th>first_name</th>\n",
       "      <th>last_name</th>\n",
       "      <th>number_of_wins</th>\n",
       "    </tr>\n",
       "  </thead>\n",
       "  <tbody>\n",
       "    <tr>\n",
       "      <th>102</th>\n",
       "      <td>Jean</td>\n",
       "      <td>Alesi</td>\n",
       "      <td>1</td>\n",
       "    </tr>\n",
       "    <tr>\n",
       "      <th>103</th>\n",
       "      <td>Olivier</td>\n",
       "      <td>Panis</td>\n",
       "      <td>1</td>\n",
       "    </tr>\n",
       "    <tr>\n",
       "      <th>104</th>\n",
       "      <td>Jarno</td>\n",
       "      <td>Trulli</td>\n",
       "      <td>1</td>\n",
       "    </tr>\n",
       "    <tr>\n",
       "      <th>105</th>\n",
       "      <td>Robert</td>\n",
       "      <td>Kubica</td>\n",
       "      <td>1</td>\n",
       "    </tr>\n",
       "    <tr>\n",
       "      <th>106</th>\n",
       "      <td>Heikki</td>\n",
       "      <td>Kovalainen</td>\n",
       "      <td>1</td>\n",
       "    </tr>\n",
       "  </tbody>\n",
       "</table>\n",
       "</div>"
      ],
      "text/plain": [
       "    first_name   last_name  number_of_wins\n",
       "102       Jean       Alesi               1\n",
       "103    Olivier       Panis               1\n",
       "104      Jarno      Trulli               1\n",
       "105     Robert      Kubica               1\n",
       "106     Heikki  Kovalainen               1"
      ]
     },
     "execution_count": 39,
     "metadata": {},
     "output_type": "execute_result"
    }
   ],
   "source": [
    "data_allwins.tail()"
   ]
  },
  {
   "cell_type": "code",
   "execution_count": 40,
   "id": "68104b08",
   "metadata": {},
   "outputs": [
    {
     "name": "stdout",
     "output_type": "stream",
     "text": [
      "<class 'pandas.core.frame.DataFrame'>\n",
      "RangeIndex: 107 entries, 0 to 106\n",
      "Data columns (total 3 columns):\n",
      " #   Column          Non-Null Count  Dtype \n",
      "---  ------          --------------  ----- \n",
      " 0   first_name      107 non-null    object\n",
      " 1   last_name       107 non-null    object\n",
      " 2   number_of_wins  107 non-null    int64 \n",
      "dtypes: int64(1), object(2)\n",
      "memory usage: 2.6+ KB\n"
     ]
    }
   ],
   "source": [
    "data_allwins.info()"
   ]
  }
 ],
 "metadata": {
  "kernelspec": {
   "display_name": "cnn-venv",
   "language": "python",
   "name": "cnn-venv"
  },
  "language_info": {
   "codemirror_mode": {
    "name": "ipython",
    "version": 3
   },
   "file_extension": ".py",
   "mimetype": "text/x-python",
   "name": "python",
   "nbconvert_exporter": "python",
   "pygments_lexer": "ipython3",
   "version": "3.10.5"
  }
 },
 "nbformat": 4,
 "nbformat_minor": 5
}
